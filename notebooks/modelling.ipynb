{
 "cells": [
  {
   "cell_type": "markdown",
   "metadata": {},
   "source": [
    "# Modelling\n",
    "\n",
    "The main objectives for this notebook are:\n",
    "* To develop a model that will satisfiy our modelling objective\n",
    "* To properly evaluate the developed model\n",
    "* To have a trained model ready for deployment\n",
    "\n",
    "\n",
    "## good things to do\n",
    "1. Have a proper baseline\n",
    "2. Perform post-modellign steps - threshold selection, explainability, false positives / false negatives\n",
    "3. Use MLFlow for experiment tracking\n",
    "4. Build an ML training pipeline using Kedro/ZenML/Metaflow/etc\n"
   ]
  },
  {
   "cell_type": "code",
   "execution_count": 1,
   "metadata": {},
   "outputs": [],
   "source": [
    "import os\n",
    "import sys\n",
    "import warnings\n",
    "\n",
    "import joblib\n",
    "import mlflow\n",
    "import numpy as np\n",
    "import plotly.express as px\n",
    "import polars as pl\n",
    "import shap\n",
    "from optuna.integration.mlflow import MLflowCallback\n",
    "from sklearn.ensemble import HistGradientBoostingClassifier\n",
    "from sklearn.metrics import average_precision_score, roc_auc_score\n",
    "from sklearn.model_selection import cross_val_score, train_test_split"
   ]
  },
  {
   "cell_type": "code",
   "execution_count": 2,
   "metadata": {},
   "outputs": [],
   "source": [
    "# Path needs to be added manually to read from another folder\n",
    "path2add = os.path.normpath(\n",
    "    os.path.abspath(os.path.join(os.path.dirname(\"__file__\"), os.path.pardir, \"utils\"))\n",
    ")\n",
    "if  (path2add not in sys.path):\n",
    "    sys.path.append(path2add)\n",
    "\n",
    "from ml_util_funcs import evaluate_thresholds, tune_hgbt"
   ]
  },
  {
   "cell_type": "code",
   "execution_count": 3,
   "metadata": {},
   "outputs": [],
   "source": [
    "warnings.filterwarnings(\"ignore\")\n",
    "mlflow.set_tracking_uri(\"sqlite:///mlflow.db\")\n",
    "mlflow.set_experiment(\"api_anomaly\")\n",
    "mlflow.sklearn.autolog(disable=True)"
   ]
  },
  {
   "cell_type": "markdown",
   "metadata": {},
   "source": [
    "## Read Data"
   ]
  },
  {
   "cell_type": "code",
   "execution_count": 4,
   "metadata": {},
   "outputs": [
    {
     "data": {
      "text/html": [
       "<div><style>\n",
       ".dataframe > thead > tr,\n",
       ".dataframe > tbody > tr {\n",
       "  text-align: right;\n",
       "  white-space: pre-wrap;\n",
       "}\n",
       "</style>\n",
       "<small>shape: (3, 22)</small><table border=\"1\" class=\"dataframe\"><thead><tr><th></th><th>_id</th><th>inter_api_access_duration(sec)</th><th>api_access_uniqueness</th><th>sequence_length(count)</th><th>vsession_duration(min)</th><th>ip_type</th><th>num_sessions</th><th>num_users</th><th>num_unique_apis</th><th>source</th><th>classification</th><th>is_anomaly</th><th>max_global_source_degrees</th><th>avg_global_source_degrees</th><th>min_global_dest_degrees</th><th>std_local_source_degrees</th><th>max_global_dest_degrees</th><th>min_global_source_degrees</th><th>std_global_source_degrees</th><th>n_connections</th><th>avg_global_dest_degrees</th></tr><tr><td>i64</td><td>str</td><td>f64</td><td>f64</td><td>f64</td><td>i64</td><td>str</td><td>f64</td><td>f64</td><td>f64</td><td>str</td><td>str</td><td>bool</td><td>u32</td><td>f64</td><td>u32</td><td>f64</td><td>u32</td><td>u32</td><td>f64</td><td>u32</td><td>f64</td></tr></thead><tbody><tr><td>264</td><td>&quot;54619a66-49c6-3b20-ad0c-5d28d9…</td><td>0.000707</td><td>0.006075</td><td>17.447005</td><td>161</td><td>&quot;default&quot;</td><td>307.0</td><td>217.0</td><td>23.0</td><td>&quot;E&quot;</td><td>&quot;normal&quot;</td><td>false</td><td>32071</td><td>5608.6875</td><td>147</td><td>2.448899</td><td>22416</td><td>188</td><td>9217.077236</td><td>112</td><td>4725.723214</td></tr><tr><td>760</td><td>&quot;dfa7fdcd-aa09-31e5-80ac-d1d11d…</td><td>0.001211</td><td>0.018717</td><td>11.359813</td><td>354</td><td>&quot;default&quot;</td><td>586.0</td><td>428.0</td><td>91.0</td><td>&quot;E&quot;</td><td>&quot;normal&quot;</td><td>false</td><td>32071</td><td>6797.56044</td><td>65</td><td>6.5931</td><td>22416</td><td>79</td><td>8604.982975</td><td>273</td><td>8335.622711</td></tr><tr><td>649</td><td>&quot;1208e47e-3aca-37ba-936c-e088d8…</td><td>0.007887</td><td>0.020075</td><td>74.945946</td><td>3937</td><td>&quot;default&quot;</td><td>128.0</td><td>111.0</td><td>167.0</td><td>&quot;E&quot;</td><td>&quot;normal&quot;</td><td>false</td><td>32071</td><td>4713.2257</td><td>3</td><td>11.024377</td><td>22416</td><td>3</td><td>7851.586129</td><td>607</td><td>5355.265239</td></tr></tbody></table></div>"
      ],
      "text/plain": [
       "shape: (3, 22)\n",
       "┌─────┬────────────┬────────────┬────────────┬───┬────────────┬────────────┬───────────┬───────────┐\n",
       "│     ┆ _id        ┆ inter_api_ ┆ api_access ┆ … ┆ min_global ┆ std_global ┆ n_connect ┆ avg_globa │\n",
       "│ --- ┆ ---        ┆ access_dur ┆ _uniquenes ┆   ┆ _source_de ┆ _source_de ┆ ions      ┆ l_dest_de │\n",
       "│ i64 ┆ str        ┆ ation(sec) ┆ s          ┆   ┆ grees      ┆ grees      ┆ ---       ┆ grees     │\n",
       "│     ┆            ┆ ---        ┆ ---        ┆   ┆ ---        ┆ ---        ┆ u32       ┆ ---       │\n",
       "│     ┆            ┆ f64        ┆ f64        ┆   ┆ u32        ┆ f64        ┆           ┆ f64       │\n",
       "╞═════╪════════════╪════════════╪════════════╪═══╪════════════╪════════════╪═══════════╪═══════════╡\n",
       "│ 264 ┆ 54619a66-4 ┆ 0.000707   ┆ 0.006075   ┆ … ┆ 188        ┆ 9217.07723 ┆ 112       ┆ 4725.7232 │\n",
       "│     ┆ 9c6-3b20-a ┆            ┆            ┆   ┆            ┆ 6          ┆           ┆ 14        │\n",
       "│     ┆ d0c-5d28d9 ┆            ┆            ┆   ┆            ┆            ┆           ┆           │\n",
       "│     ┆ …          ┆            ┆            ┆   ┆            ┆            ┆           ┆           │\n",
       "│ 760 ┆ dfa7fdcd-a ┆ 0.001211   ┆ 0.018717   ┆ … ┆ 79         ┆ 8604.98297 ┆ 273       ┆ 8335.6227 │\n",
       "│     ┆ a09-31e5-8 ┆            ┆            ┆   ┆            ┆ 5          ┆           ┆ 11        │\n",
       "│     ┆ 0ac-d1d11d ┆            ┆            ┆   ┆            ┆            ┆           ┆           │\n",
       "│     ┆ …          ┆            ┆            ┆   ┆            ┆            ┆           ┆           │\n",
       "│ 649 ┆ 1208e47e-3 ┆ 0.007887   ┆ 0.020075   ┆ … ┆ 3          ┆ 7851.58612 ┆ 607       ┆ 5355.2652 │\n",
       "│     ┆ aca-37ba-9 ┆            ┆            ┆   ┆            ┆ 9          ┆           ┆ 39        │\n",
       "│     ┆ 36c-e088d8 ┆            ┆            ┆   ┆            ┆            ┆           ┆           │\n",
       "│     ┆ …          ┆            ┆            ┆   ┆            ┆            ┆           ┆           │\n",
       "└─────┴────────────┴────────────┴────────────┴───┴────────────┴────────────┴───────────┴───────────┘"
      ]
     },
     "execution_count": 4,
     "metadata": {},
     "output_type": "execute_result"
    }
   ],
   "source": [
    "data = pl.read_parquet('../data/supervised_clean_data_w_features.parquet')\n",
    "data.sample(3)"
   ]
  },
  {
   "cell_type": "markdown",
   "metadata": {},
   "source": [
    "## Data Processing for Modelling"
   ]
  },
  {
   "cell_type": "markdown",
   "metadata": {},
   "source": [
    "Doing initial modelling, I've noticed that we can perfectly prdict outliers using the provided features which is not surprising - it's generally quite easy to replicate the results of unsupervised models in a supervised way. Hence, the modelling goal for this project has shifted from <br><br> `To develop a supervised model to classify behaviour into normal and anomalous` <br><br> to <br><br>`To develop a supervised model using the engineered features to classify behaviour into normal and anomalous` "
   ]
  },
  {
   "cell_type": "code",
   "execution_count": 5,
   "metadata": {},
   "outputs": [
    {
     "data": {
      "text/html": [
       "<div><style>\n",
       ".dataframe > thead > tr,\n",
       ".dataframe > tbody > tr {\n",
       "  text-align: right;\n",
       "  white-space: pre-wrap;\n",
       "}\n",
       "</style>\n",
       "<small>shape: (3, 10)</small><table border=\"1\" class=\"dataframe\"><thead><tr><th>is_anomaly</th><th>max_global_source_degrees</th><th>avg_global_source_degrees</th><th>min_global_dest_degrees</th><th>std_local_source_degrees</th><th>max_global_dest_degrees</th><th>min_global_source_degrees</th><th>std_global_source_degrees</th><th>n_connections</th><th>avg_global_dest_degrees</th></tr><tr><td>bool</td><td>u32</td><td>f64</td><td>u32</td><td>f64</td><td>u32</td><td>u32</td><td>f64</td><td>u32</td><td>f64</td></tr></thead><tbody><tr><td>false</td><td>596</td><td>233.272727</td><td>6</td><td>1.636657</td><td>1151</td><td>10</td><td>188.743503</td><td>44</td><td>493.136364</td></tr><tr><td>true</td><td>32071</td><td>16747.5</td><td>1023</td><td>0.0</td><td>1217</td><td>1424</td><td>21670.701523</td><td>2</td><td>1120.0</td></tr><tr><td>false</td><td>32071</td><td>4676.90776</td><td>9</td><td>21.768394</td><td>22416</td><td>8</td><td>7840.658391</td><td>1366</td><td>5066.058565</td></tr></tbody></table></div>"
      ],
      "text/plain": [
       "shape: (3, 10)\n",
       "┌───────────┬───────────┬───────────┬───────────┬───┬───────────┬───────────┬───────────┬──────────┐\n",
       "│ is_anomal ┆ max_globa ┆ avg_globa ┆ min_globa ┆ … ┆ min_globa ┆ std_globa ┆ n_connect ┆ avg_glob │\n",
       "│ y         ┆ l_source_ ┆ l_source_ ┆ l_dest_de ┆   ┆ l_source_ ┆ l_source_ ┆ ions      ┆ al_dest_ │\n",
       "│ ---       ┆ degrees   ┆ degrees   ┆ grees     ┆   ┆ degrees   ┆ degrees   ┆ ---       ┆ degrees  │\n",
       "│ bool      ┆ ---       ┆ ---       ┆ ---       ┆   ┆ ---       ┆ ---       ┆ u32       ┆ ---      │\n",
       "│           ┆ u32       ┆ f64       ┆ u32       ┆   ┆ u32       ┆ f64       ┆           ┆ f64      │\n",
       "╞═══════════╪═══════════╪═══════════╪═══════════╪═══╪═══════════╪═══════════╪═══════════╪══════════╡\n",
       "│ false     ┆ 596       ┆ 233.27272 ┆ 6         ┆ … ┆ 10        ┆ 188.74350 ┆ 44        ┆ 493.1363 │\n",
       "│           ┆           ┆ 7         ┆           ┆   ┆           ┆ 3         ┆           ┆ 64       │\n",
       "│ true      ┆ 32071     ┆ 16747.5   ┆ 1023      ┆ … ┆ 1424      ┆ 21670.701 ┆ 2         ┆ 1120.0   │\n",
       "│           ┆           ┆           ┆           ┆   ┆           ┆ 523       ┆           ┆          │\n",
       "│ false     ┆ 32071     ┆ 4676.9077 ┆ 9         ┆ … ┆ 8         ┆ 7840.6583 ┆ 1366      ┆ 5066.058 │\n",
       "│           ┆           ┆ 6         ┆           ┆   ┆           ┆ 91        ┆           ┆ 565      │\n",
       "└───────────┴───────────┴───────────┴───────────┴───┴───────────┴───────────┴───────────┴──────────┘"
      ]
     },
     "execution_count": 5,
     "metadata": {},
     "output_type": "execute_result"
    }
   ],
   "source": [
    "label = \"is_anomaly\"\n",
    "numerical_features = [\n",
    "    \"max_global_source_degrees\",\n",
    "    \"avg_global_source_degrees\",\n",
    "    \"min_global_dest_degrees\",\n",
    "    \"std_local_source_degrees\",\n",
    "    \"max_global_dest_degrees\",\n",
    "    \"min_global_source_degrees\",\n",
    "    \"std_global_source_degrees\",\n",
    "    \"n_connections\",\n",
    "    \"avg_global_dest_degrees\",\n",
    "]\n",
    "\n",
    "data = data.filter(pl.col('ip_type') == 'default').select([label] + numerical_features) # \n",
    "data.sample(3)"
   ]
  },
  {
   "cell_type": "code",
   "execution_count": null,
   "metadata": {},
   "outputs": [
    {
     "name": "stdout",
     "output_type": "stream",
     "text": [
      "[UInt32, Float64, UInt32, Float64, UInt32, UInt32, Float64, UInt32, Float64]\n",
      "[False, True, False, False, False, False, False, True, False, False, False, False, False, False, False, False, False, False, False, True, False, False, False, False, True, True, False, False, True, True, False, True, True, False, True, False, False, True, False, True, False, True, False, False, False, False, True, True, False, True, False, True, True, False, False, False, True, False, False, True, False, False, False, True, False, True, True, False, False, False, False, False, True, False, False, True, False, False, False, False, False, False, False, True, False, False, False, False, False, True, False, False, False, True, False, False, False, False, True, False, False, False, True, False, True, False, False, False, True, True, True, False, True, False, False, False, True, True, False, False, True, False, True, False, False, True, False, False, False, False, False, True, True, True, True, False, False, True, True, False, False, True, True, False, False, False, True, False, False, False, False, False, True, False, True, False, True, False, False, False, False, False, False, False, False, True, False, False, False, False, False, True, False, True, True, False, False, False, False, False, False, False, False, False, True, True, False, True, True, False, False, False, False, False, False, False, False, False, True, False, False, False, True, True, False, False, False, False, True, False, False, True, False, True, False, True, False, False, False, False, True, False, False, True, False, False, False, True, False, True, False, False, False, True, True, False, False, False, True, False, True, False, False, True, False, False, True, True, False, True, True, True, False, False, False, False, False, False, False, True, True, False, False, True, True, False, False, False, False, True, False, False, True, False, True, False, True, False, True, True, False, False, True, False, True, False, False, True, False, False, True, False, False, False, True, True, True, True, False, False, False, False, False, True, False, False, False, True, True]\n"
     ]
    }
   ],
   "source": [
    "X_train, X_test, y_train, y_test = train_test_split(data[numerical_features], data[label].to_list(), test_size=0.2)"
   ]
  },
  {
   "cell_type": "code",
   "execution_count": 7,
   "metadata": {},
   "outputs": [
    {
     "name": "stdout",
     "output_type": "stream",
     "text": [
      "Train shape:  (1233, 9)\n",
      "Test shape:: (309, 9)\n"
     ]
    }
   ],
   "source": [
    "print(\"Train shape: \", X_train.shape)\n",
    "print(\"Test shape::\", X_test.shape)"
   ]
  },
  {
   "cell_type": "markdown",
   "metadata": {},
   "source": [
    "## Baseline\n",
    "Before building a model, we need to understand whether the problem can be solved without using ML. "
   ]
  },
  {
   "cell_type": "code",
   "execution_count": 8,
   "metadata": {},
   "outputs": [],
   "source": [
    "from sklearn.metrics import f1_score\n",
    "\n",
    "heuristic_f1_scores = []\n",
    "possible_values = X_train['n_connections'].sort().unique().to_list()\n",
    "for v in possible_values:\n",
    "    heuristic_pred = X_test.select(pl.col('n_connections') <= v).to_pandas()\n",
    "    heuristic_f1_scores.append(f1_score(y_test, heuristic_pred))"
   ]
  },
  {
   "cell_type": "code",
   "execution_count": 9,
   "metadata": {},
   "outputs": [
    {
     "data": {
      "application/vnd.plotly.v1+json": {
       "config": {
        "plotlyServerURL": "https://plot.ly"
       },
       "data": [
        {
         "hovertemplate": "Number of Connections Threshold=%{x}<br>F1 Score=%{y}<extra></extra>",
         "legendgroup": "",
         "line": {
          "color": "#636efa",
          "dash": "solid"
         },
         "marker": {
          "symbol": "circle"
         },
         "mode": "lines",
         "name": "",
         "orientation": "v",
         "showlegend": false,
         "type": "scatter",
         "x": [
          1,
          2,
          3,
          4,
          5,
          6,
          7,
          8,
          9,
          10,
          11,
          12,
          13,
          14,
          15,
          16,
          17,
          18,
          19,
          20,
          21,
          22,
          23,
          24,
          25,
          26,
          27,
          28,
          29,
          30,
          31,
          32,
          33,
          34,
          35,
          36,
          37,
          38,
          39,
          40,
          41,
          42,
          43,
          44,
          45,
          46,
          47,
          48,
          49,
          50,
          51,
          52,
          53,
          54,
          55,
          56,
          57,
          58,
          59,
          60,
          61,
          62,
          63,
          64,
          65,
          66,
          67,
          68,
          69,
          70,
          71,
          72,
          73,
          74,
          75,
          76,
          78,
          79,
          80,
          81,
          82,
          83,
          84,
          85,
          86,
          87,
          88,
          89,
          90,
          91,
          92,
          93,
          94,
          95,
          96,
          97,
          98,
          99,
          100,
          101,
          102,
          103,
          104,
          105,
          106,
          107,
          108,
          109,
          110,
          111,
          112,
          113,
          114,
          115,
          117,
          118,
          119,
          121,
          122,
          123,
          124,
          125,
          126,
          127,
          128,
          129,
          130,
          131,
          132,
          133,
          134,
          135,
          136,
          137,
          138,
          139,
          140,
          141,
          142,
          143,
          144,
          145,
          146,
          147,
          148,
          149,
          153,
          154,
          155,
          156,
          157,
          159,
          160,
          161,
          162,
          163,
          164,
          167,
          169,
          170,
          171,
          172,
          174,
          175,
          176,
          177,
          178,
          179,
          180,
          184,
          185,
          187,
          188,
          189,
          191,
          192,
          194,
          195,
          196,
          197,
          198,
          199,
          200,
          202,
          203,
          205,
          206,
          209,
          210,
          213,
          215,
          216,
          217,
          219,
          220,
          221,
          223,
          224,
          225,
          228,
          229,
          230,
          231,
          234,
          236,
          238,
          239,
          240,
          241,
          242,
          244,
          245,
          246,
          247,
          248,
          250,
          252,
          255,
          256,
          257,
          258,
          261,
          262,
          264,
          265,
          266,
          267,
          268,
          269,
          270,
          271,
          272,
          274,
          276,
          277,
          278,
          285,
          286,
          289,
          290,
          292,
          294,
          297,
          300,
          301,
          302,
          304,
          305,
          306,
          307,
          308,
          309,
          310,
          313,
          315,
          316,
          317,
          318,
          319,
          320,
          321,
          323,
          331,
          334,
          335,
          336,
          338,
          339,
          340,
          341,
          342,
          347,
          348,
          351,
          352,
          353,
          354,
          355,
          356,
          357,
          358,
          361,
          366,
          368,
          373,
          374,
          375,
          378,
          380,
          381,
          382,
          384,
          387,
          388,
          390,
          393,
          397,
          398,
          399,
          402,
          404,
          405,
          407,
          409,
          410,
          414,
          415,
          417,
          418,
          421,
          423,
          424,
          426,
          431,
          438,
          440,
          442,
          444,
          450,
          452,
          454,
          456,
          457,
          459,
          461,
          463,
          465,
          467,
          471,
          474,
          477,
          480,
          481,
          483,
          484,
          486,
          487,
          488,
          489,
          490,
          493,
          499,
          500,
          501,
          503,
          504,
          505,
          511,
          512,
          517,
          521,
          523,
          524,
          525,
          529,
          531,
          533,
          540,
          542,
          552,
          553,
          559,
          560,
          562,
          563,
          571,
          573,
          574,
          578,
          580,
          582,
          586,
          590,
          592,
          594,
          603,
          607,
          608,
          610,
          615,
          616,
          619,
          626,
          627,
          628,
          630,
          638,
          642,
          648,
          649,
          652,
          654,
          659,
          660,
          663,
          675,
          680,
          683,
          685,
          688,
          694,
          702,
          703,
          704,
          718,
          719,
          726,
          731,
          736,
          766,
          767,
          774,
          782,
          785,
          786,
          791,
          797,
          800,
          803,
          829,
          835,
          842,
          846,
          860,
          866,
          868,
          886,
          912,
          915,
          917,
          936,
          938,
          973,
          1004,
          1007,
          1009,
          1019,
          1026,
          1031,
          1041,
          1043,
          1074,
          1084,
          1086,
          1088,
          1096,
          1099,
          1103,
          1104,
          1115,
          1122,
          1124,
          1136,
          1152,
          1165,
          1171,
          1173,
          1199,
          1234,
          1237,
          1238,
          1270,
          1271,
          1272,
          1280,
          1289,
          1291,
          1295,
          1301,
          1310,
          1314,
          1317,
          1318,
          1323,
          1351,
          1363,
          1376,
          1380,
          1431,
          1465,
          1498,
          1572,
          1589,
          1621,
          1749,
          1775,
          1809,
          1876,
          1893,
          2104,
          2271,
          2367,
          2396,
          2520,
          2590,
          2614,
          2662,
          2703,
          2718,
          2787,
          2821,
          2875,
          2912,
          3019,
          3070,
          3218,
          3280
         ],
         "xaxis": "x",
         "y": [
          0.05194805194805195,
          0.3655913978494624,
          0.3958333333333333,
          0.4444444444444444,
          0.44,
          0.47619047619047616,
          0.5321100917431193,
          0.5585585585585585,
          0.5486725663716814,
          0.6050420168067226,
          0.628099173553719,
          0.672,
          0.65625,
          0.65625,
          0.65625,
          0.676923076923077,
          0.6717557251908397,
          0.6818181818181818,
          0.6865671641791045,
          0.6814814814814815,
          0.6814814814814815,
          0.6764705882352942,
          0.6666666666666666,
          0.6713286713286714,
          0.6713286713286714,
          0.6805555555555556,
          0.6805555555555556,
          0.6712328767123288,
          0.6756756756756757,
          0.6845637583892618,
          0.68,
          0.68,
          0.6710526315789473,
          0.6797385620915033,
          0.6666666666666666,
          0.6666666666666666,
          0.6666666666666666,
          0.6835443037974683,
          0.6875,
          0.6832298136645962,
          0.6871165644171779,
          0.6829268292682927,
          0.6829268292682927,
          0.6829268292682927,
          0.6829268292682927,
          0.6987951807228916,
          0.7065868263473054,
          0.7023809523809523,
          0.6941176470588235,
          0.6941176470588235,
          0.686046511627907,
          0.6936416184971098,
          0.6857142857142857,
          0.6857142857142857,
          0.6741573033707865,
          0.6741573033707865,
          0.6703910614525139,
          0.6703910614525139,
          0.6629834254143646,
          0.6666666666666666,
          0.6524064171122995,
          0.648936170212766,
          0.6455026455026455,
          0.6455026455026455,
          0.6421052631578947,
          0.6387434554973822,
          0.6387434554973822,
          0.6387434554973822,
          0.6387434554973822,
          0.6387434554973822,
          0.6387434554973822,
          0.6387434554973822,
          0.6387434554973822,
          0.6321243523316062,
          0.6321243523316062,
          0.6321243523316062,
          0.6358974358974359,
          0.6294416243654822,
          0.6294416243654822,
          0.6294416243654822,
          0.6294416243654822,
          0.6262626262626263,
          0.6262626262626263,
          0.6231155778894473,
          0.62,
          0.6138613861386139,
          0.6206896551724138,
          0.6206896551724138,
          0.6206896551724138,
          0.6206896551724138,
          0.6206896551724138,
          0.6176470588235294,
          0.6146341463414634,
          0.6146341463414634,
          0.6146341463414634,
          0.6116504854368932,
          0.6116504854368932,
          0.6086956521739131,
          0.6086956521739131,
          0.6086956521739131,
          0.6153846153846154,
          0.6153846153846154,
          0.6124401913875598,
          0.6095238095238096,
          0.6095238095238096,
          0.6066350710900474,
          0.6066350710900474,
          0.6037735849056604,
          0.6037735849056604,
          0.6037735849056604,
          0.6103286384976526,
          0.6103286384976526,
          0.6103286384976526,
          0.6103286384976526,
          0.6103286384976526,
          0.6074766355140186,
          0.6074766355140186,
          0.6046511627906976,
          0.6046511627906976,
          0.6018518518518519,
          0.6018518518518519,
          0.6018518518518519,
          0.5990783410138248,
          0.5990783410138248,
          0.5990783410138248,
          0.5963302752293578,
          0.593607305936073,
          0.593607305936073,
          0.5882352941176471,
          0.5855855855855856,
          0.5829596412556054,
          0.5829596412556054,
          0.5803571428571429,
          0.5777777777777777,
          0.5777777777777777,
          0.5701754385964912,
          0.5701754385964912,
          0.5701754385964912,
          0.5676855895196506,
          0.5676855895196506,
          0.5689655172413793,
          0.5665236051502146,
          0.5665236051502146,
          0.5665236051502146,
          0.5617021276595745,
          0.5617021276595745,
          0.5677966101694916,
          0.5677966101694916,
          0.5654008438818565,
          0.5654008438818565,
          0.5654008438818565,
          0.5714285714285714,
          0.5714285714285714,
          0.5690376569037657,
          0.5666666666666667,
          0.5666666666666667,
          0.5643153526970954,
          0.5596707818930041,
          0.5596707818930041,
          0.563265306122449,
          0.5609756097560976,
          0.5725806451612904,
          0.5725806451612904,
          0.5725806451612904,
          0.5725806451612904,
          0.5725806451612904,
          0.570281124497992,
          0.570281124497992,
          0.570281124497992,
          0.570281124497992,
          0.570281124497992,
          0.5657370517928287,
          0.5634920634920635,
          0.5634920634920635,
          0.5634920634920635,
          0.5634920634920635,
          0.5634920634920635,
          0.5691699604743083,
          0.5691699604743083,
          0.5669291338582677,
          0.5669291338582677,
          0.5669291338582677,
          0.5669291338582677,
          0.5669291338582677,
          0.5669291338582677,
          0.5669291338582677,
          0.5647058823529412,
          0.5625,
          0.5625,
          0.5625,
          0.5581395348837209,
          0.5581395348837209,
          0.555984555984556,
          0.5538461538461539,
          0.5538461538461539,
          0.5538461538461539,
          0.5538461538461539,
          0.5538461538461539,
          0.5538461538461539,
          0.5538461538461539,
          0.5538461538461539,
          0.5538461538461539,
          0.5538461538461539,
          0.5517241379310345,
          0.5517241379310345,
          0.5475285171102662,
          0.5454545454545454,
          0.5433962264150943,
          0.5433962264150943,
          0.5433962264150943,
          0.5393258426966292,
          0.5353159851301115,
          0.5353159851301115,
          0.5353159851301115,
          0.5353159851301115,
          0.5353159851301115,
          0.5294117647058824,
          0.5274725274725275,
          0.5255474452554745,
          0.5255474452554745,
          0.5255474452554745,
          0.5217391304347826,
          0.5217391304347826,
          0.5217391304347826,
          0.5217391304347826,
          0.5217391304347826,
          0.5217391304347826,
          0.5217391304347826,
          0.5217391304347826,
          0.51985559566787,
          0.51985559566787,
          0.51985559566787,
          0.5142857142857142,
          0.5229681978798587,
          0.519298245614035,
          0.5156794425087108,
          0.5156794425087108,
          0.5138888888888888,
          0.5138888888888888,
          0.5138888888888888,
          0.5138888888888888,
          0.5068493150684932,
          0.5051194539249146,
          0.5051194539249146,
          0.5051194539249146,
          0.5051194539249146,
          0.5034013605442177,
          0.5034013605442177,
          0.5034013605442177,
          0.5034013605442177,
          0.5034013605442177,
          0.5016949152542373,
          0.5016949152542373,
          0.5,
          0.4983164983164983,
          0.4983164983164983,
          0.4983164983164983,
          0.4966442953020134,
          0.49498327759197325,
          0.49498327759197325,
          0.49498327759197325,
          0.49498327759197325,
          0.49333333333333335,
          0.49169435215946844,
          0.49169435215946844,
          0.49169435215946844,
          0.49169435215946844,
          0.49169435215946844,
          0.49169435215946844,
          0.49169435215946844,
          0.4900662251655629,
          0.4900662251655629,
          0.4900662251655629,
          0.4900662251655629,
          0.4900662251655629,
          0.4900662251655629,
          0.4900662251655629,
          0.4900662251655629,
          0.4900662251655629,
          0.4900662251655629,
          0.4900662251655629,
          0.4900662251655629,
          0.4868421052631579,
          0.49019607843137253,
          0.48859934853420195,
          0.48859934853420195,
          0.487012987012987,
          0.4838709677419355,
          0.4838709677419355,
          0.4838709677419355,
          0.4838709677419355,
          0.48231511254019294,
          0.48231511254019294,
          0.48231511254019294,
          0.48231511254019294,
          0.48231511254019294,
          0.48231511254019294,
          0.48231511254019294,
          0.4807692307692308,
          0.4807692307692308,
          0.4807692307692308,
          0.4807692307692308,
          0.4807692307692308,
          0.4792332268370607,
          0.4792332268370607,
          0.47770700636942676,
          0.47619047619047616,
          0.47619047619047616,
          0.47619047619047616,
          0.47468354430379744,
          0.4716981132075472,
          0.4716981132075472,
          0.4716981132075472,
          0.46875,
          0.46439628482972134,
          0.46439628482972134,
          0.46439628482972134,
          0.46296296296296297,
          0.46296296296296297,
          0.46296296296296297,
          0.46296296296296297,
          0.46296296296296297,
          0.46296296296296297,
          0.46296296296296297,
          0.46296296296296297,
          0.46296296296296297,
          0.46296296296296297,
          0.46296296296296297,
          0.46153846153846156,
          0.46153846153846156,
          0.4601226993865031,
          0.45871559633027525,
          0.4573170731707317,
          0.45592705167173253,
          0.45592705167173253,
          0.45592705167173253,
          0.45592705167173253,
          0.45592705167173253,
          0.45592705167173253,
          0.45592705167173253,
          0.45592705167173253,
          0.45592705167173253,
          0.45592705167173253,
          0.45592705167173253,
          0.45592705167173253,
          0.45592705167173253,
          0.45454545454545453,
          0.45180722891566266,
          0.45045045045045046,
          0.45045045045045046,
          0.4491017964071856,
          0.44776119402985076,
          0.44776119402985076,
          0.44776119402985076,
          0.44776119402985076,
          0.44776119402985076,
          0.44776119402985076,
          0.4437869822485207,
          0.4437869822485207,
          0.4424778761061947,
          0.4411764705882353,
          0.4398826979472141,
          0.4398826979472141,
          0.4398826979472141,
          0.4398826979472141,
          0.4398826979472141,
          0.4398826979472141,
          0.4398826979472141,
          0.4398826979472141,
          0.43859649122807015,
          0.43859649122807015,
          0.43859649122807015,
          0.43859649122807015,
          0.43859649122807015,
          0.43859649122807015,
          0.43731778425655976,
          0.43731778425655976,
          0.43731778425655976,
          0.43731778425655976,
          0.43731778425655976,
          0.43731778425655976,
          0.43731778425655976,
          0.43731778425655976,
          0.43731778425655976,
          0.43731778425655976,
          0.43731778425655976,
          0.43478260869565216,
          0.43478260869565216,
          0.43478260869565216,
          0.43478260869565216,
          0.43478260869565216,
          0.43478260869565216,
          0.43352601156069365,
          0.43352601156069365,
          0.43352601156069365,
          0.43103448275862066,
          0.4297994269340974,
          0.4297994269340974,
          0.4297994269340974,
          0.4297994269340974,
          0.4297994269340974,
          0.4297994269340974,
          0.4297994269340974,
          0.4297994269340974,
          0.42857142857142855,
          0.42857142857142855,
          0.42857142857142855,
          0.42857142857142855,
          0.42857142857142855,
          0.42492917847025496,
          0.42492917847025496,
          0.42492917847025496,
          0.4225352112676056,
          0.4225352112676056,
          0.4225352112676056,
          0.4225352112676056,
          0.42016806722689076,
          0.42016806722689076,
          0.42016806722689076,
          0.41899441340782123,
          0.41899441340782123,
          0.41899441340782123,
          0.4178272980501393,
          0.4178272980501393,
          0.4178272980501393,
          0.4178272980501393,
          0.4166666666666667,
          0.4143646408839779,
          0.4143646408839779,
          0.4143646408839779,
          0.4143646408839779,
          0.4143646408839779,
          0.4132231404958678,
          0.410958904109589,
          0.410958904109589,
          0.410958904109589,
          0.410958904109589,
          0.4098360655737705,
          0.4098360655737705,
          0.4087193460490463,
          0.4087193460490463,
          0.4087193460490463,
          0.4087193460490463,
          0.4087193460490463,
          0.4087193460490463,
          0.4087193460490463,
          0.4087193460490463,
          0.4087193460490463,
          0.4087193460490463,
          0.4076086956521739,
          0.40540540540540543,
          0.40540540540540543,
          0.40540540540540543,
          0.40431266846361186,
          0.40431266846361186,
          0.40431266846361186,
          0.4032258064516129,
          0.40214477211796246,
          0.40106951871657753,
          0.40106951871657753,
          0.40106951871657753,
          0.4,
          0.4,
          0.4,
          0.4,
          0.4,
          0.4,
          0.4,
          0.4,
          0.4,
          0.39893617021276595,
          0.39893617021276595,
          0.39893617021276595,
          0.39893617021276595,
          0.39893617021276595,
          0.39893617021276595,
          0.3978779840848806,
          0.3978779840848806,
          0.3968253968253968,
          0.39577836411609496,
          0.39577836411609496,
          0.39577836411609496,
          0.39577836411609496,
          0.39577836411609496,
          0.39473684210526316,
          0.39473684210526316,
          0.39473684210526316,
          0.39473684210526316,
          0.39473684210526316,
          0.3937007874015748,
          0.3937007874015748,
          0.3937007874015748,
          0.3937007874015748,
          0.39267015706806285,
          0.391644908616188,
          0.391644908616188,
          0.391644908616188,
          0.390625,
          0.390625,
          0.390625,
          0.390625,
          0.390625,
          0.390625,
          0.390625,
          0.390625,
          0.390625,
          0.390625
         ],
         "yaxis": "y"
        }
       ],
       "layout": {
        "legend": {
         "tracegroupgap": 0
        },
        "template": {
         "data": {
          "bar": [
           {
            "error_x": {
             "color": "#2a3f5f"
            },
            "error_y": {
             "color": "#2a3f5f"
            },
            "marker": {
             "line": {
              "color": "#E5ECF6",
              "width": 0.5
             },
             "pattern": {
              "fillmode": "overlay",
              "size": 10,
              "solidity": 0.2
             }
            },
            "type": "bar"
           }
          ],
          "barpolar": [
           {
            "marker": {
             "line": {
              "color": "#E5ECF6",
              "width": 0.5
             },
             "pattern": {
              "fillmode": "overlay",
              "size": 10,
              "solidity": 0.2
             }
            },
            "type": "barpolar"
           }
          ],
          "carpet": [
           {
            "aaxis": {
             "endlinecolor": "#2a3f5f",
             "gridcolor": "white",
             "linecolor": "white",
             "minorgridcolor": "white",
             "startlinecolor": "#2a3f5f"
            },
            "baxis": {
             "endlinecolor": "#2a3f5f",
             "gridcolor": "white",
             "linecolor": "white",
             "minorgridcolor": "white",
             "startlinecolor": "#2a3f5f"
            },
            "type": "carpet"
           }
          ],
          "choropleth": [
           {
            "colorbar": {
             "outlinewidth": 0,
             "ticks": ""
            },
            "type": "choropleth"
           }
          ],
          "contour": [
           {
            "colorbar": {
             "outlinewidth": 0,
             "ticks": ""
            },
            "colorscale": [
             [
              0,
              "#0d0887"
             ],
             [
              0.1111111111111111,
              "#46039f"
             ],
             [
              0.2222222222222222,
              "#7201a8"
             ],
             [
              0.3333333333333333,
              "#9c179e"
             ],
             [
              0.4444444444444444,
              "#bd3786"
             ],
             [
              0.5555555555555556,
              "#d8576b"
             ],
             [
              0.6666666666666666,
              "#ed7953"
             ],
             [
              0.7777777777777778,
              "#fb9f3a"
             ],
             [
              0.8888888888888888,
              "#fdca26"
             ],
             [
              1,
              "#f0f921"
             ]
            ],
            "type": "contour"
           }
          ],
          "contourcarpet": [
           {
            "colorbar": {
             "outlinewidth": 0,
             "ticks": ""
            },
            "type": "contourcarpet"
           }
          ],
          "heatmap": [
           {
            "colorbar": {
             "outlinewidth": 0,
             "ticks": ""
            },
            "colorscale": [
             [
              0,
              "#0d0887"
             ],
             [
              0.1111111111111111,
              "#46039f"
             ],
             [
              0.2222222222222222,
              "#7201a8"
             ],
             [
              0.3333333333333333,
              "#9c179e"
             ],
             [
              0.4444444444444444,
              "#bd3786"
             ],
             [
              0.5555555555555556,
              "#d8576b"
             ],
             [
              0.6666666666666666,
              "#ed7953"
             ],
             [
              0.7777777777777778,
              "#fb9f3a"
             ],
             [
              0.8888888888888888,
              "#fdca26"
             ],
             [
              1,
              "#f0f921"
             ]
            ],
            "type": "heatmap"
           }
          ],
          "heatmapgl": [
           {
            "colorbar": {
             "outlinewidth": 0,
             "ticks": ""
            },
            "colorscale": [
             [
              0,
              "#0d0887"
             ],
             [
              0.1111111111111111,
              "#46039f"
             ],
             [
              0.2222222222222222,
              "#7201a8"
             ],
             [
              0.3333333333333333,
              "#9c179e"
             ],
             [
              0.4444444444444444,
              "#bd3786"
             ],
             [
              0.5555555555555556,
              "#d8576b"
             ],
             [
              0.6666666666666666,
              "#ed7953"
             ],
             [
              0.7777777777777778,
              "#fb9f3a"
             ],
             [
              0.8888888888888888,
              "#fdca26"
             ],
             [
              1,
              "#f0f921"
             ]
            ],
            "type": "heatmapgl"
           }
          ],
          "histogram": [
           {
            "marker": {
             "pattern": {
              "fillmode": "overlay",
              "size": 10,
              "solidity": 0.2
             }
            },
            "type": "histogram"
           }
          ],
          "histogram2d": [
           {
            "colorbar": {
             "outlinewidth": 0,
             "ticks": ""
            },
            "colorscale": [
             [
              0,
              "#0d0887"
             ],
             [
              0.1111111111111111,
              "#46039f"
             ],
             [
              0.2222222222222222,
              "#7201a8"
             ],
             [
              0.3333333333333333,
              "#9c179e"
             ],
             [
              0.4444444444444444,
              "#bd3786"
             ],
             [
              0.5555555555555556,
              "#d8576b"
             ],
             [
              0.6666666666666666,
              "#ed7953"
             ],
             [
              0.7777777777777778,
              "#fb9f3a"
             ],
             [
              0.8888888888888888,
              "#fdca26"
             ],
             [
              1,
              "#f0f921"
             ]
            ],
            "type": "histogram2d"
           }
          ],
          "histogram2dcontour": [
           {
            "colorbar": {
             "outlinewidth": 0,
             "ticks": ""
            },
            "colorscale": [
             [
              0,
              "#0d0887"
             ],
             [
              0.1111111111111111,
              "#46039f"
             ],
             [
              0.2222222222222222,
              "#7201a8"
             ],
             [
              0.3333333333333333,
              "#9c179e"
             ],
             [
              0.4444444444444444,
              "#bd3786"
             ],
             [
              0.5555555555555556,
              "#d8576b"
             ],
             [
              0.6666666666666666,
              "#ed7953"
             ],
             [
              0.7777777777777778,
              "#fb9f3a"
             ],
             [
              0.8888888888888888,
              "#fdca26"
             ],
             [
              1,
              "#f0f921"
             ]
            ],
            "type": "histogram2dcontour"
           }
          ],
          "mesh3d": [
           {
            "colorbar": {
             "outlinewidth": 0,
             "ticks": ""
            },
            "type": "mesh3d"
           }
          ],
          "parcoords": [
           {
            "line": {
             "colorbar": {
              "outlinewidth": 0,
              "ticks": ""
             }
            },
            "type": "parcoords"
           }
          ],
          "pie": [
           {
            "automargin": true,
            "type": "pie"
           }
          ],
          "scatter": [
           {
            "fillpattern": {
             "fillmode": "overlay",
             "size": 10,
             "solidity": 0.2
            },
            "type": "scatter"
           }
          ],
          "scatter3d": [
           {
            "line": {
             "colorbar": {
              "outlinewidth": 0,
              "ticks": ""
             }
            },
            "marker": {
             "colorbar": {
              "outlinewidth": 0,
              "ticks": ""
             }
            },
            "type": "scatter3d"
           }
          ],
          "scattercarpet": [
           {
            "marker": {
             "colorbar": {
              "outlinewidth": 0,
              "ticks": ""
             }
            },
            "type": "scattercarpet"
           }
          ],
          "scattergeo": [
           {
            "marker": {
             "colorbar": {
              "outlinewidth": 0,
              "ticks": ""
             }
            },
            "type": "scattergeo"
           }
          ],
          "scattergl": [
           {
            "marker": {
             "colorbar": {
              "outlinewidth": 0,
              "ticks": ""
             }
            },
            "type": "scattergl"
           }
          ],
          "scattermapbox": [
           {
            "marker": {
             "colorbar": {
              "outlinewidth": 0,
              "ticks": ""
             }
            },
            "type": "scattermapbox"
           }
          ],
          "scatterpolar": [
           {
            "marker": {
             "colorbar": {
              "outlinewidth": 0,
              "ticks": ""
             }
            },
            "type": "scatterpolar"
           }
          ],
          "scatterpolargl": [
           {
            "marker": {
             "colorbar": {
              "outlinewidth": 0,
              "ticks": ""
             }
            },
            "type": "scatterpolargl"
           }
          ],
          "scatterternary": [
           {
            "marker": {
             "colorbar": {
              "outlinewidth": 0,
              "ticks": ""
             }
            },
            "type": "scatterternary"
           }
          ],
          "surface": [
           {
            "colorbar": {
             "outlinewidth": 0,
             "ticks": ""
            },
            "colorscale": [
             [
              0,
              "#0d0887"
             ],
             [
              0.1111111111111111,
              "#46039f"
             ],
             [
              0.2222222222222222,
              "#7201a8"
             ],
             [
              0.3333333333333333,
              "#9c179e"
             ],
             [
              0.4444444444444444,
              "#bd3786"
             ],
             [
              0.5555555555555556,
              "#d8576b"
             ],
             [
              0.6666666666666666,
              "#ed7953"
             ],
             [
              0.7777777777777778,
              "#fb9f3a"
             ],
             [
              0.8888888888888888,
              "#fdca26"
             ],
             [
              1,
              "#f0f921"
             ]
            ],
            "type": "surface"
           }
          ],
          "table": [
           {
            "cells": {
             "fill": {
              "color": "#EBF0F8"
             },
             "line": {
              "color": "white"
             }
            },
            "header": {
             "fill": {
              "color": "#C8D4E3"
             },
             "line": {
              "color": "white"
             }
            },
            "type": "table"
           }
          ]
         },
         "layout": {
          "annotationdefaults": {
           "arrowcolor": "#2a3f5f",
           "arrowhead": 0,
           "arrowwidth": 1
          },
          "autotypenumbers": "strict",
          "coloraxis": {
           "colorbar": {
            "outlinewidth": 0,
            "ticks": ""
           }
          },
          "colorscale": {
           "diverging": [
            [
             0,
             "#8e0152"
            ],
            [
             0.1,
             "#c51b7d"
            ],
            [
             0.2,
             "#de77ae"
            ],
            [
             0.3,
             "#f1b6da"
            ],
            [
             0.4,
             "#fde0ef"
            ],
            [
             0.5,
             "#f7f7f7"
            ],
            [
             0.6,
             "#e6f5d0"
            ],
            [
             0.7,
             "#b8e186"
            ],
            [
             0.8,
             "#7fbc41"
            ],
            [
             0.9,
             "#4d9221"
            ],
            [
             1,
             "#276419"
            ]
           ],
           "sequential": [
            [
             0,
             "#0d0887"
            ],
            [
             0.1111111111111111,
             "#46039f"
            ],
            [
             0.2222222222222222,
             "#7201a8"
            ],
            [
             0.3333333333333333,
             "#9c179e"
            ],
            [
             0.4444444444444444,
             "#bd3786"
            ],
            [
             0.5555555555555556,
             "#d8576b"
            ],
            [
             0.6666666666666666,
             "#ed7953"
            ],
            [
             0.7777777777777778,
             "#fb9f3a"
            ],
            [
             0.8888888888888888,
             "#fdca26"
            ],
            [
             1,
             "#f0f921"
            ]
           ],
           "sequentialminus": [
            [
             0,
             "#0d0887"
            ],
            [
             0.1111111111111111,
             "#46039f"
            ],
            [
             0.2222222222222222,
             "#7201a8"
            ],
            [
             0.3333333333333333,
             "#9c179e"
            ],
            [
             0.4444444444444444,
             "#bd3786"
            ],
            [
             0.5555555555555556,
             "#d8576b"
            ],
            [
             0.6666666666666666,
             "#ed7953"
            ],
            [
             0.7777777777777778,
             "#fb9f3a"
            ],
            [
             0.8888888888888888,
             "#fdca26"
            ],
            [
             1,
             "#f0f921"
            ]
           ]
          },
          "colorway": [
           "#636efa",
           "#EF553B",
           "#00cc96",
           "#ab63fa",
           "#FFA15A",
           "#19d3f3",
           "#FF6692",
           "#B6E880",
           "#FF97FF",
           "#FECB52"
          ],
          "font": {
           "color": "#2a3f5f"
          },
          "geo": {
           "bgcolor": "white",
           "lakecolor": "white",
           "landcolor": "#E5ECF6",
           "showlakes": true,
           "showland": true,
           "subunitcolor": "white"
          },
          "hoverlabel": {
           "align": "left"
          },
          "hovermode": "closest",
          "mapbox": {
           "style": "light"
          },
          "paper_bgcolor": "white",
          "plot_bgcolor": "#E5ECF6",
          "polar": {
           "angularaxis": {
            "gridcolor": "white",
            "linecolor": "white",
            "ticks": ""
           },
           "bgcolor": "#E5ECF6",
           "radialaxis": {
            "gridcolor": "white",
            "linecolor": "white",
            "ticks": ""
           }
          },
          "scene": {
           "xaxis": {
            "backgroundcolor": "#E5ECF6",
            "gridcolor": "white",
            "gridwidth": 2,
            "linecolor": "white",
            "showbackground": true,
            "ticks": "",
            "zerolinecolor": "white"
           },
           "yaxis": {
            "backgroundcolor": "#E5ECF6",
            "gridcolor": "white",
            "gridwidth": 2,
            "linecolor": "white",
            "showbackground": true,
            "ticks": "",
            "zerolinecolor": "white"
           },
           "zaxis": {
            "backgroundcolor": "#E5ECF6",
            "gridcolor": "white",
            "gridwidth": 2,
            "linecolor": "white",
            "showbackground": true,
            "ticks": "",
            "zerolinecolor": "white"
           }
          },
          "shapedefaults": {
           "line": {
            "color": "#2a3f5f"
           }
          },
          "ternary": {
           "aaxis": {
            "gridcolor": "white",
            "linecolor": "white",
            "ticks": ""
           },
           "baxis": {
            "gridcolor": "white",
            "linecolor": "white",
            "ticks": ""
           },
           "bgcolor": "#E5ECF6",
           "caxis": {
            "gridcolor": "white",
            "linecolor": "white",
            "ticks": ""
           }
          },
          "title": {
           "x": 0.05
          },
          "xaxis": {
           "automargin": true,
           "gridcolor": "white",
           "linecolor": "white",
           "ticks": "",
           "title": {
            "standoff": 15
           },
           "zerolinecolor": "white",
           "zerolinewidth": 2
          },
          "yaxis": {
           "automargin": true,
           "gridcolor": "white",
           "linecolor": "white",
           "ticks": "",
           "title": {
            "standoff": 15
           },
           "zerolinecolor": "white",
           "zerolinewidth": 2
          }
         }
        },
        "title": {
         "text": "F1 Score for Heuristic Rule"
        },
        "xaxis": {
         "anchor": "y",
         "domain": [
          0,
          1
         ],
         "title": {
          "text": "Number of Connections Threshold"
         }
        },
        "yaxis": {
         "anchor": "x",
         "domain": [
          0,
          1
         ],
         "title": {
          "text": "F1 Score"
         }
        }
       }
      }
     },
     "metadata": {},
     "output_type": "display_data"
    }
   ],
   "source": [
    "px.line(\n",
    "    x=possible_values, \n",
    "    y=heuristic_f1_scores, \n",
    "    labels={\n",
    "        \"x\": \"Number of Connections Threshold\",\n",
    "        \"y\": \"F1 Score\",\n",
    "    },\n",
    "    title='F1 Score for Heuristic Rule'\n",
    ")"
   ]
  },
  {
   "cell_type": "markdown",
   "metadata": {},
   "source": [
    "**Insights**\n",
    "* The optimal number of connections to set as threshold is 46\n",
    "* Heuristic rule can achive the F1 score of 0.73"
   ]
  },
  {
   "cell_type": "markdown",
   "metadata": {},
   "source": [
    "## Machine Learning"
   ]
  },
  {
   "cell_type": "markdown",
   "metadata": {},
   "source": [
    "### Base Model"
   ]
  },
  {
   "cell_type": "code",
   "execution_count": 10,
   "metadata": {},
   "outputs": [
    {
     "name": "stderr",
     "output_type": "stream",
     "text": [
      "  File \"c:\\Users\\larib\\Projects\\Api security\\.venv\\Lib\\site-packages\\joblib\\externals\\loky\\backend\\context.py\", line 282, in _count_physical_cores\n",
      "    raise ValueError(f\"found {cpu_count_physical} physical cores < 1\")\n"
     ]
    },
    {
     "name": "stdout",
     "output_type": "stream",
     "text": [
      "ROC AUC (avg 5-fold): 0.9862419528983061\n"
     ]
    },
    {
     "name": "stderr",
     "output_type": "stream",
     "text": [
      "2024/11/06 10:35:32 WARNING mlflow.models.model: Model logged without a signature and input example. Please set `input_example` parameter when logging the model to auto infer the model signature.\n"
     ]
    }
   ],
   "source": [
    "with mlflow.start_run(run_name='GBT_baseline'):\n",
    "    params = {\n",
    "        \"learning_rate\": 0.1,\n",
    "        \"max_iter\": 100,\n",
    "        \"max_leaf_nodes\": 31,\n",
    "        \"max_depth\": None,\n",
    "        \"l2_regularization\": 0,\n",
    "    }\n",
    "\n",
    "    mlflow.set_tag(\"model_name\", \"HGBT\")\n",
    "    mlflow.log_params(params)\n",
    "\n",
    "    gbt = HistGradientBoostingClassifier(**params)\n",
    "    \n",
    "    roc_auc = cross_val_score(gbt, X_train, y_train, cv=5, scoring='roc_auc').mean()\n",
    "    print('ROC AUC (avg 5-fold):', roc_auc)\n",
    "    mlflow.log_metric(\"roc_auc\", roc_auc)\n",
    "    mlflow.sklearn.log_model(gbt, \"gbt_models\")"
   ]
  },
  {
   "cell_type": "markdown",
   "metadata": {},
   "source": [
    "**Observations**\n",
    "* The ROC AUC achieved by the baseline model has very high ROC AUC score of 0.99\n",
    "\n",
    "**Insights**\n",
    "* This indicates either target leakage or that the task is very simple\n",
    "* Given that we don't know how the target was created, we can assume that the data set creates have used some simple anomaly detection methods\n",
    "\n",
    "**Impact**\n",
    "* We don't need to do hyperparameter tuning because the task is too simple"
   ]
  },
  {
   "cell_type": "markdown",
   "metadata": {},
   "source": [
    "### Tuned Model"
   ]
  },
  {
   "cell_type": "code",
   "execution_count": 11,
   "metadata": {},
   "outputs": [
    {
     "name": "stderr",
     "output_type": "stream",
     "text": [
      "[I 2024-11-06 10:35:32,395] A new study created in memory with name: hgbt_tuning\n",
      "[I 2024-11-06 10:35:33,026] Trial 0 finished with value: 0.9847410806447179 and parameters: {'max_iter': 59, 'max_leaf_nodes': 29, 'max_depth': 6, 'l2_regularization': 2.746259734835008}. Best is trial 0 with value: 0.9847410806447179.\n"
     ]
    },
    {
     "name": "stdout",
     "output_type": "stream",
     "text": [
      "ROC AUC (avg 5-fold): 0.9847410806447179\n"
     ]
    },
    {
     "name": "stderr",
     "output_type": "stream",
     "text": [
      "[I 2024-11-06 10:35:33,346] Trial 1 finished with value: 0.9762018923404139 and parameters: {'max_iter': 95, 'max_leaf_nodes': 17, 'max_depth': 2, 'l2_regularization': 2.9939167492848897}. Best is trial 0 with value: 0.9847410806447179.\n"
     ]
    },
    {
     "name": "stdout",
     "output_type": "stream",
     "text": [
      "ROC AUC (avg 5-fold): 0.9762018923404139\n"
     ]
    },
    {
     "name": "stderr",
     "output_type": "stream",
     "text": [
      "[I 2024-11-06 10:35:33,543] Trial 2 finished with value: 0.9766545275959542 and parameters: {'max_iter': 18, 'max_leaf_nodes': 14, 'max_depth': 5, 'l2_regularization': 2.092480148312533}. Best is trial 0 with value: 0.9847410806447179.\n"
     ]
    },
    {
     "name": "stdout",
     "output_type": "stream",
     "text": [
      "ROC AUC (avg 5-fold): 0.9766545275959542\n"
     ]
    },
    {
     "name": "stderr",
     "output_type": "stream",
     "text": [
      "[I 2024-11-06 10:35:34,533] Trial 3 finished with value: 0.9852046046991724 and parameters: {'max_iter': 90, 'max_leaf_nodes': 24, 'max_depth': 10, 'l2_regularization': 7.559981031890977}. Best is trial 3 with value: 0.9852046046991724.\n"
     ]
    },
    {
     "name": "stdout",
     "output_type": "stream",
     "text": [
      "ROC AUC (avg 5-fold): 0.9852046046991724\n"
     ]
    },
    {
     "name": "stderr",
     "output_type": "stream",
     "text": [
      "[I 2024-11-06 10:35:34,947] Trial 4 finished with value: 0.9846114710094398 and parameters: {'max_iter': 50, 'max_leaf_nodes': 26, 'max_depth': 5, 'l2_regularization': 0.7239202838308656}. Best is trial 3 with value: 0.9852046046991724.\n"
     ]
    },
    {
     "name": "stdout",
     "output_type": "stream",
     "text": [
      "ROC AUC (avg 5-fold): 0.9846114710094398\n"
     ]
    },
    {
     "name": "stderr",
     "output_type": "stream",
     "text": [
      "[I 2024-11-06 10:35:35,716] Trial 5 finished with value: 0.9865544846080982 and parameters: {'max_iter': 91, 'max_leaf_nodes': 21, 'max_depth': 10, 'l2_regularization': 0.4361615552495446}. Best is trial 5 with value: 0.9865544846080982.\n"
     ]
    },
    {
     "name": "stdout",
     "output_type": "stream",
     "text": [
      "ROC AUC (avg 5-fold): 0.9865544846080982\n"
     ]
    },
    {
     "name": "stderr",
     "output_type": "stream",
     "text": [
      "[I 2024-11-06 10:35:36,066] Trial 6 finished with value: 0.9852994254123211 and parameters: {'max_iter': 46, 'max_leaf_nodes': 30, 'max_depth': 10, 'l2_regularization': 1.8385577556255195}. Best is trial 5 with value: 0.9865544846080982.\n"
     ]
    },
    {
     "name": "stdout",
     "output_type": "stream",
     "text": [
      "ROC AUC (avg 5-fold): 0.9852994254123211\n"
     ]
    },
    {
     "name": "stderr",
     "output_type": "stream",
     "text": [
      "[I 2024-11-06 10:35:36,310] Trial 7 finished with value: 0.9766286242886386 and parameters: {'max_iter': 100, 'max_leaf_nodes': 22, 'max_depth': 2, 'l2_regularization': 3.7544324047525457}. Best is trial 5 with value: 0.9865544846080982.\n"
     ]
    },
    {
     "name": "stdout",
     "output_type": "stream",
     "text": [
      "ROC AUC (avg 5-fold): 0.9766286242886386\n"
     ]
    },
    {
     "name": "stderr",
     "output_type": "stream",
     "text": [
      "[I 2024-11-06 10:35:36,978] Trial 8 finished with value: 0.9859810915916254 and parameters: {'max_iter': 76, 'max_leaf_nodes': 26, 'max_depth': 8, 'l2_regularization': 2.8154244440580523}. Best is trial 5 with value: 0.9865544846080982.\n",
      "[I 2024-11-06 10:35:37,118] Trial 9 finished with value: 0.9500234352545405 and parameters: {'max_iter': 36, 'max_leaf_nodes': 17, 'max_depth': 2, 'l2_regularization': 5.64531782197851}. Best is trial 5 with value: 0.9865544846080982.\n"
     ]
    },
    {
     "name": "stdout",
     "output_type": "stream",
     "text": [
      "ROC AUC (avg 5-fold): 0.9859810915916254\n",
      "ROC AUC (avg 5-fold): 0.9500234352545405\n"
     ]
    },
    {
     "name": "stderr",
     "output_type": "stream",
     "text": [
      "[I 2024-11-06 10:35:37,534] Trial 10 finished with value: 0.9837172011406778 and parameters: {'max_iter': 72, 'max_leaf_nodes': 12, 'max_depth': 8, 'l2_regularization': 9.760291226492932}. Best is trial 5 with value: 0.9865544846080982.\n"
     ]
    },
    {
     "name": "stdout",
     "output_type": "stream",
     "text": [
      "ROC AUC (avg 5-fold): 0.9837172011406778\n"
     ]
    },
    {
     "name": "stderr",
     "output_type": "stream",
     "text": [
      "[I 2024-11-06 10:35:38,101] Trial 11 finished with value: 0.986939073461747 and parameters: {'max_iter': 75, 'max_leaf_nodes': 20, 'max_depth': 8, 'l2_regularization': 0.26721356352126024}. Best is trial 11 with value: 0.986939073461747.\n"
     ]
    },
    {
     "name": "stdout",
     "output_type": "stream",
     "text": [
      "ROC AUC (avg 5-fold): 0.986939073461747\n"
     ]
    },
    {
     "name": "stderr",
     "output_type": "stream",
     "text": [
      "[I 2024-11-06 10:35:38,731] Trial 12 finished with value: 0.9864066726149863 and parameters: {'max_iter': 78, 'max_leaf_nodes': 19, 'max_depth': 8, 'l2_regularization': 0.0523902089156158}. Best is trial 11 with value: 0.986939073461747.\n"
     ]
    },
    {
     "name": "stdout",
     "output_type": "stream",
     "text": [
      "ROC AUC (avg 5-fold): 0.9864066726149863\n"
     ]
    },
    {
     "name": "stderr",
     "output_type": "stream",
     "text": [
      "[I 2024-11-06 10:35:39,411] Trial 13 finished with value: 0.9848409836721126 and parameters: {'max_iter': 66, 'max_leaf_nodes': 21, 'max_depth': 9, 'l2_regularization': 4.8163871358703085}. Best is trial 11 with value: 0.986939073461747.\n"
     ]
    },
    {
     "name": "stdout",
     "output_type": "stream",
     "text": [
      "ROC AUC (avg 5-fold): 0.9848409836721126\n"
     ]
    },
    {
     "name": "stderr",
     "output_type": "stream",
     "text": [
      "[I 2024-11-06 10:35:40,496] Trial 14 finished with value: 0.9872105930074755 and parameters: {'max_iter': 86, 'max_leaf_nodes': 18, 'max_depth': 7, 'l2_regularization': 0.6673268390658417}. Best is trial 14 with value: 0.9872105930074755.\n"
     ]
    },
    {
     "name": "stdout",
     "output_type": "stream",
     "text": [
      "ROC AUC (avg 5-fold): 0.9872105930074755\n"
     ]
    },
    {
     "name": "stderr",
     "output_type": "stream",
     "text": [
      "[I 2024-11-06 10:35:41,140] Trial 15 finished with value: 0.9860486162659049 and parameters: {'max_iter': 84, 'max_leaf_nodes': 15, 'max_depth': 7, 'l2_regularization': 1.1616927357982687}. Best is trial 14 with value: 0.9872105930074755.\n"
     ]
    },
    {
     "name": "stdout",
     "output_type": "stream",
     "text": [
      "ROC AUC (avg 5-fold): 0.9860486162659049\n"
     ]
    },
    {
     "name": "stderr",
     "output_type": "stream",
     "text": [
      "[I 2024-11-06 10:35:41,437] Trial 16 finished with value: 0.9836869134469512 and parameters: {'max_iter': 62, 'max_leaf_nodes': 10, 'max_depth': 6, 'l2_regularization': 6.352969558257753}. Best is trial 14 with value: 0.9872105930074755.\n"
     ]
    },
    {
     "name": "stdout",
     "output_type": "stream",
     "text": [
      "ROC AUC (avg 5-fold): 0.9836869134469512\n"
     ]
    },
    {
     "name": "stderr",
     "output_type": "stream",
     "text": [
      "[I 2024-11-06 10:35:41,795] Trial 17 finished with value: 0.9809482696138341 and parameters: {'max_iter': 38, 'max_leaf_nodes': 19, 'max_depth': 4, 'l2_regularization': 4.121987677653215}. Best is trial 14 with value: 0.9872105930074755.\n"
     ]
    },
    {
     "name": "stdout",
     "output_type": "stream",
     "text": [
      "ROC AUC (avg 5-fold): 0.9809482696138341\n"
     ]
    },
    {
     "name": "stderr",
     "output_type": "stream",
     "text": [
      "[I 2024-11-06 10:35:42,529] Trial 18 finished with value: 0.986192764294087 and parameters: {'max_iter': 82, 'max_leaf_nodes': 24, 'max_depth': 7, 'l2_regularization': 1.4729576654729453}. Best is trial 14 with value: 0.9872105930074755.\n"
     ]
    },
    {
     "name": "stdout",
     "output_type": "stream",
     "text": [
      "ROC AUC (avg 5-fold): 0.986192764294087\n"
     ]
    },
    {
     "name": "stderr",
     "output_type": "stream",
     "text": [
      "[I 2024-11-06 10:35:43,065] Trial 19 finished with value: 0.9842659248762224 and parameters: {'max_iter': 72, 'max_leaf_nodes': 16, 'max_depth': 7, 'l2_regularization': 7.94097694373105}. Best is trial 14 with value: 0.9872105930074755.\n"
     ]
    },
    {
     "name": "stdout",
     "output_type": "stream",
     "text": [
      "ROC AUC (avg 5-fold): 0.9842659248762224\n"
     ]
    }
   ],
   "source": [
    "mlflc = MLflowCallback(\n",
    "    tracking_uri=\"sqlite:///mlflow.db\",\n",
    "    metric_name=\"roc auc\",\n",
    ")\n",
    "\n",
    "best_trial = tune_hgbt(20, mlflc, X_train, y_train)"
   ]
  },
  {
   "cell_type": "code",
   "execution_count": 12,
   "metadata": {},
   "outputs": [
    {
     "name": "stdout",
     "output_type": "stream",
     "text": [
      "{'max_iter': 86, 'max_leaf_nodes': 18, 'max_depth': 7, 'l2_regularization': 0.6673268390658417}\n"
     ]
    }
   ],
   "source": [
    "print(best_trial.params)"
   ]
  },
  {
   "cell_type": "markdown",
   "metadata": {},
   "source": [
    "### The Final Model"
   ]
  },
  {
   "cell_type": "code",
   "execution_count": null,
   "metadata": {},
   "outputs": [
    {
     "name": "stdout",
     "output_type": "stream",
     "text": [
      "(32071, 6617.460526315789, 13, 2.5564503899921913, 22013, 15, 9737.999995126707, 76, 5742.868421052632)\n",
      "shape: (309, 9)\n",
      "┌───────────┬───────────┬───────────┬───────────┬───┬───────────┬───────────┬───────────┬──────────┐\n",
      "│ max_globa ┆ avg_globa ┆ min_globa ┆ std_local ┆ … ┆ min_globa ┆ std_globa ┆ n_connect ┆ avg_glob │\n",
      "│ l_source_ ┆ l_source_ ┆ l_dest_de ┆ _source_d ┆   ┆ l_source_ ┆ l_source_ ┆ ions      ┆ al_dest_ │\n",
      "│ degrees   ┆ degrees   ┆ grees     ┆ egrees    ┆   ┆ degrees   ┆ degrees   ┆ ---       ┆ degrees  │\n",
      "│ ---       ┆ ---       ┆ ---       ┆ ---       ┆   ┆ ---       ┆ ---       ┆ u32       ┆ ---      │\n",
      "│ u32       ┆ f64       ┆ u32       ┆ f64       ┆   ┆ u32       ┆ f64       ┆           ┆ f64      │\n",
      "╞═══════════╪═══════════╪═══════════╪═══════════╪═══╪═══════════╪═══════════╪═══════════╪══════════╡\n",
      "│ 32071     ┆ 6889.6967 ┆ 56        ┆ 8.401132  ┆ … ┆ 84        ┆ 8194.2978 ┆ 366       ┆ 7499.306 │\n",
      "│           ┆ 21        ┆           ┆           ┆   ┆           ┆ 44        ┆           ┆ 011      │\n",
      "│ 32071     ┆ 6617.4605 ┆ 13        ┆ 2.55645   ┆ … ┆ 15        ┆ 9737.9999 ┆ 76        ┆ 5742.868 │\n",
      "│           ┆ 26        ┆           ┆           ┆   ┆           ┆ 95        ┆           ┆ 421      │\n",
      "│ 32071     ┆ 8590.5432 ┆ 173       ┆ 3.529942  ┆ … ┆ 215       ┆ 10198.065 ┆ 81        ┆ 9179.370 │\n",
      "│           ┆ 1         ┆           ┆           ┆   ┆           ┆ 118       ┆           ┆ 37       │\n",
      "│ 32071     ┆ 12601.739 ┆ 1217      ┆ 4.0123    ┆ … ┆ 1379      ┆ 11348.341 ┆ 46        ┆ 9856.347 │\n",
      "│           ┆ 13        ┆           ┆           ┆   ┆           ┆ 411       ┆           ┆ 826      │\n",
      "│ 32071     ┆ 6683.2105 ┆ 40        ┆ 8.596742  ┆ … ┆ 61        ┆ 8663.4037 ┆ 361       ┆ 7106.313 │\n",
      "│           ┆ 26        ┆           ┆           ┆   ┆           ┆ 64        ┆           ┆ 019      │\n",
      "│ …         ┆ …         ┆ …         ┆ …         ┆ … ┆ …         ┆ …         ┆ …         ┆ …        │\n",
      "│ 32071     ┆ 4179.8436 ┆ 4         ┆ 26.522224 ┆ … ┆ 4         ┆ 7083.0612 ┆ 2271      ┆ 4603.451 │\n",
      "│           ┆ 81        ┆           ┆           ┆   ┆           ┆ 51        ┆           ┆ 783      │\n",
      "│ 32071     ┆ 4752.6205 ┆ 1         ┆ 11.199491 ┆ … ┆ 1         ┆ 7124.6709 ┆ 846       ┆ 5417.575 │\n",
      "│           ┆ 67        ┆           ┆           ┆   ┆           ┆ 71        ┆           ┆ 65       │\n",
      "│ 32071     ┆ 10401.839 ┆ 438       ┆ 3.212799  ┆ … ┆ 626       ┆ 10557.009 ┆ 56        ┆ 9574.982 │\n",
      "│           ┆ 286       ┆           ┆           ┆   ┆           ┆ 444       ┆           ┆ 143      │\n",
      "│ 32071     ┆ 4832.7142 ┆ 14        ┆ 0.851631  ┆ … ┆ 68        ┆ 8389.7009 ┆ 14        ┆ 5881.5   │\n",
      "│           ┆ 86        ┆           ┆           ┆   ┆           ┆ 98        ┆           ┆          │\n",
      "│ 32071     ┆ 7307.0    ┆ 813       ┆ 0.0       ┆ … ┆ 403       ┆ 10596.766 ┆ 8         ┆ 12059.25 │\n",
      "│           ┆           ┆           ┆           ┆   ┆           ┆ 057       ┆           ┆          │\n",
      "└───────────┴───────────┴───────────┴───────────┴───┴───────────┴───────────┴───────────┴──────────┘\n",
      "Test ROC AUC: 0.9892251586624987\n",
      "Test PR AUC: 0.9825273861823041\n"
     ]
    }
   ],
   "source": [
    "best_gbt = HistGradientBoostingClassifier(**best_trial.params)\n",
    "best_gbt.fit(X_train, y_train)\n",
    "test_preds = best_gbt.predict_proba(X_test)\n",
    "\n",
    "print('Test ROC AUC:', roc_auc_score(y_test, test_preds[:, 1]))\n",
    "print('Test PR AUC:', average_precision_score(y_test, test_preds[:, 1]))"
   ]
  },
  {
   "cell_type": "markdown",
   "metadata": {},
   "source": [
    "## Threshold Analysis & Evaluation"
   ]
  },
  {
   "cell_type": "code",
   "execution_count": 14,
   "metadata": {},
   "outputs": [
    {
     "name": "stdout",
     "output_type": "stream",
     "text": [
      "Threshold with Max F1 Score:  0.63\n",
      "F1 at threshold 0.63: 0.9536423841059603\n",
      "Recall at threshold 0.63: 0.96\n",
      "Precision at threshold 0.63: 0.9473684210526315 \n"
     ]
    },
    {
     "data": {
      "application/vnd.plotly.v1+json": {
       "config": {
        "plotlyServerURL": "https://plot.ly"
       },
       "data": [
        {
         "hovertemplate": "metric=F1<br>threshold=%{x}<br>score=%{y}<extra></extra>",
         "legendgroup": "F1",
         "line": {
          "color": "#636efa",
          "dash": "solid"
         },
         "marker": {
          "symbol": "circle"
         },
         "mode": "lines",
         "name": "F1",
         "orientation": "v",
         "showlegend": true,
         "type": "scatter",
         "x": [
          0,
          0.01,
          0.02,
          0.03,
          0.04,
          0.05,
          0.06,
          0.07,
          0.08,
          0.09,
          0.1,
          0.11,
          0.12,
          0.13,
          0.14,
          0.15,
          0.16,
          0.17,
          0.18,
          0.19,
          0.2,
          0.21,
          0.22,
          0.23,
          0.24,
          0.25,
          0.26,
          0.27,
          0.28,
          0.29,
          0.3,
          0.31,
          0.32,
          0.33,
          0.34,
          0.35000000000000003,
          0.36,
          0.37,
          0.38,
          0.39,
          0.4,
          0.41000000000000003,
          0.42,
          0.43,
          0.44,
          0.45,
          0.46,
          0.47000000000000003,
          0.48,
          0.49,
          0.5,
          0.51,
          0.52,
          0.53,
          0.54,
          0.55,
          0.56,
          0.5700000000000001,
          0.58,
          0.59,
          0.6,
          0.61,
          0.62,
          0.63,
          0.64,
          0.65,
          0.66,
          0.67,
          0.68,
          0.6900000000000001,
          0.7000000000000001,
          0.71,
          0.72,
          0.73,
          0.74,
          0.75,
          0.76,
          0.77,
          0.78,
          0.79,
          0.8,
          0.81,
          0.8200000000000001,
          0.8300000000000001,
          0.84,
          0.85,
          0.86,
          0.87,
          0.88,
          0.89,
          0.9,
          0.91,
          0.92,
          0.93,
          0.9400000000000001,
          0.9500000000000001,
          0.96,
          0.97,
          0.98,
          0.99,
          1
         ],
         "xaxis": "x",
         "y": [
          0.390625,
          0.6818181818181818,
          0.7177033492822966,
          0.7575757575757576,
          0.7894736842105263,
          0.8021390374331551,
          0.819672131147541,
          0.8333333333333334,
          0.8379888268156425,
          0.8426966292134831,
          0.847457627118644,
          0.8522727272727273,
          0.8522727272727273,
          0.8620689655172413,
          0.8620689655172413,
          0.8620689655172413,
          0.8670520231213873,
          0.8670520231213873,
          0.8670520231213873,
          0.8670520231213873,
          0.872093023255814,
          0.8771929824561403,
          0.8875739644970414,
          0.8862275449101796,
          0.891566265060241,
          0.896969696969697,
          0.9024390243902439,
          0.9024390243902439,
          0.9024390243902439,
          0.9024390243902439,
          0.9192546583850931,
          0.9192546583850931,
          0.9192546583850931,
          0.9182389937106918,
          0.9182389937106918,
          0.9240506329113924,
          0.9240506329113924,
          0.9240506329113924,
          0.9240506329113924,
          0.9299363057324841,
          0.9299363057324841,
          0.9299363057324841,
          0.9299363057324841,
          0.9299363057324841,
          0.9299363057324841,
          0.9299363057324841,
          0.9358974358974359,
          0.9358974358974359,
          0.9358974358974359,
          0.9358974358974359,
          0.9358974358974359,
          0.9358974358974359,
          0.9419354838709677,
          0.9419354838709677,
          0.9419354838709677,
          0.9419354838709677,
          0.9419354838709677,
          0.9419354838709677,
          0.9419354838709677,
          0.9419354838709677,
          0.9419354838709677,
          0.935064935064935,
          0.9411764705882353,
          0.9536423841059603,
          0.9466666666666667,
          0.9466666666666667,
          0.9466666666666667,
          0.9395973154362416,
          0.9324324324324325,
          0.9324324324324325,
          0.9324324324324325,
          0.9324324324324325,
          0.9387755102040817,
          0.9387755102040817,
          0.9387755102040817,
          0.9241379310344827,
          0.9241379310344827,
          0.9305555555555556,
          0.9230769230769231,
          0.9230769230769231,
          0.9230769230769231,
          0.9230769230769231,
          0.9230769230769231,
          0.9230769230769231,
          0.9295774647887324,
          0.9295774647887324,
          0.9295774647887324,
          0.9295774647887324,
          0.9295774647887324,
          0.9219858156028369,
          0.9219858156028369,
          0.9285714285714286,
          0.9285714285714286,
          0.920863309352518,
          0.9051094890510949,
          0.8721804511278195,
          0.8372093023255814,
          0.828125,
          0.828125,
          0.7288135593220338,
          0
         ],
         "yaxis": "y"
        },
        {
         "hovertemplate": "metric=Recall<br>threshold=%{x}<br>score=%{y}<extra></extra>",
         "legendgroup": "Recall",
         "line": {
          "color": "#EF553B",
          "dash": "solid"
         },
         "marker": {
          "symbol": "circle"
         },
         "mode": "lines",
         "name": "Recall",
         "orientation": "v",
         "showlegend": true,
         "type": "scatter",
         "x": [
          0,
          0.01,
          0.02,
          0.03,
          0.04,
          0.05,
          0.06,
          0.07,
          0.08,
          0.09,
          0.1,
          0.11,
          0.12,
          0.13,
          0.14,
          0.15,
          0.16,
          0.17,
          0.18,
          0.19,
          0.2,
          0.21,
          0.22,
          0.23,
          0.24,
          0.25,
          0.26,
          0.27,
          0.28,
          0.29,
          0.3,
          0.31,
          0.32,
          0.33,
          0.34,
          0.35000000000000003,
          0.36,
          0.37,
          0.38,
          0.39,
          0.4,
          0.41000000000000003,
          0.42,
          0.43,
          0.44,
          0.45,
          0.46,
          0.47000000000000003,
          0.48,
          0.49,
          0.5,
          0.51,
          0.52,
          0.53,
          0.54,
          0.55,
          0.56,
          0.5700000000000001,
          0.58,
          0.59,
          0.6,
          0.61,
          0.62,
          0.63,
          0.64,
          0.65,
          0.66,
          0.67,
          0.68,
          0.6900000000000001,
          0.7000000000000001,
          0.71,
          0.72,
          0.73,
          0.74,
          0.75,
          0.76,
          0.77,
          0.78,
          0.79,
          0.8,
          0.81,
          0.8200000000000001,
          0.8300000000000001,
          0.84,
          0.85,
          0.86,
          0.87,
          0.88,
          0.89,
          0.9,
          0.91,
          0.92,
          0.93,
          0.9400000000000001,
          0.9500000000000001,
          0.96,
          0.97,
          0.98,
          0.99,
          1
         ],
         "xaxis": "x",
         "y": [
          1,
          1,
          1,
          1,
          1,
          1,
          1,
          1,
          1,
          1,
          1,
          1,
          1,
          1,
          1,
          1,
          1,
          1,
          1,
          1,
          1,
          1,
          1,
          0.9866666666666667,
          0.9866666666666667,
          0.9866666666666667,
          0.9866666666666667,
          0.9866666666666667,
          0.9866666666666667,
          0.9866666666666667,
          0.9866666666666667,
          0.9866666666666667,
          0.9866666666666667,
          0.9733333333333334,
          0.9733333333333334,
          0.9733333333333334,
          0.9733333333333334,
          0.9733333333333334,
          0.9733333333333334,
          0.9733333333333334,
          0.9733333333333334,
          0.9733333333333334,
          0.9733333333333334,
          0.9733333333333334,
          0.9733333333333334,
          0.9733333333333334,
          0.9733333333333334,
          0.9733333333333334,
          0.9733333333333334,
          0.9733333333333334,
          0.9733333333333334,
          0.9733333333333334,
          0.9733333333333334,
          0.9733333333333334,
          0.9733333333333334,
          0.9733333333333334,
          0.9733333333333334,
          0.9733333333333334,
          0.9733333333333334,
          0.9733333333333334,
          0.9733333333333334,
          0.96,
          0.96,
          0.96,
          0.9466666666666667,
          0.9466666666666667,
          0.9466666666666667,
          0.9333333333333333,
          0.92,
          0.92,
          0.92,
          0.92,
          0.92,
          0.92,
          0.92,
          0.8933333333333333,
          0.8933333333333333,
          0.8933333333333333,
          0.88,
          0.88,
          0.88,
          0.88,
          0.88,
          0.88,
          0.88,
          0.88,
          0.88,
          0.88,
          0.88,
          0.8666666666666667,
          0.8666666666666667,
          0.8666666666666667,
          0.8666666666666667,
          0.8533333333333334,
          0.8266666666666667,
          0.7733333333333333,
          0.72,
          0.7066666666666667,
          0.7066666666666667,
          0.5733333333333334,
          0
         ],
         "yaxis": "y"
        },
        {
         "hovertemplate": "metric=Precision<br>threshold=%{x}<br>score=%{y}<extra></extra>",
         "legendgroup": "Precision",
         "line": {
          "color": "#00cc96",
          "dash": "solid"
         },
         "marker": {
          "symbol": "circle"
         },
         "mode": "lines",
         "name": "Precision",
         "orientation": "v",
         "showlegend": true,
         "type": "scatter",
         "x": [
          0,
          0.01,
          0.02,
          0.03,
          0.04,
          0.05,
          0.06,
          0.07,
          0.08,
          0.09,
          0.1,
          0.11,
          0.12,
          0.13,
          0.14,
          0.15,
          0.16,
          0.17,
          0.18,
          0.19,
          0.2,
          0.21,
          0.22,
          0.23,
          0.24,
          0.25,
          0.26,
          0.27,
          0.28,
          0.29,
          0.3,
          0.31,
          0.32,
          0.33,
          0.34,
          0.35000000000000003,
          0.36,
          0.37,
          0.38,
          0.39,
          0.4,
          0.41000000000000003,
          0.42,
          0.43,
          0.44,
          0.45,
          0.46,
          0.47000000000000003,
          0.48,
          0.49,
          0.5,
          0.51,
          0.52,
          0.53,
          0.54,
          0.55,
          0.56,
          0.5700000000000001,
          0.58,
          0.59,
          0.6,
          0.61,
          0.62,
          0.63,
          0.64,
          0.65,
          0.66,
          0.67,
          0.68,
          0.6900000000000001,
          0.7000000000000001,
          0.71,
          0.72,
          0.73,
          0.74,
          0.75,
          0.76,
          0.77,
          0.78,
          0.79,
          0.8,
          0.81,
          0.8200000000000001,
          0.8300000000000001,
          0.84,
          0.85,
          0.86,
          0.87,
          0.88,
          0.89,
          0.9,
          0.91,
          0.92,
          0.93,
          0.9400000000000001,
          0.9500000000000001,
          0.96,
          0.97,
          0.98,
          0.99,
          1
         ],
         "xaxis": "x",
         "y": [
          0.24271844660194175,
          0.5172413793103449,
          0.5597014925373134,
          0.6097560975609756,
          0.6521739130434783,
          0.6696428571428571,
          0.6944444444444444,
          0.7142857142857143,
          0.7211538461538461,
          0.7281553398058253,
          0.7352941176470589,
          0.7425742574257426,
          0.7425742574257426,
          0.7575757575757576,
          0.7575757575757576,
          0.7575757575757576,
          0.7653061224489796,
          0.7653061224489796,
          0.7653061224489796,
          0.7653061224489796,
          0.7731958762886598,
          0.78125,
          0.7978723404255319,
          0.8043478260869565,
          0.8131868131868132,
          0.8222222222222222,
          0.8314606741573034,
          0.8314606741573034,
          0.8314606741573034,
          0.8314606741573034,
          0.8604651162790697,
          0.8604651162790697,
          0.8604651162790697,
          0.8690476190476191,
          0.8690476190476191,
          0.8795180722891566,
          0.8795180722891566,
          0.8795180722891566,
          0.8795180722891566,
          0.8902439024390244,
          0.8902439024390244,
          0.8902439024390244,
          0.8902439024390244,
          0.8902439024390244,
          0.8902439024390244,
          0.8902439024390244,
          0.9012345679012346,
          0.9012345679012346,
          0.9012345679012346,
          0.9012345679012346,
          0.9012345679012346,
          0.9012345679012346,
          0.9125,
          0.9125,
          0.9125,
          0.9125,
          0.9125,
          0.9125,
          0.9125,
          0.9125,
          0.9125,
          0.9113924050632911,
          0.9230769230769231,
          0.9473684210526315,
          0.9466666666666667,
          0.9466666666666667,
          0.9466666666666667,
          0.9459459459459459,
          0.9452054794520548,
          0.9452054794520548,
          0.9452054794520548,
          0.9452054794520548,
          0.9583333333333334,
          0.9583333333333334,
          0.9583333333333334,
          0.9571428571428572,
          0.9571428571428572,
          0.9710144927536232,
          0.9705882352941176,
          0.9705882352941176,
          0.9705882352941176,
          0.9705882352941176,
          0.9705882352941176,
          0.9705882352941176,
          0.9850746268656716,
          0.9850746268656716,
          0.9850746268656716,
          0.9850746268656716,
          0.9850746268656716,
          0.9848484848484849,
          0.9848484848484849,
          1,
          1,
          1,
          1,
          1,
          1,
          1,
          1,
          1,
          0
         ],
         "yaxis": "y"
        }
       ],
       "layout": {
        "legend": {
         "title": {
          "text": "metric"
         },
         "tracegroupgap": 0
        },
        "template": {
         "data": {
          "bar": [
           {
            "error_x": {
             "color": "#2a3f5f"
            },
            "error_y": {
             "color": "#2a3f5f"
            },
            "marker": {
             "line": {
              "color": "#E5ECF6",
              "width": 0.5
             },
             "pattern": {
              "fillmode": "overlay",
              "size": 10,
              "solidity": 0.2
             }
            },
            "type": "bar"
           }
          ],
          "barpolar": [
           {
            "marker": {
             "line": {
              "color": "#E5ECF6",
              "width": 0.5
             },
             "pattern": {
              "fillmode": "overlay",
              "size": 10,
              "solidity": 0.2
             }
            },
            "type": "barpolar"
           }
          ],
          "carpet": [
           {
            "aaxis": {
             "endlinecolor": "#2a3f5f",
             "gridcolor": "white",
             "linecolor": "white",
             "minorgridcolor": "white",
             "startlinecolor": "#2a3f5f"
            },
            "baxis": {
             "endlinecolor": "#2a3f5f",
             "gridcolor": "white",
             "linecolor": "white",
             "minorgridcolor": "white",
             "startlinecolor": "#2a3f5f"
            },
            "type": "carpet"
           }
          ],
          "choropleth": [
           {
            "colorbar": {
             "outlinewidth": 0,
             "ticks": ""
            },
            "type": "choropleth"
           }
          ],
          "contour": [
           {
            "colorbar": {
             "outlinewidth": 0,
             "ticks": ""
            },
            "colorscale": [
             [
              0,
              "#0d0887"
             ],
             [
              0.1111111111111111,
              "#46039f"
             ],
             [
              0.2222222222222222,
              "#7201a8"
             ],
             [
              0.3333333333333333,
              "#9c179e"
             ],
             [
              0.4444444444444444,
              "#bd3786"
             ],
             [
              0.5555555555555556,
              "#d8576b"
             ],
             [
              0.6666666666666666,
              "#ed7953"
             ],
             [
              0.7777777777777778,
              "#fb9f3a"
             ],
             [
              0.8888888888888888,
              "#fdca26"
             ],
             [
              1,
              "#f0f921"
             ]
            ],
            "type": "contour"
           }
          ],
          "contourcarpet": [
           {
            "colorbar": {
             "outlinewidth": 0,
             "ticks": ""
            },
            "type": "contourcarpet"
           }
          ],
          "heatmap": [
           {
            "colorbar": {
             "outlinewidth": 0,
             "ticks": ""
            },
            "colorscale": [
             [
              0,
              "#0d0887"
             ],
             [
              0.1111111111111111,
              "#46039f"
             ],
             [
              0.2222222222222222,
              "#7201a8"
             ],
             [
              0.3333333333333333,
              "#9c179e"
             ],
             [
              0.4444444444444444,
              "#bd3786"
             ],
             [
              0.5555555555555556,
              "#d8576b"
             ],
             [
              0.6666666666666666,
              "#ed7953"
             ],
             [
              0.7777777777777778,
              "#fb9f3a"
             ],
             [
              0.8888888888888888,
              "#fdca26"
             ],
             [
              1,
              "#f0f921"
             ]
            ],
            "type": "heatmap"
           }
          ],
          "heatmapgl": [
           {
            "colorbar": {
             "outlinewidth": 0,
             "ticks": ""
            },
            "colorscale": [
             [
              0,
              "#0d0887"
             ],
             [
              0.1111111111111111,
              "#46039f"
             ],
             [
              0.2222222222222222,
              "#7201a8"
             ],
             [
              0.3333333333333333,
              "#9c179e"
             ],
             [
              0.4444444444444444,
              "#bd3786"
             ],
             [
              0.5555555555555556,
              "#d8576b"
             ],
             [
              0.6666666666666666,
              "#ed7953"
             ],
             [
              0.7777777777777778,
              "#fb9f3a"
             ],
             [
              0.8888888888888888,
              "#fdca26"
             ],
             [
              1,
              "#f0f921"
             ]
            ],
            "type": "heatmapgl"
           }
          ],
          "histogram": [
           {
            "marker": {
             "pattern": {
              "fillmode": "overlay",
              "size": 10,
              "solidity": 0.2
             }
            },
            "type": "histogram"
           }
          ],
          "histogram2d": [
           {
            "colorbar": {
             "outlinewidth": 0,
             "ticks": ""
            },
            "colorscale": [
             [
              0,
              "#0d0887"
             ],
             [
              0.1111111111111111,
              "#46039f"
             ],
             [
              0.2222222222222222,
              "#7201a8"
             ],
             [
              0.3333333333333333,
              "#9c179e"
             ],
             [
              0.4444444444444444,
              "#bd3786"
             ],
             [
              0.5555555555555556,
              "#d8576b"
             ],
             [
              0.6666666666666666,
              "#ed7953"
             ],
             [
              0.7777777777777778,
              "#fb9f3a"
             ],
             [
              0.8888888888888888,
              "#fdca26"
             ],
             [
              1,
              "#f0f921"
             ]
            ],
            "type": "histogram2d"
           }
          ],
          "histogram2dcontour": [
           {
            "colorbar": {
             "outlinewidth": 0,
             "ticks": ""
            },
            "colorscale": [
             [
              0,
              "#0d0887"
             ],
             [
              0.1111111111111111,
              "#46039f"
             ],
             [
              0.2222222222222222,
              "#7201a8"
             ],
             [
              0.3333333333333333,
              "#9c179e"
             ],
             [
              0.4444444444444444,
              "#bd3786"
             ],
             [
              0.5555555555555556,
              "#d8576b"
             ],
             [
              0.6666666666666666,
              "#ed7953"
             ],
             [
              0.7777777777777778,
              "#fb9f3a"
             ],
             [
              0.8888888888888888,
              "#fdca26"
             ],
             [
              1,
              "#f0f921"
             ]
            ],
            "type": "histogram2dcontour"
           }
          ],
          "mesh3d": [
           {
            "colorbar": {
             "outlinewidth": 0,
             "ticks": ""
            },
            "type": "mesh3d"
           }
          ],
          "parcoords": [
           {
            "line": {
             "colorbar": {
              "outlinewidth": 0,
              "ticks": ""
             }
            },
            "type": "parcoords"
           }
          ],
          "pie": [
           {
            "automargin": true,
            "type": "pie"
           }
          ],
          "scatter": [
           {
            "fillpattern": {
             "fillmode": "overlay",
             "size": 10,
             "solidity": 0.2
            },
            "type": "scatter"
           }
          ],
          "scatter3d": [
           {
            "line": {
             "colorbar": {
              "outlinewidth": 0,
              "ticks": ""
             }
            },
            "marker": {
             "colorbar": {
              "outlinewidth": 0,
              "ticks": ""
             }
            },
            "type": "scatter3d"
           }
          ],
          "scattercarpet": [
           {
            "marker": {
             "colorbar": {
              "outlinewidth": 0,
              "ticks": ""
             }
            },
            "type": "scattercarpet"
           }
          ],
          "scattergeo": [
           {
            "marker": {
             "colorbar": {
              "outlinewidth": 0,
              "ticks": ""
             }
            },
            "type": "scattergeo"
           }
          ],
          "scattergl": [
           {
            "marker": {
             "colorbar": {
              "outlinewidth": 0,
              "ticks": ""
             }
            },
            "type": "scattergl"
           }
          ],
          "scattermapbox": [
           {
            "marker": {
             "colorbar": {
              "outlinewidth": 0,
              "ticks": ""
             }
            },
            "type": "scattermapbox"
           }
          ],
          "scatterpolar": [
           {
            "marker": {
             "colorbar": {
              "outlinewidth": 0,
              "ticks": ""
             }
            },
            "type": "scatterpolar"
           }
          ],
          "scatterpolargl": [
           {
            "marker": {
             "colorbar": {
              "outlinewidth": 0,
              "ticks": ""
             }
            },
            "type": "scatterpolargl"
           }
          ],
          "scatterternary": [
           {
            "marker": {
             "colorbar": {
              "outlinewidth": 0,
              "ticks": ""
             }
            },
            "type": "scatterternary"
           }
          ],
          "surface": [
           {
            "colorbar": {
             "outlinewidth": 0,
             "ticks": ""
            },
            "colorscale": [
             [
              0,
              "#0d0887"
             ],
             [
              0.1111111111111111,
              "#46039f"
             ],
             [
              0.2222222222222222,
              "#7201a8"
             ],
             [
              0.3333333333333333,
              "#9c179e"
             ],
             [
              0.4444444444444444,
              "#bd3786"
             ],
             [
              0.5555555555555556,
              "#d8576b"
             ],
             [
              0.6666666666666666,
              "#ed7953"
             ],
             [
              0.7777777777777778,
              "#fb9f3a"
             ],
             [
              0.8888888888888888,
              "#fdca26"
             ],
             [
              1,
              "#f0f921"
             ]
            ],
            "type": "surface"
           }
          ],
          "table": [
           {
            "cells": {
             "fill": {
              "color": "#EBF0F8"
             },
             "line": {
              "color": "white"
             }
            },
            "header": {
             "fill": {
              "color": "#C8D4E3"
             },
             "line": {
              "color": "white"
             }
            },
            "type": "table"
           }
          ]
         },
         "layout": {
          "annotationdefaults": {
           "arrowcolor": "#2a3f5f",
           "arrowhead": 0,
           "arrowwidth": 1
          },
          "autotypenumbers": "strict",
          "coloraxis": {
           "colorbar": {
            "outlinewidth": 0,
            "ticks": ""
           }
          },
          "colorscale": {
           "diverging": [
            [
             0,
             "#8e0152"
            ],
            [
             0.1,
             "#c51b7d"
            ],
            [
             0.2,
             "#de77ae"
            ],
            [
             0.3,
             "#f1b6da"
            ],
            [
             0.4,
             "#fde0ef"
            ],
            [
             0.5,
             "#f7f7f7"
            ],
            [
             0.6,
             "#e6f5d0"
            ],
            [
             0.7,
             "#b8e186"
            ],
            [
             0.8,
             "#7fbc41"
            ],
            [
             0.9,
             "#4d9221"
            ],
            [
             1,
             "#276419"
            ]
           ],
           "sequential": [
            [
             0,
             "#0d0887"
            ],
            [
             0.1111111111111111,
             "#46039f"
            ],
            [
             0.2222222222222222,
             "#7201a8"
            ],
            [
             0.3333333333333333,
             "#9c179e"
            ],
            [
             0.4444444444444444,
             "#bd3786"
            ],
            [
             0.5555555555555556,
             "#d8576b"
            ],
            [
             0.6666666666666666,
             "#ed7953"
            ],
            [
             0.7777777777777778,
             "#fb9f3a"
            ],
            [
             0.8888888888888888,
             "#fdca26"
            ],
            [
             1,
             "#f0f921"
            ]
           ],
           "sequentialminus": [
            [
             0,
             "#0d0887"
            ],
            [
             0.1111111111111111,
             "#46039f"
            ],
            [
             0.2222222222222222,
             "#7201a8"
            ],
            [
             0.3333333333333333,
             "#9c179e"
            ],
            [
             0.4444444444444444,
             "#bd3786"
            ],
            [
             0.5555555555555556,
             "#d8576b"
            ],
            [
             0.6666666666666666,
             "#ed7953"
            ],
            [
             0.7777777777777778,
             "#fb9f3a"
            ],
            [
             0.8888888888888888,
             "#fdca26"
            ],
            [
             1,
             "#f0f921"
            ]
           ]
          },
          "colorway": [
           "#636efa",
           "#EF553B",
           "#00cc96",
           "#ab63fa",
           "#FFA15A",
           "#19d3f3",
           "#FF6692",
           "#B6E880",
           "#FF97FF",
           "#FECB52"
          ],
          "font": {
           "color": "#2a3f5f"
          },
          "geo": {
           "bgcolor": "white",
           "lakecolor": "white",
           "landcolor": "#E5ECF6",
           "showlakes": true,
           "showland": true,
           "subunitcolor": "white"
          },
          "hoverlabel": {
           "align": "left"
          },
          "hovermode": "closest",
          "mapbox": {
           "style": "light"
          },
          "paper_bgcolor": "white",
          "plot_bgcolor": "#E5ECF6",
          "polar": {
           "angularaxis": {
            "gridcolor": "white",
            "linecolor": "white",
            "ticks": ""
           },
           "bgcolor": "#E5ECF6",
           "radialaxis": {
            "gridcolor": "white",
            "linecolor": "white",
            "ticks": ""
           }
          },
          "scene": {
           "xaxis": {
            "backgroundcolor": "#E5ECF6",
            "gridcolor": "white",
            "gridwidth": 2,
            "linecolor": "white",
            "showbackground": true,
            "ticks": "",
            "zerolinecolor": "white"
           },
           "yaxis": {
            "backgroundcolor": "#E5ECF6",
            "gridcolor": "white",
            "gridwidth": 2,
            "linecolor": "white",
            "showbackground": true,
            "ticks": "",
            "zerolinecolor": "white"
           },
           "zaxis": {
            "backgroundcolor": "#E5ECF6",
            "gridcolor": "white",
            "gridwidth": 2,
            "linecolor": "white",
            "showbackground": true,
            "ticks": "",
            "zerolinecolor": "white"
           }
          },
          "shapedefaults": {
           "line": {
            "color": "#2a3f5f"
           }
          },
          "ternary": {
           "aaxis": {
            "gridcolor": "white",
            "linecolor": "white",
            "ticks": ""
           },
           "baxis": {
            "gridcolor": "white",
            "linecolor": "white",
            "ticks": ""
           },
           "bgcolor": "#E5ECF6",
           "caxis": {
            "gridcolor": "white",
            "linecolor": "white",
            "ticks": ""
           }
          },
          "title": {
           "x": 0.05
          },
          "xaxis": {
           "automargin": true,
           "gridcolor": "white",
           "linecolor": "white",
           "ticks": "",
           "title": {
            "standoff": 15
           },
           "zerolinecolor": "white",
           "zerolinewidth": 2
          },
          "yaxis": {
           "automargin": true,
           "gridcolor": "white",
           "linecolor": "white",
           "ticks": "",
           "title": {
            "standoff": 15
           },
           "zerolinecolor": "white",
           "zerolinewidth": 2
          }
         }
        },
        "title": {
         "text": "Metrics per Threshold"
        },
        "xaxis": {
         "anchor": "y",
         "domain": [
          0,
          1
         ],
         "title": {
          "text": "threshold"
         }
        },
        "yaxis": {
         "anchor": "x",
         "domain": [
          0,
          1
         ],
         "title": {
          "text": "score"
         }
        }
       }
      }
     },
     "metadata": {},
     "output_type": "display_data"
    }
   ],
   "source": [
    "thresholds = np.arange(0, 1.01, 0.01)\n",
    "\n",
    "rcs, prs, f1s = evaluate_thresholds(thresholds, y_test, test_preds, plot=True)"
   ]
  },
  {
   "cell_type": "markdown",
   "metadata": {},
   "source": [
    "## Model Diagnostics"
   ]
  },
  {
   "cell_type": "markdown",
   "metadata": {},
   "source": [
    "#### Feature Importances"
   ]
  },
  {
   "cell_type": "code",
   "execution_count": 15,
   "metadata": {},
   "outputs": [
    {
     "data": {
      "image/png": "[encoded data removed]",
      "text/plain": [
       "<Figure size 800x510 with 2 Axes>"
      ]
     },
     "metadata": {},
     "output_type": "display_data"
    }
   ],
   "source": [
    "explainer = shap.Explainer(best_gbt)\n",
    "shap_values = explainer(X_test[numerical_features].to_pandas())\n",
    "shap.plots.beeswarm(shap_values)"
   ]
  },
  {
   "cell_type": "markdown",
   "metadata": {},
   "source": [
    "#### False Positives & False Negatives"
   ]
  },
  {
   "cell_type": "code",
   "execution_count": 16,
   "metadata": {},
   "outputs": [
    {
     "name": "stdout",
     "output_type": "stream",
     "text": [
      "There are 17 false positives\n",
      "There are 1 false negatives\n"
     ]
    }
   ],
   "source": [
    "thr = 0.24\n",
    "test_binary_pred = test_preds[:, 1] >= thr\n",
    "\n",
    "fps = np.where((np.array(y_test) == False) & (test_binary_pred == True))[0]\n",
    "fns = np.where((np.array(y_test) == True) & (test_binary_pred == False))[0]\n",
    "\n",
    "print(f\"There are {len(fps)} false positives\")\n",
    "print(f\"There are {len(fns)} false negatives\")"
   ]
  },
  {
   "cell_type": "code",
   "execution_count": 17,
   "metadata": {},
   "outputs": [
    {
     "data": {
      "image/png": "[encoded data removed]",
      "text/plain": [
       "<Figure size 800x600 with 3 Axes>"
      ]
     },
     "metadata": {},
     "output_type": "display_data"
    }
   ],
   "source": [
    "shap.plots.waterfall(shap_values[fps[0]])"
   ]
  },
  {
   "cell_type": "code",
   "execution_count": 18,
   "metadata": {},
   "outputs": [
    {
     "data": {
      "image/png": "[encoded data removed]",
      "text/plain": [
       "<Figure size 800x600 with 3 Axes>"
      ]
     },
     "metadata": {},
     "output_type": "display_data"
    }
   ],
   "source": [
    "shap.plots.waterfall(shap_values[fns[0]])"
   ]
  },
  {
   "cell_type": "markdown",
   "metadata": {},
   "source": [
    "## Save Model for Deployment"
   ]
  },
  {
   "cell_type": "code",
   "execution_count": 19,
   "metadata": {},
   "outputs": [
    {
     "data": {
      "text/plain": [
       "['../models/hgbt_final.joblib']"
      ]
     },
     "execution_count": 19,
     "metadata": {},
     "output_type": "execute_result"
    }
   ],
   "source": [
    "joblib.dump(best_gbt, '../models/hgbt_final.joblib')"
   ]
  },
  {
   "cell_type": "markdown",
   "metadata": {},
   "source": [
    "## Summary\n",
    "\n",
    "* The modelling task for anomaly detection is quite easily solved by training supervised ML model\n",
    "* To make the task more challenging, only the engineered features were used to identify the anomalies\n",
    "* The optimal model that was trained is HistGBT with threshold of 0.24\n",
    "* The maximum F1 that can be achieved with the trained model is 0.92, which gives us a recall of 0.95 and precision 0.90\n",
    "* The trained model outperforms heuristic baseline by 0.20 in terms of F1 score\n",
    "* SHAP values suggest that smaller networks tend to be more anomalous"
   ]
  }
 ],
 "metadata": {
  "kernelspec": {
   "display_name": ".venv",
   "language": "python",
   "name": "python3"
  },
  "language_info": {
   "codemirror_mode": {
    "name": "ipython",
    "version": 3
   },
   "file_extension": ".py",
   "mimetype": "text/x-python",
   "name": "python",
   "nbconvert_exporter": "python",
   "pygments_lexer": "ipython3",
   "version": "3.12.5"
  }
 },
 "nbformat": 4,
 "nbformat_minor": 2
}
