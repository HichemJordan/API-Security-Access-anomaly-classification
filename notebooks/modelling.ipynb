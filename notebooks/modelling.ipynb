{
 "cells": [
  {
   "cell_type": "markdown",
   "metadata": {},
   "source": [
    "# Modelling\n",
    "\n",
    "The main objectives for this notebook are:\n",
    "* To develop a model that will satisfiy our modelling objective\n",
    "* To properly evaluate the developed model\n",
    "* To have a trained model ready for deployment\n",
    "\n",
    "\n",
    "## good things to do\n",
    "1. Have a proper baseline\n",
    "2. Perform post-modellign steps - threshold selection, explainability, false positives / false negatives\n",
    "3. Use MLFlow for experiment tracking\n",
    "4. Build an ML training pipeline using Kedro/ZenML/Metaflow/etc\n"
   ]
  },
  {
   "cell_type": "code",
   "execution_count": 1,
   "metadata": {},
   "outputs": [
    {
     "name": "stderr",
     "output_type": "stream",
     "text": [
      "c:\\Users\\larib\\Projects\\Api security\\.venv\\Lib\\site-packages\\tqdm\\auto.py:21: TqdmWarning: IProgress not found. Please update jupyter and ipywidgets. See https://ipywidgets.readthedocs.io/en/stable/user_install.html\n",
      "  from .autonotebook import tqdm as notebook_tqdm\n"
     ]
    }
   ],
   "source": [
    "import os\n",
    "import sys\n",
    "import warnings\n",
    "\n",
    "import joblib\n",
    "import mlflow\n",
    "import numpy as np\n",
    "import plotly.express as px\n",
    "import polars as pl\n",
    "import shap\n",
    "from optuna.integration.mlflow import MLflowCallback\n",
    "from sklearn.ensemble import HistGradientBoostingClassifier\n",
    "from sklearn.metrics import average_precision_score, roc_auc_score\n",
    "from sklearn.model_selection import cross_val_score, train_test_split"
   ]
  },
  {
   "cell_type": "code",
   "execution_count": 3,
   "metadata": {},
   "outputs": [],
   "source": [
    "# Path needs to be added manually to read from another folder\n",
    "path2add = os.path.normpath(\n",
    "    os.path.abspath(os.path.join(os.path.dirname(\"__file__\"), os.path.pardir, \"utils\"))\n",
    ")\n",
    "if  (path2add not in sys.path):\n",
    "    sys.path.append(path2add)\n",
    "\n",
    "from ml_util_funcs import evaluate_thresholds, tune_hgbt"
   ]
  },
  {
   "cell_type": "code",
   "execution_count": 4,
   "metadata": {},
   "outputs": [
    {
     "name": "stderr",
     "output_type": "stream",
     "text": [
      "2024/11/05 09:55:02 INFO mlflow.store.db.utils: Creating initial MLflow database tables...\n",
      "2024/11/05 09:55:02 INFO mlflow.store.db.utils: Updating database tables\n",
      "INFO  [alembic.runtime.migration] Context impl SQLiteImpl.\n",
      "INFO  [alembic.runtime.migration] Will assume non-transactional DDL.\n",
      "INFO  [alembic.runtime.migration] Running upgrade  -> 451aebb31d03, add metric step\n",
      "INFO  [alembic.runtime.migration] Running upgrade 451aebb31d03 -> 90e64c465722, migrate user column to tags\n",
      "INFO  [alembic.runtime.migration] Running upgrade 90e64c465722 -> 181f10493468, allow nulls for metric values\n",
      "INFO  [alembic.runtime.migration] Running upgrade 181f10493468 -> df50e92ffc5e, Add Experiment Tags Table\n",
      "INFO  [alembic.runtime.migration] Running upgrade df50e92ffc5e -> 7ac759974ad8, Update run tags with larger limit\n",
      "INFO  [alembic.runtime.migration] Running upgrade 7ac759974ad8 -> 89d4b8295536, create latest metrics table\n",
      "INFO  [89d4b8295536_create_latest_metrics_table_py] Migration complete!\n",
      "INFO  [alembic.runtime.migration] Running upgrade 89d4b8295536 -> 2b4d017a5e9b, add model registry tables to db\n",
      "INFO  [2b4d017a5e9b_add_model_registry_tables_to_db_py] Adding registered_models and model_versions tables to database.\n",
      "INFO  [2b4d017a5e9b_add_model_registry_tables_to_db_py] Migration complete!\n",
      "INFO  [alembic.runtime.migration] Running upgrade 2b4d017a5e9b -> cfd24bdc0731, Update run status constraint with killed\n",
      "INFO  [alembic.runtime.migration] Running upgrade cfd24bdc0731 -> 0a8213491aaa, drop_duplicate_killed_constraint\n",
      "INFO  [alembic.runtime.migration] Running upgrade 0a8213491aaa -> 728d730b5ebd, add registered model tags table\n",
      "INFO  [alembic.runtime.migration] Running upgrade 728d730b5ebd -> 27a6a02d2cf1, add model version tags table\n",
      "INFO  [alembic.runtime.migration] Running upgrade 27a6a02d2cf1 -> 84291f40a231, add run_link to model_version\n",
      "INFO  [alembic.runtime.migration] Running upgrade 84291f40a231 -> a8c4a736bde6, allow nulls for run_id\n",
      "INFO  [alembic.runtime.migration] Running upgrade a8c4a736bde6 -> 39d1c3be5f05, add_is_nan_constraint_for_metrics_tables_if_necessary\n",
      "INFO  [alembic.runtime.migration] Running upgrade 39d1c3be5f05 -> c48cb773bb87, reset_default_value_for_is_nan_in_metrics_table_for_mysql\n",
      "INFO  [alembic.runtime.migration] Running upgrade c48cb773bb87 -> bd07f7e963c5, create index on run_uuid\n",
      "INFO  [alembic.runtime.migration] Running upgrade bd07f7e963c5 -> 0c779009ac13, add deleted_time field to runs table\n",
      "INFO  [alembic.runtime.migration] Running upgrade 0c779009ac13 -> cc1f77228345, change param value length to 500\n",
      "INFO  [alembic.runtime.migration] Running upgrade cc1f77228345 -> 97727af70f4d, Add creation_time and last_update_time to experiments table\n",
      "INFO  [alembic.runtime.migration] Running upgrade 97727af70f4d -> 3500859a5d39, Add Model Aliases table\n",
      "INFO  [alembic.runtime.migration] Running upgrade 3500859a5d39 -> 7f2a7d5fae7d, add datasets inputs input_tags tables\n",
      "INFO  [alembic.runtime.migration] Running upgrade 7f2a7d5fae7d -> 2d6e25af4d3e, increase max param val length from 500 to 8000\n",
      "INFO  [alembic.runtime.migration] Running upgrade 2d6e25af4d3e -> acf3f17fdcc7, add storage location field to model versions\n",
      "INFO  [alembic.runtime.migration] Running upgrade acf3f17fdcc7 -> 867495a8f9d4, add trace tables\n",
      "INFO  [alembic.runtime.migration] Running upgrade 867495a8f9d4 -> 5b0e9adcef9c, add cascade deletion to trace tables foreign keys\n",
      "INFO  [alembic.runtime.migration] Running upgrade 5b0e9adcef9c -> 4465047574b1, increase max dataset schema size\n",
      "INFO  [alembic.runtime.migration] Running upgrade 4465047574b1 -> f5a4f2784254, increase run tag value limit to 8000\n",
      "INFO  [alembic.runtime.migration] Context impl SQLiteImpl.\n",
      "INFO  [alembic.runtime.migration] Will assume non-transactional DDL.\n",
      "2024/11/05 09:55:03 INFO mlflow.tracking.fluent: Experiment with name 'api_anomaly' does not exist. Creating a new experiment.\n"
     ]
    }
   ],
   "source": [
    "warnings.filterwarnings(\"ignore\")\n",
    "mlflow.set_tracking_uri(\"sqlite:///mlflow.db\")\n",
    "mlflow.set_experiment(\"api_anomaly\")\n",
    "mlflow.sklearn.autolog(disable=True)"
   ]
  },
  {
   "cell_type": "markdown",
   "metadata": {},
   "source": [
    "## Read Data"
   ]
  },
  {
   "cell_type": "code",
   "execution_count": 6,
   "metadata": {},
   "outputs": [
    {
     "data": {
      "text/html": [
       "<div><style>\n",
       ".dataframe > thead > tr,\n",
       ".dataframe > tbody > tr {\n",
       "  text-align: right;\n",
       "  white-space: pre-wrap;\n",
       "}\n",
       "</style>\n",
       "<small>shape: (3, 22)</small><table border=\"1\" class=\"dataframe\"><thead><tr><th></th><th>_id</th><th>inter_api_access_duration(sec)</th><th>api_access_uniqueness</th><th>sequence_length(count)</th><th>vsession_duration(min)</th><th>ip_type</th><th>num_sessions</th><th>num_users</th><th>num_unique_apis</th><th>source</th><th>classification</th><th>is_anomaly</th><th>max_global_source_degrees</th><th>avg_global_source_degrees</th><th>min_global_dest_degrees</th><th>std_local_source_degrees</th><th>max_global_dest_degrees</th><th>min_global_source_degrees</th><th>std_global_source_degrees</th><th>n_connections</th><th>avg_global_dest_degrees</th></tr><tr><td>i64</td><td>str</td><td>f64</td><td>f64</td><td>f64</td><td>i64</td><td>str</td><td>f64</td><td>f64</td><td>f64</td><td>str</td><td>str</td><td>bool</td><td>u32</td><td>f64</td><td>u32</td><td>f64</td><td>u32</td><td>u32</td><td>f64</td><td>u32</td><td>f64</td></tr></thead><tbody><tr><td>1206</td><td>&quot;bf53ab82-2b4e-3820-8818-6c7f02…</td><td>0.60275</td><td>0.5</td><td>6.0</td><td>217</td><td>&quot;default&quot;</td><td>2.0</td><td>1.0</td><td>3.0</td><td>&quot;E&quot;</td><td>&quot;outlier&quot;</td><td>true</td><td>32071</td><td>32071.0</td><td>1217</td><td>null</td><td>1217</td><td>32071</td><td>null</td><td>1</td><td>1217.0</td></tr><tr><td>341</td><td>&quot;d9d846e3-b048-3388-80c8-a361c3…</td><td>0.000009</td><td>0.017857</td><td>8.823151</td><td>4</td><td>&quot;default&quot;</td><td>1947.0</td><td>622.0</td><td>98.0</td><td>&quot;E&quot;</td><td>&quot;normal&quot;</td><td>false</td><td>32071</td><td>6817.737037</td><td>23</td><td>6.879318</td><td>22416</td><td>21</td><td>8789.635104</td><td>270</td><td>8213.018519</td></tr><tr><td>729</td><td>&quot;f1dce7b4-d28d-3d8b-9d01-7ef372…</td><td>0.00544</td><td>0.018262</td><td>26.737089</td><td>1859</td><td>&quot;default&quot;</td><td>296.0</td><td>213.0</td><td>104.0</td><td>&quot;E&quot;</td><td>&quot;normal&quot;</td><td>false</td><td>32071</td><td>6428.850794</td><td>26</td><td>7.899586</td><td>22416</td><td>15</td><td>8838.839606</td><td>315</td><td>7639.907937</td></tr></tbody></table></div>"
      ],
      "text/plain": [
       "shape: (3, 22)\n",
       "┌──────┬────────────┬────────────┬────────────┬───┬────────────┬───────────┬───────────┬───────────┐\n",
       "│      ┆ _id        ┆ inter_api_ ┆ api_access ┆ … ┆ min_global ┆ std_globa ┆ n_connect ┆ avg_globa │\n",
       "│ ---  ┆ ---        ┆ access_dur ┆ _uniquenes ┆   ┆ _source_de ┆ l_source_ ┆ ions      ┆ l_dest_de │\n",
       "│ i64  ┆ str        ┆ ation(sec) ┆ s          ┆   ┆ grees      ┆ degrees   ┆ ---       ┆ grees     │\n",
       "│      ┆            ┆ ---        ┆ ---        ┆   ┆ ---        ┆ ---       ┆ u32       ┆ ---       │\n",
       "│      ┆            ┆ f64        ┆ f64        ┆   ┆ u32        ┆ f64       ┆           ┆ f64       │\n",
       "╞══════╪════════════╪════════════╪════════════╪═══╪════════════╪═══════════╪═══════════╪═══════════╡\n",
       "│ 1206 ┆ bf53ab82-2 ┆ 0.60275    ┆ 0.5        ┆ … ┆ 32071      ┆ null      ┆ 1         ┆ 1217.0    │\n",
       "│      ┆ b4e-3820-8 ┆            ┆            ┆   ┆            ┆           ┆           ┆           │\n",
       "│      ┆ 818-6c7f02 ┆            ┆            ┆   ┆            ┆           ┆           ┆           │\n",
       "│      ┆ …          ┆            ┆            ┆   ┆            ┆           ┆           ┆           │\n",
       "│ 341  ┆ d9d846e3-b ┆ 0.000009   ┆ 0.017857   ┆ … ┆ 21         ┆ 8789.6351 ┆ 270       ┆ 8213.0185 │\n",
       "│      ┆ 048-3388-8 ┆            ┆            ┆   ┆            ┆ 04        ┆           ┆ 19        │\n",
       "│      ┆ 0c8-a361c3 ┆            ┆            ┆   ┆            ┆           ┆           ┆           │\n",
       "│      ┆ …          ┆            ┆            ┆   ┆            ┆           ┆           ┆           │\n",
       "│ 729  ┆ f1dce7b4-d ┆ 0.00544    ┆ 0.018262   ┆ … ┆ 15         ┆ 8838.8396 ┆ 315       ┆ 7639.9079 │\n",
       "│      ┆ 28d-3d8b-9 ┆            ┆            ┆   ┆            ┆ 06        ┆           ┆ 37        │\n",
       "│      ┆ d01-7ef372 ┆            ┆            ┆   ┆            ┆           ┆           ┆           │\n",
       "│      ┆ …          ┆            ┆            ┆   ┆            ┆           ┆           ┆           │\n",
       "└──────┴────────────┴────────────┴────────────┴───┴────────────┴───────────┴───────────┴───────────┘"
      ]
     },
     "execution_count": 6,
     "metadata": {},
     "output_type": "execute_result"
    }
   ],
   "source": [
    "data = pl.read_parquet('../data/supervised_clean_data_w_features.parquet')\n",
    "data.sample(3)"
   ]
  },
  {
   "cell_type": "markdown",
   "metadata": {},
   "source": [
    "## Data Processing for Modelling"
   ]
  },
  {
   "cell_type": "markdown",
   "metadata": {},
   "source": [
    "Doing initial modelling, I've noticed that we can perfectly prdict outliers using the provided features which is not surprising - it's generally quite easy to replicate the results of unsupervised models in a supervised way. Hence, the modelling goal for this project has shifted from <br><br> `To develop a supervised model to classify behaviour into normal and anomalous` <br><br> to <br><br>`To develop a supervised model using the engineered features to classify behaviour into normal and anomalous` "
   ]
  },
  {
   "cell_type": "code",
   "execution_count": 7,
   "metadata": {},
   "outputs": [
    {
     "data": {
      "text/html": [
       "<div><style>\n",
       ".dataframe > thead > tr,\n",
       ".dataframe > tbody > tr {\n",
       "  text-align: right;\n",
       "  white-space: pre-wrap;\n",
       "}\n",
       "</style>\n",
       "<small>shape: (3, 10)</small><table border=\"1\" class=\"dataframe\"><thead><tr><th>is_anomaly</th><th>max_global_source_degrees</th><th>avg_global_source_degrees</th><th>min_global_dest_degrees</th><th>std_local_source_degrees</th><th>max_global_dest_degrees</th><th>min_global_source_degrees</th><th>std_global_source_degrees</th><th>n_connections</th><th>avg_global_dest_degrees</th></tr><tr><td>bool</td><td>u32</td><td>f64</td><td>u32</td><td>f64</td><td>u32</td><td>u32</td><td>f64</td><td>u32</td><td>f64</td></tr></thead><tbody><tr><td>false</td><td>32071</td><td>5920.831579</td><td>3</td><td>7.225176</td><td>22416</td><td>3</td><td>8100.117708</td><td>380</td><td>7046.963158</td></tr><tr><td>false</td><td>32071</td><td>9067.145455</td><td>580</td><td>2.325094</td><td>22416</td><td>476</td><td>10049.337307</td><td>55</td><td>8816.490909</td></tr><tr><td>false</td><td>32071</td><td>6867.384615</td><td>813</td><td>2.277397</td><td>22416</td><td>403</td><td>9907.997773</td><td>65</td><td>6246.953846</td></tr></tbody></table></div>"
      ],
      "text/plain": [
       "shape: (3, 10)\n",
       "┌───────────┬───────────┬───────────┬───────────┬───┬───────────┬───────────┬───────────┬──────────┐\n",
       "│ is_anomal ┆ max_globa ┆ avg_globa ┆ min_globa ┆ … ┆ min_globa ┆ std_globa ┆ n_connect ┆ avg_glob │\n",
       "│ y         ┆ l_source_ ┆ l_source_ ┆ l_dest_de ┆   ┆ l_source_ ┆ l_source_ ┆ ions      ┆ al_dest_ │\n",
       "│ ---       ┆ degrees   ┆ degrees   ┆ grees     ┆   ┆ degrees   ┆ degrees   ┆ ---       ┆ degrees  │\n",
       "│ bool      ┆ ---       ┆ ---       ┆ ---       ┆   ┆ ---       ┆ ---       ┆ u32       ┆ ---      │\n",
       "│           ┆ u32       ┆ f64       ┆ u32       ┆   ┆ u32       ┆ f64       ┆           ┆ f64      │\n",
       "╞═══════════╪═══════════╪═══════════╪═══════════╪═══╪═══════════╪═══════════╪═══════════╪══════════╡\n",
       "│ false     ┆ 32071     ┆ 5920.8315 ┆ 3         ┆ … ┆ 3         ┆ 8100.1177 ┆ 380       ┆ 7046.963 │\n",
       "│           ┆           ┆ 79        ┆           ┆   ┆           ┆ 08        ┆           ┆ 158      │\n",
       "│ false     ┆ 32071     ┆ 9067.1454 ┆ 580       ┆ … ┆ 476       ┆ 10049.337 ┆ 55        ┆ 8816.490 │\n",
       "│           ┆           ┆ 55        ┆           ┆   ┆           ┆ 307       ┆           ┆ 909      │\n",
       "│ false     ┆ 32071     ┆ 6867.3846 ┆ 813       ┆ … ┆ 403       ┆ 9907.9977 ┆ 65        ┆ 6246.953 │\n",
       "│           ┆           ┆ 15        ┆           ┆   ┆           ┆ 73        ┆           ┆ 846      │\n",
       "└───────────┴───────────┴───────────┴───────────┴───┴───────────┴───────────┴───────────┴──────────┘"
      ]
     },
     "execution_count": 7,
     "metadata": {},
     "output_type": "execute_result"
    }
   ],
   "source": [
    "label = \"is_anomaly\"\n",
    "numerical_features = [\n",
    "    \"max_global_source_degrees\",\n",
    "    \"avg_global_source_degrees\",\n",
    "    \"min_global_dest_degrees\",\n",
    "    \"std_local_source_degrees\",\n",
    "    \"max_global_dest_degrees\",\n",
    "    \"min_global_source_degrees\",\n",
    "    \"std_global_source_degrees\",\n",
    "    \"n_connections\",\n",
    "    \"avg_global_dest_degrees\",\n",
    "]\n",
    "\n",
    "data = data.filter(pl.col('ip_type') == 'default').select([label] + numerical_features) # \n",
    "data.sample(3)"
   ]
  },
  {
   "cell_type": "code",
   "execution_count": 8,
   "metadata": {},
   "outputs": [],
   "source": [
    "X_train, X_test, y_train, y_test = train_test_split(data[numerical_features], data[label].to_list(), test_size=0.2)"
   ]
  },
  {
   "cell_type": "code",
   "execution_count": 9,
   "metadata": {},
   "outputs": [
    {
     "name": "stdout",
     "output_type": "stream",
     "text": [
      "Train shape:  (1233, 9)\n",
      "Test shape:: (309, 9)\n"
     ]
    }
   ],
   "source": [
    "print(\"Train shape: \", X_train.shape)\n",
    "print(\"Test shape::\", X_test.shape)"
   ]
  }
 ],
 "metadata": {
  "kernelspec": {
   "display_name": ".venv",
   "language": "python",
   "name": "python3"
  },
  "language_info": {
   "codemirror_mode": {
    "name": "ipython",
    "version": 3
   },
   "file_extension": ".py",
   "mimetype": "text/x-python",
   "name": "python",
   "nbconvert_exporter": "python",
   "pygments_lexer": "ipython3",
   "version": "3.12.5"
  }
 },
 "nbformat": 4,
 "nbformat_minor": 2
}
