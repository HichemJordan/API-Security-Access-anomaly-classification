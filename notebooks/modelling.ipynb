{
 "cells": [
  {
   "cell_type": "markdown",
   "metadata": {},
   "source": [
    "# Modelling\n",
    "\n",
    "The main objectives for this notebook are:\n",
    "* To develop a model that will satisfiy our modelling objective\n",
    "* To properly evaluate the developed model\n",
    "* To have a trained model ready for deployment\n",
    "\n",
    "\n",
    "## good things to do\n",
    "1. Have a proper baseline\n",
    "2. Perform post-modellign steps - threshold selection, explainability, false positives / false negatives\n",
    "3. Use MLFlow for experiment tracking\n",
    "4. Build an ML training pipeline using Kedro/ZenML/Metaflow/etc\n"
   ]
  },
  {
   "cell_type": "code",
   "execution_count": 1,
   "metadata": {},
   "outputs": [
    {
     "name": "stderr",
     "output_type": "stream",
     "text": [
      "c:\\Users\\larib\\Projects\\Api security\\.venv\\Lib\\site-packages\\tqdm\\auto.py:21: TqdmWarning: IProgress not found. Please update jupyter and ipywidgets. See https://ipywidgets.readthedocs.io/en/stable/user_install.html\n",
      "  from .autonotebook import tqdm as notebook_tqdm\n"
     ]
    }
   ],
   "source": [
    "import os\n",
    "import sys\n",
    "import warnings\n",
    "\n",
    "import joblib\n",
    "import mlflow\n",
    "import numpy as np\n",
    "import plotly.express as px\n",
    "import polars as pl\n",
    "import shap\n",
    "from optuna.integration.mlflow import MLflowCallback\n",
    "from sklearn.ensemble import HistGradientBoostingClassifier\n",
    "from sklearn.metrics import average_precision_score, roc_auc_score\n",
    "from sklearn.model_selection import cross_val_score, train_test_split"
   ]
  },
  {
   "cell_type": "code",
   "execution_count": 3,
   "metadata": {},
   "outputs": [],
   "source": [
    "# Path needs to be added manually to read from another folder\n",
    "path2add = os.path.normpath(\n",
    "    os.path.abspath(os.path.join(os.path.dirname(\"__file__\"), os.path.pardir, \"utils\"))\n",
    ")\n",
    "if  (path2add not in sys.path):\n",
    "    sys.path.append(path2add)\n",
    "\n",
    "from ml_util_funcs import evaluate_thresholds, tune_hgbt"
   ]
  },
  {
   "cell_type": "code",
   "execution_count": 4,
   "metadata": {},
   "outputs": [
    {
     "name": "stderr",
     "output_type": "stream",
     "text": [
      "2024/11/05 09:55:02 INFO mlflow.store.db.utils: Creating initial MLflow database tables...\n",
      "2024/11/05 09:55:02 INFO mlflow.store.db.utils: Updating database tables\n",
      "INFO  [alembic.runtime.migration] Context impl SQLiteImpl.\n",
      "INFO  [alembic.runtime.migration] Will assume non-transactional DDL.\n",
      "INFO  [alembic.runtime.migration] Running upgrade  -> 451aebb31d03, add metric step\n",
      "INFO  [alembic.runtime.migration] Running upgrade 451aebb31d03 -> 90e64c465722, migrate user column to tags\n",
      "INFO  [alembic.runtime.migration] Running upgrade 90e64c465722 -> 181f10493468, allow nulls for metric values\n",
      "INFO  [alembic.runtime.migration] Running upgrade 181f10493468 -> df50e92ffc5e, Add Experiment Tags Table\n",
      "INFO  [alembic.runtime.migration] Running upgrade df50e92ffc5e -> 7ac759974ad8, Update run tags with larger limit\n",
      "INFO  [alembic.runtime.migration] Running upgrade 7ac759974ad8 -> 89d4b8295536, create latest metrics table\n",
      "INFO  [89d4b8295536_create_latest_metrics_table_py] Migration complete!\n",
      "INFO  [alembic.runtime.migration] Running upgrade 89d4b8295536 -> 2b4d017a5e9b, add model registry tables to db\n",
      "INFO  [2b4d017a5e9b_add_model_registry_tables_to_db_py] Adding registered_models and model_versions tables to database.\n",
      "INFO  [2b4d017a5e9b_add_model_registry_tables_to_db_py] Migration complete!\n",
      "INFO  [alembic.runtime.migration] Running upgrade 2b4d017a5e9b -> cfd24bdc0731, Update run status constraint with killed\n",
      "INFO  [alembic.runtime.migration] Running upgrade cfd24bdc0731 -> 0a8213491aaa, drop_duplicate_killed_constraint\n",
      "INFO  [alembic.runtime.migration] Running upgrade 0a8213491aaa -> 728d730b5ebd, add registered model tags table\n",
      "INFO  [alembic.runtime.migration] Running upgrade 728d730b5ebd -> 27a6a02d2cf1, add model version tags table\n",
      "INFO  [alembic.runtime.migration] Running upgrade 27a6a02d2cf1 -> 84291f40a231, add run_link to model_version\n",
      "INFO  [alembic.runtime.migration] Running upgrade 84291f40a231 -> a8c4a736bde6, allow nulls for run_id\n",
      "INFO  [alembic.runtime.migration] Running upgrade a8c4a736bde6 -> 39d1c3be5f05, add_is_nan_constraint_for_metrics_tables_if_necessary\n",
      "INFO  [alembic.runtime.migration] Running upgrade 39d1c3be5f05 -> c48cb773bb87, reset_default_value_for_is_nan_in_metrics_table_for_mysql\n",
      "INFO  [alembic.runtime.migration] Running upgrade c48cb773bb87 -> bd07f7e963c5, create index on run_uuid\n",
      "INFO  [alembic.runtime.migration] Running upgrade bd07f7e963c5 -> 0c779009ac13, add deleted_time field to runs table\n",
      "INFO  [alembic.runtime.migration] Running upgrade 0c779009ac13 -> cc1f77228345, change param value length to 500\n",
      "INFO  [alembic.runtime.migration] Running upgrade cc1f77228345 -> 97727af70f4d, Add creation_time and last_update_time to experiments table\n",
      "INFO  [alembic.runtime.migration] Running upgrade 97727af70f4d -> 3500859a5d39, Add Model Aliases table\n",
      "INFO  [alembic.runtime.migration] Running upgrade 3500859a5d39 -> 7f2a7d5fae7d, add datasets inputs input_tags tables\n",
      "INFO  [alembic.runtime.migration] Running upgrade 7f2a7d5fae7d -> 2d6e25af4d3e, increase max param val length from 500 to 8000\n",
      "INFO  [alembic.runtime.migration] Running upgrade 2d6e25af4d3e -> acf3f17fdcc7, add storage location field to model versions\n",
      "INFO  [alembic.runtime.migration] Running upgrade acf3f17fdcc7 -> 867495a8f9d4, add trace tables\n",
      "INFO  [alembic.runtime.migration] Running upgrade 867495a8f9d4 -> 5b0e9adcef9c, add cascade deletion to trace tables foreign keys\n",
      "INFO  [alembic.runtime.migration] Running upgrade 5b0e9adcef9c -> 4465047574b1, increase max dataset schema size\n",
      "INFO  [alembic.runtime.migration] Running upgrade 4465047574b1 -> f5a4f2784254, increase run tag value limit to 8000\n",
      "INFO  [alembic.runtime.migration] Context impl SQLiteImpl.\n",
      "INFO  [alembic.runtime.migration] Will assume non-transactional DDL.\n",
      "2024/11/05 09:55:03 INFO mlflow.tracking.fluent: Experiment with name 'api_anomaly' does not exist. Creating a new experiment.\n"
     ]
    }
   ],
   "source": [
    "warnings.filterwarnings(\"ignore\")\n",
    "mlflow.set_tracking_uri(\"sqlite:///mlflow.db\")\n",
    "mlflow.set_experiment(\"api_anomaly\")\n",
    "mlflow.sklearn.autolog(disable=True)"
   ]
  },
  {
   "cell_type": "markdown",
   "metadata": {},
   "source": [
    "## Read Data"
   ]
  },
  {
   "cell_type": "code",
   "execution_count": 6,
   "metadata": {},
   "outputs": [
    {
     "data": {
      "text/html": [
       "<div><style>\n",
       ".dataframe > thead > tr,\n",
       ".dataframe > tbody > tr {\n",
       "  text-align: right;\n",
       "  white-space: pre-wrap;\n",
       "}\n",
       "</style>\n",
       "<small>shape: (3, 22)</small><table border=\"1\" class=\"dataframe\"><thead><tr><th></th><th>_id</th><th>inter_api_access_duration(sec)</th><th>api_access_uniqueness</th><th>sequence_length(count)</th><th>vsession_duration(min)</th><th>ip_type</th><th>num_sessions</th><th>num_users</th><th>num_unique_apis</th><th>source</th><th>classification</th><th>is_anomaly</th><th>max_global_source_degrees</th><th>avg_global_source_degrees</th><th>min_global_dest_degrees</th><th>std_local_source_degrees</th><th>max_global_dest_degrees</th><th>min_global_source_degrees</th><th>std_global_source_degrees</th><th>n_connections</th><th>avg_global_dest_degrees</th></tr><tr><td>i64</td><td>str</td><td>f64</td><td>f64</td><td>f64</td><td>i64</td><td>str</td><td>f64</td><td>f64</td><td>f64</td><td>str</td><td>str</td><td>bool</td><td>u32</td><td>f64</td><td>u32</td><td>f64</td><td>u32</td><td>u32</td><td>f64</td><td>u32</td><td>f64</td></tr></thead><tbody><tr><td>1206</td><td>&quot;bf53ab82-2b4e-3820-8818-6c7f02…</td><td>0.60275</td><td>0.5</td><td>6.0</td><td>217</td><td>&quot;default&quot;</td><td>2.0</td><td>1.0</td><td>3.0</td><td>&quot;E&quot;</td><td>&quot;outlier&quot;</td><td>true</td><td>32071</td><td>32071.0</td><td>1217</td><td>null</td><td>1217</td><td>32071</td><td>null</td><td>1</td><td>1217.0</td></tr><tr><td>341</td><td>&quot;d9d846e3-b048-3388-80c8-a361c3…</td><td>0.000009</td><td>0.017857</td><td>8.823151</td><td>4</td><td>&quot;default&quot;</td><td>1947.0</td><td>622.0</td><td>98.0</td><td>&quot;E&quot;</td><td>&quot;normal&quot;</td><td>false</td><td>32071</td><td>6817.737037</td><td>23</td><td>6.879318</td><td>22416</td><td>21</td><td>8789.635104</td><td>270</td><td>8213.018519</td></tr><tr><td>729</td><td>&quot;f1dce7b4-d28d-3d8b-9d01-7ef372…</td><td>0.00544</td><td>0.018262</td><td>26.737089</td><td>1859</td><td>&quot;default&quot;</td><td>296.0</td><td>213.0</td><td>104.0</td><td>&quot;E&quot;</td><td>&quot;normal&quot;</td><td>false</td><td>32071</td><td>6428.850794</td><td>26</td><td>7.899586</td><td>22416</td><td>15</td><td>8838.839606</td><td>315</td><td>7639.907937</td></tr></tbody></table></div>"
      ],
      "text/plain": [
       "shape: (3, 22)\n",
       "┌──────┬────────────┬────────────┬────────────┬───┬────────────┬───────────┬───────────┬───────────┐\n",
       "│      ┆ _id        ┆ inter_api_ ┆ api_access ┆ … ┆ min_global ┆ std_globa ┆ n_connect ┆ avg_globa │\n",
       "│ ---  ┆ ---        ┆ access_dur ┆ _uniquenes ┆   ┆ _source_de ┆ l_source_ ┆ ions      ┆ l_dest_de │\n",
       "│ i64  ┆ str        ┆ ation(sec) ┆ s          ┆   ┆ grees      ┆ degrees   ┆ ---       ┆ grees     │\n",
       "│      ┆            ┆ ---        ┆ ---        ┆   ┆ ---        ┆ ---       ┆ u32       ┆ ---       │\n",
       "│      ┆            ┆ f64        ┆ f64        ┆   ┆ u32        ┆ f64       ┆           ┆ f64       │\n",
       "╞══════╪════════════╪════════════╪════════════╪═══╪════════════╪═══════════╪═══════════╪═══════════╡\n",
       "│ 1206 ┆ bf53ab82-2 ┆ 0.60275    ┆ 0.5        ┆ … ┆ 32071      ┆ null      ┆ 1         ┆ 1217.0    │\n",
       "│      ┆ b4e-3820-8 ┆            ┆            ┆   ┆            ┆           ┆           ┆           │\n",
       "│      ┆ 818-6c7f02 ┆            ┆            ┆   ┆            ┆           ┆           ┆           │\n",
       "│      ┆ …          ┆            ┆            ┆   ┆            ┆           ┆           ┆           │\n",
       "│ 341  ┆ d9d846e3-b ┆ 0.000009   ┆ 0.017857   ┆ … ┆ 21         ┆ 8789.6351 ┆ 270       ┆ 8213.0185 │\n",
       "│      ┆ 048-3388-8 ┆            ┆            ┆   ┆            ┆ 04        ┆           ┆ 19        │\n",
       "│      ┆ 0c8-a361c3 ┆            ┆            ┆   ┆            ┆           ┆           ┆           │\n",
       "│      ┆ …          ┆            ┆            ┆   ┆            ┆           ┆           ┆           │\n",
       "│ 729  ┆ f1dce7b4-d ┆ 0.00544    ┆ 0.018262   ┆ … ┆ 15         ┆ 8838.8396 ┆ 315       ┆ 7639.9079 │\n",
       "│      ┆ 28d-3d8b-9 ┆            ┆            ┆   ┆            ┆ 06        ┆           ┆ 37        │\n",
       "│      ┆ d01-7ef372 ┆            ┆            ┆   ┆            ┆           ┆           ┆           │\n",
       "│      ┆ …          ┆            ┆            ┆   ┆            ┆           ┆           ┆           │\n",
       "└──────┴────────────┴────────────┴────────────┴───┴────────────┴───────────┴───────────┴───────────┘"
      ]
     },
     "execution_count": 6,
     "metadata": {},
     "output_type": "execute_result"
    }
   ],
   "source": [
    "data = pl.read_parquet('../data/supervised_clean_data_w_features.parquet')\n",
    "data.sample(3)"
   ]
  },
  {
   "cell_type": "markdown",
   "metadata": {},
   "source": [
    "## Data Processing for Modelling"
   ]
  },
  {
   "cell_type": "markdown",
   "metadata": {},
   "source": [
    "Doing initial modelling, I've noticed that we can perfectly prdict outliers using the provided features which is not surprising - it's generally quite easy to replicate the results of unsupervised models in a supervised way. Hence, the modelling goal for this project has shifted from <br><br> `To develop a supervised model to classify behaviour into normal and anomalous` <br><br> to <br><br>`To develop a supervised model using the engineered features to classify behaviour into normal and anomalous` "
   ]
  },
  {
   "cell_type": "code",
   "execution_count": 7,
   "metadata": {},
   "outputs": [
    {
     "data": {
      "text/html": [
       "<div><style>\n",
       ".dataframe > thead > tr,\n",
       ".dataframe > tbody > tr {\n",
       "  text-align: right;\n",
       "  white-space: pre-wrap;\n",
       "}\n",
       "</style>\n",
       "<small>shape: (3, 10)</small><table border=\"1\" class=\"dataframe\"><thead><tr><th>is_anomaly</th><th>max_global_source_degrees</th><th>avg_global_source_degrees</th><th>min_global_dest_degrees</th><th>std_local_source_degrees</th><th>max_global_dest_degrees</th><th>min_global_source_degrees</th><th>std_global_source_degrees</th><th>n_connections</th><th>avg_global_dest_degrees</th></tr><tr><td>bool</td><td>u32</td><td>f64</td><td>u32</td><td>f64</td><td>u32</td><td>u32</td><td>f64</td><td>u32</td><td>f64</td></tr></thead><tbody><tr><td>false</td><td>32071</td><td>5920.831579</td><td>3</td><td>7.225176</td><td>22416</td><td>3</td><td>8100.117708</td><td>380</td><td>7046.963158</td></tr><tr><td>false</td><td>32071</td><td>9067.145455</td><td>580</td><td>2.325094</td><td>22416</td><td>476</td><td>10049.337307</td><td>55</td><td>8816.490909</td></tr><tr><td>false</td><td>32071</td><td>6867.384615</td><td>813</td><td>2.277397</td><td>22416</td><td>403</td><td>9907.997773</td><td>65</td><td>6246.953846</td></tr></tbody></table></div>"
      ],
      "text/plain": [
       "shape: (3, 10)\n",
       "┌───────────┬───────────┬───────────┬───────────┬───┬───────────┬───────────┬───────────┬──────────┐\n",
       "│ is_anomal ┆ max_globa ┆ avg_globa ┆ min_globa ┆ … ┆ min_globa ┆ std_globa ┆ n_connect ┆ avg_glob │\n",
       "│ y         ┆ l_source_ ┆ l_source_ ┆ l_dest_de ┆   ┆ l_source_ ┆ l_source_ ┆ ions      ┆ al_dest_ │\n",
       "│ ---       ┆ degrees   ┆ degrees   ┆ grees     ┆   ┆ degrees   ┆ degrees   ┆ ---       ┆ degrees  │\n",
       "│ bool      ┆ ---       ┆ ---       ┆ ---       ┆   ┆ ---       ┆ ---       ┆ u32       ┆ ---      │\n",
       "│           ┆ u32       ┆ f64       ┆ u32       ┆   ┆ u32       ┆ f64       ┆           ┆ f64      │\n",
       "╞═══════════╪═══════════╪═══════════╪═══════════╪═══╪═══════════╪═══════════╪═══════════╪══════════╡\n",
       "│ false     ┆ 32071     ┆ 5920.8315 ┆ 3         ┆ … ┆ 3         ┆ 8100.1177 ┆ 380       ┆ 7046.963 │\n",
       "│           ┆           ┆ 79        ┆           ┆   ┆           ┆ 08        ┆           ┆ 158      │\n",
       "│ false     ┆ 32071     ┆ 9067.1454 ┆ 580       ┆ … ┆ 476       ┆ 10049.337 ┆ 55        ┆ 8816.490 │\n",
       "│           ┆           ┆ 55        ┆           ┆   ┆           ┆ 307       ┆           ┆ 909      │\n",
       "│ false     ┆ 32071     ┆ 6867.3846 ┆ 813       ┆ … ┆ 403       ┆ 9907.9977 ┆ 65        ┆ 6246.953 │\n",
       "│           ┆           ┆ 15        ┆           ┆   ┆           ┆ 73        ┆           ┆ 846      │\n",
       "└───────────┴───────────┴───────────┴───────────┴───┴───────────┴───────────┴───────────┴──────────┘"
      ]
     },
     "execution_count": 7,
     "metadata": {},
     "output_type": "execute_result"
    }
   ],
   "source": [
    "label = \"is_anomaly\"\n",
    "numerical_features = [\n",
    "    \"max_global_source_degrees\",\n",
    "    \"avg_global_source_degrees\",\n",
    "    \"min_global_dest_degrees\",\n",
    "    \"std_local_source_degrees\",\n",
    "    \"max_global_dest_degrees\",\n",
    "    \"min_global_source_degrees\",\n",
    "    \"std_global_source_degrees\",\n",
    "    \"n_connections\",\n",
    "    \"avg_global_dest_degrees\",\n",
    "]\n",
    "\n",
    "data = data.filter(pl.col('ip_type') == 'default').select([label] + numerical_features) # \n",
    "data.sample(3)"
   ]
  },
  {
   "cell_type": "code",
   "execution_count": 8,
   "metadata": {},
   "outputs": [],
   "source": [
    "X_train, X_test, y_train, y_test = train_test_split(data[numerical_features], data[label].to_list(), test_size=0.2)"
   ]
  },
  {
   "cell_type": "code",
   "execution_count": 9,
   "metadata": {},
   "outputs": [
    {
     "name": "stdout",
     "output_type": "stream",
     "text": [
      "Train shape:  (1233, 9)\n",
      "Test shape:: (309, 9)\n"
     ]
    }
   ],
   "source": [
    "print(\"Train shape: \", X_train.shape)\n",
    "print(\"Test shape::\", X_test.shape)"
   ]
  },
  {
   "cell_type": "markdown",
   "metadata": {},
   "source": [
    "## Baseline\n",
    "Before building a model, we need to understand whether the problem can be solved without using ML. "
   ]
  },
  {
   "cell_type": "code",
   "execution_count": 10,
   "metadata": {},
   "outputs": [],
   "source": [
    "from sklearn.metrics import f1_score\n",
    "\n",
    "heuristic_f1_scores = []\n",
    "possible_values = X_train['n_connections'].sort().unique().to_list()\n",
    "for v in possible_values:\n",
    "    heuristic_pred = X_test.select(pl.col('n_connections') <= v).to_pandas()\n",
    "    heuristic_f1_scores.append(f1_score(y_test, heuristic_pred))"
   ]
  },
  {
   "cell_type": "code",
   "execution_count": 11,
   "metadata": {},
   "outputs": [
    {
     "data": {
      "application/vnd.plotly.v1+json": {
       "config": {
        "plotlyServerURL": "https://plot.ly"
       },
       "data": [
        {
         "hovertemplate": "Number of Connections Threshold=%{x}<br>F1 Score=%{y}<extra></extra>",
         "legendgroup": "",
         "line": {
          "color": "#636efa",
          "dash": "solid"
         },
         "marker": {
          "symbol": "circle"
         },
         "mode": "lines",
         "name": "",
         "orientation": "v",
         "showlegend": false,
         "type": "scatter",
         "x": [
          1,
          2,
          3,
          4,
          5,
          6,
          7,
          8,
          9,
          10,
          11,
          12,
          13,
          14,
          15,
          16,
          17,
          18,
          19,
          20,
          21,
          22,
          23,
          24,
          25,
          26,
          27,
          28,
          29,
          30,
          31,
          32,
          33,
          34,
          35,
          36,
          37,
          38,
          39,
          40,
          41,
          42,
          43,
          44,
          45,
          46,
          47,
          48,
          49,
          50,
          51,
          52,
          53,
          55,
          56,
          57,
          58,
          59,
          60,
          61,
          62,
          63,
          64,
          65,
          66,
          67,
          68,
          69,
          70,
          71,
          72,
          73,
          74,
          76,
          77,
          79,
          80,
          81,
          82,
          83,
          84,
          85,
          86,
          87,
          88,
          89,
          90,
          91,
          92,
          93,
          94,
          95,
          96,
          97,
          98,
          99,
          100,
          101,
          102,
          103,
          104,
          105,
          106,
          107,
          108,
          109,
          110,
          111,
          112,
          113,
          114,
          115,
          117,
          118,
          119,
          120,
          121,
          122,
          123,
          124,
          125,
          126,
          127,
          128,
          129,
          130,
          131,
          132,
          133,
          134,
          135,
          136,
          137,
          138,
          139,
          140,
          141,
          142,
          143,
          144,
          145,
          146,
          147,
          148,
          149,
          151,
          153,
          154,
          155,
          156,
          157,
          159,
          160,
          161,
          162,
          163,
          164,
          165,
          167,
          169,
          170,
          171,
          172,
          174,
          175,
          176,
          177,
          178,
          179,
          180,
          184,
          185,
          186,
          187,
          188,
          189,
          191,
          192,
          194,
          195,
          196,
          197,
          198,
          199,
          200,
          202,
          203,
          205,
          206,
          207,
          209,
          210,
          213,
          214,
          215,
          216,
          217,
          219,
          220,
          221,
          223,
          224,
          229,
          230,
          231,
          234,
          236,
          237,
          238,
          239,
          240,
          241,
          242,
          243,
          244,
          245,
          246,
          247,
          248,
          250,
          251,
          252,
          254,
          255,
          256,
          257,
          258,
          261,
          262,
          264,
          265,
          266,
          267,
          270,
          271,
          273,
          274,
          276,
          277,
          278,
          285,
          286,
          290,
          292,
          293,
          294,
          296,
          297,
          300,
          301,
          302,
          303,
          304,
          305,
          306,
          307,
          308,
          309,
          311,
          313,
          317,
          318,
          319,
          320,
          321,
          331,
          333,
          334,
          335,
          336,
          338,
          339,
          340,
          341,
          342,
          347,
          348,
          351,
          352,
          354,
          355,
          357,
          358,
          361,
          364,
          366,
          367,
          368,
          372,
          373,
          374,
          375,
          376,
          377,
          380,
          381,
          382,
          383,
          384,
          387,
          388,
          390,
          397,
          398,
          399,
          402,
          404,
          405,
          407,
          408,
          409,
          410,
          414,
          415,
          417,
          418,
          421,
          423,
          424,
          426,
          430,
          431,
          432,
          434,
          438,
          440,
          442,
          443,
          444,
          450,
          452,
          454,
          456,
          459,
          461,
          463,
          465,
          467,
          471,
          475,
          477,
          479,
          480,
          481,
          482,
          483,
          484,
          486,
          487,
          488,
          489,
          493,
          499,
          500,
          501,
          503,
          504,
          505,
          509,
          512,
          517,
          520,
          521,
          522,
          524,
          525,
          529,
          531,
          533,
          534,
          536,
          540,
          542,
          544,
          552,
          553,
          560,
          563,
          573,
          574,
          578,
          579,
          580,
          582,
          586,
          592,
          594,
          603,
          607,
          608,
          610,
          615,
          616,
          619,
          626,
          627,
          628,
          630,
          632,
          637,
          638,
          642,
          648,
          649,
          654,
          659,
          660,
          663,
          665,
          672,
          675,
          678,
          680,
          683,
          685,
          694,
          703,
          704,
          716,
          718,
          719,
          726,
          731,
          736,
          748,
          754,
          766,
          767,
          774,
          780,
          782,
          786,
          791,
          792,
          796,
          800,
          803,
          816,
          829,
          835,
          842,
          846,
          860,
          866,
          868,
          876,
          886,
          908,
          912,
          915,
          917,
          936,
          971,
          973,
          982,
          983,
          1004,
          1009,
          1019,
          1022,
          1031,
          1035,
          1041,
          1043,
          1074,
          1084,
          1086,
          1088,
          1099,
          1103,
          1104,
          1109,
          1115,
          1116,
          1122,
          1124,
          1136,
          1165,
          1172,
          1195,
          1202,
          1234,
          1238,
          1261,
          1270,
          1271,
          1280,
          1289,
          1291,
          1295,
          1301,
          1310,
          1312,
          1314,
          1317,
          1323,
          1351,
          1363,
          1366,
          1380,
          1426,
          1431,
          1451,
          1465,
          1498,
          1572,
          1589,
          1621,
          1699,
          1749,
          1775,
          1809,
          1876,
          1893,
          2100,
          2271,
          2367,
          2396,
          2520,
          2536,
          2590,
          2662,
          2696,
          2703,
          2718,
          2787,
          2821,
          2875,
          3019,
          3070,
          3218
         ],
         "xaxis": "x",
         "y": [
          0.0761904761904762,
          0.21052631578947367,
          0.3,
          0.34146341463414637,
          0.34375,
          0.36923076923076925,
          0.45255474452554745,
          0.4748201438848921,
          0.5241379310344828,
          0.56,
          0.5751633986928104,
          0.5987261146496815,
          0.6125,
          0.6296296296296297,
          0.6467065868263473,
          0.6428571428571429,
          0.650887573964497,
          0.6627906976744186,
          0.6627906976744186,
          0.6742857142857143,
          0.6818181818181818,
          0.6818181818181818,
          0.6741573033707865,
          0.6666666666666666,
          0.6666666666666666,
          0.6740331491712708,
          0.6703296703296703,
          0.6847826086956522,
          0.6989247311827957,
          0.6951871657754011,
          0.6878306878306878,
          0.6842105263157895,
          0.6842105263157895,
          0.6770833333333334,
          0.6804123711340206,
          0.6938775510204082,
          0.696969696969697,
          0.71,
          0.7064676616915423,
          0.6995073891625616,
          0.7024390243902439,
          0.7053140096618358,
          0.7019230769230769,
          0.7019230769230769,
          0.7142857142857143,
          0.7323943661971831,
          0.7289719626168224,
          0.7289719626168224,
          0.7289719626168224,
          0.7289719626168224,
          0.7255813953488373,
          0.7255813953488373,
          0.7255813953488373,
          0.728110599078341,
          0.7214611872146118,
          0.7272727272727273,
          0.7239819004524887,
          0.7207207207207207,
          0.7207207207207207,
          0.7174887892376681,
          0.7232142857142857,
          0.7232142857142857,
          0.72,
          0.7192982456140351,
          0.7192982456140351,
          0.7192982456140351,
          0.7217391304347827,
          0.7217391304347827,
          0.7272727272727273,
          0.7272727272727273,
          0.7241379310344828,
          0.7241379310344828,
          0.717948717948718,
          0.711864406779661,
          0.711864406779661,
          0.7172995780590717,
          0.7083333333333334,
          0.7083333333333334,
          0.7083333333333334,
          0.7078189300411523,
          0.7078189300411523,
          0.7049180327868853,
          0.7049180327868853,
          0.6991869918699187,
          0.7044534412955465,
          0.7068273092369478,
          0.704,
          0.704,
          0.6956521739130435,
          0.6956521739130435,
          0.7007874015748031,
          0.6980392156862745,
          0.6980392156862745,
          0.7003891050583657,
          0.6976744186046512,
          0.6976744186046512,
          0.6976744186046512,
          0.6976744186046512,
          0.694980694980695,
          0.6923076923076923,
          0.6923076923076923,
          0.6923076923076923,
          0.6870229007633588,
          0.6920152091254753,
          0.6920152091254753,
          0.6920152091254753,
          0.6893939393939394,
          0.6867924528301886,
          0.6842105263157895,
          0.6816479400749064,
          0.6816479400749064,
          0.6816479400749064,
          0.6816479400749064,
          0.6816479400749064,
          0.6865671641791045,
          0.6865671641791045,
          0.6840148698884758,
          0.6789667896678967,
          0.6764705882352942,
          0.6764705882352942,
          0.6764705882352942,
          0.673992673992674,
          0.673992673992674,
          0.673992673992674,
          0.673992673992674,
          0.6690909090909091,
          0.6690909090909091,
          0.6666666666666666,
          0.6642599277978339,
          0.6642599277978339,
          0.6642599277978339,
          0.6618705035971223,
          0.6594982078853047,
          0.6571428571428571,
          0.6548042704626335,
          0.6524822695035462,
          0.6524822695035462,
          0.6501766784452296,
          0.647887323943662,
          0.6573426573426573,
          0.6573426573426573,
          0.6550522648083623,
          0.6505190311418685,
          0.6482758620689655,
          0.6482758620689655,
          0.6482758620689655,
          0.6482758620689655,
          0.6482758620689655,
          0.6460481099656358,
          0.6438356164383562,
          0.6438356164383562,
          0.6438356164383562,
          0.6438356164383562,
          0.6394557823129252,
          0.6372881355932203,
          0.6372881355932203,
          0.6351351351351351,
          0.6351351351351351,
          0.6351351351351351,
          0.6308724832214765,
          0.6354515050167224,
          0.64,
          0.6378737541528239,
          0.6378737541528239,
          0.6357615894039735,
          0.6336633663366337,
          0.631578947368421,
          0.6295081967213115,
          0.6274509803921569,
          0.6274509803921569,
          0.6254071661237784,
          0.6254071661237784,
          0.6254071661237784,
          0.6254071661237784,
          0.6213592233009708,
          0.6213592233009708,
          0.6213592233009708,
          0.6213592233009708,
          0.6213592233009708,
          0.6193548387096774,
          0.6193548387096774,
          0.6193548387096774,
          0.6193548387096774,
          0.6193548387096774,
          0.6193548387096774,
          0.6193548387096774,
          0.6193548387096774,
          0.617363344051447,
          0.617363344051447,
          0.617363344051447,
          0.617363344051447,
          0.617363344051447,
          0.617363344051447,
          0.617363344051447,
          0.617363344051447,
          0.617363344051447,
          0.617363344051447,
          0.6153846153846154,
          0.6153846153846154,
          0.6153846153846154,
          0.6153846153846154,
          0.6153846153846154,
          0.6114649681528662,
          0.6114649681528662,
          0.6114649681528662,
          0.6114649681528662,
          0.6114649681528662,
          0.6114649681528662,
          0.6095238095238096,
          0.6095238095238096,
          0.6095238095238096,
          0.6095238095238096,
          0.6095238095238096,
          0.6095238095238096,
          0.6095238095238096,
          0.6075949367088608,
          0.6056782334384858,
          0.6056782334384858,
          0.6056782334384858,
          0.6056782334384858,
          0.6056782334384858,
          0.6037735849056604,
          0.6037735849056604,
          0.6037735849056604,
          0.6037735849056604,
          0.6018808777429467,
          0.5981308411214953,
          0.5944272445820433,
          0.5925925925925926,
          0.5925925925925926,
          0.5925925925925926,
          0.5925925925925926,
          0.5925925925925926,
          0.588957055214724,
          0.588957055214724,
          0.5871559633027523,
          0.5853658536585366,
          0.593939393939394,
          0.5921450151057401,
          0.5903614457831325,
          0.5903614457831325,
          0.5903614457831325,
          0.5885885885885885,
          0.5885885885885885,
          0.5885885885885885,
          0.5885885885885885,
          0.5885885885885885,
          0.5885885885885885,
          0.5885885885885885,
          0.5885885885885885,
          0.5868263473053892,
          0.5868263473053892,
          0.5868263473053892,
          0.5850746268656717,
          0.5850746268656717,
          0.5850746268656717,
          0.5850746268656717,
          0.5833333333333334,
          0.5816023738872403,
          0.5798816568047337,
          0.5730994152046783,
          0.5730994152046783,
          0.5714285714285714,
          0.5714285714285714,
          0.5714285714285714,
          0.5681159420289855,
          0.5681159420289855,
          0.5681159420289855,
          0.5681159420289855,
          0.5681159420289855,
          0.5681159420289855,
          0.5681159420289855,
          0.5681159420289855,
          0.5681159420289855,
          0.5681159420289855,
          0.5681159420289855,
          0.5681159420289855,
          0.5681159420289855,
          0.5681159420289855,
          0.5648414985590778,
          0.5648414985590778,
          0.5632183908045977,
          0.5632183908045977,
          0.5632183908045977,
          0.5632183908045977,
          0.5632183908045977,
          0.5632183908045977,
          0.5714285714285714,
          0.5714285714285714,
          0.5714285714285714,
          0.5714285714285714,
          0.5714285714285714,
          0.5714285714285714,
          0.5714285714285714,
          0.5698005698005698,
          0.5698005698005698,
          0.5698005698005698,
          0.5698005698005698,
          0.5698005698005698,
          0.5681818181818182,
          0.5681818181818182,
          0.5681818181818182,
          0.56657223796034,
          0.56657223796034,
          0.5649717514124294,
          0.5649717514124294,
          0.5649717514124294,
          0.5649717514124294,
          0.5633802816901409,
          0.5633802816901409,
          0.5633802816901409,
          0.5633802816901409,
          0.5617977528089888,
          0.5602240896358543,
          0.5602240896358543,
          0.5602240896358543,
          0.5602240896358543,
          0.5602240896358543,
          0.5642458100558659,
          0.5642458100558659,
          0.5642458100558659,
          0.5642458100558659,
          0.5642458100558659,
          0.5642458100558659,
          0.5626740947075209,
          0.5626740947075209,
          0.5626740947075209,
          0.5626740947075209,
          0.5626740947075209,
          0.5626740947075209,
          0.5626740947075209,
          0.5626740947075209,
          0.5626740947075209,
          0.5611111111111111,
          0.5611111111111111,
          0.5611111111111111,
          0.5611111111111111,
          0.5611111111111111,
          0.5611111111111111,
          0.5595567867036011,
          0.5595567867036011,
          0.5595567867036011,
          0.5580110497237569,
          0.5564738292011019,
          0.5564738292011019,
          0.5564738292011019,
          0.5564738292011019,
          0.5564738292011019,
          0.5564738292011019,
          0.5564738292011019,
          0.5564738292011019,
          0.554945054945055,
          0.5534246575342465,
          0.5534246575342465,
          0.5519125683060109,
          0.5519125683060109,
          0.5519125683060109,
          0.5504087193460491,
          0.5504087193460491,
          0.5489130434782609,
          0.5489130434782609,
          0.5489130434782609,
          0.5489130434782609,
          0.5489130434782609,
          0.5474254742547425,
          0.5474254742547425,
          0.5474254742547425,
          0.5474254742547425,
          0.5474254742547425,
          0.5474254742547425,
          0.5459459459459459,
          0.5459459459459459,
          0.5459459459459459,
          0.5459459459459459,
          0.5459459459459459,
          0.5459459459459459,
          0.543010752688172,
          0.5415549597855228,
          0.5401069518716578,
          0.5401069518716578,
          0.5401069518716578,
          0.5401069518716578,
          0.5401069518716578,
          0.5401069518716578,
          0.5401069518716578,
          0.5386666666666666,
          0.5386666666666666,
          0.5386666666666666,
          0.5386666666666666,
          0.5386666666666666,
          0.5386666666666666,
          0.5372340425531915,
          0.5372340425531915,
          0.5372340425531915,
          0.5372340425531915,
          0.5372340425531915,
          0.5372340425531915,
          0.5372340425531915,
          0.5372340425531915,
          0.5372340425531915,
          0.5372340425531915,
          0.5372340425531915,
          0.5372340425531915,
          0.5372340425531915,
          0.5358090185676393,
          0.5343915343915344,
          0.5343915343915344,
          0.5343915343915344,
          0.5343915343915344,
          0.5343915343915344,
          0.5343915343915344,
          0.5343915343915344,
          0.5343915343915344,
          0.5343915343915344,
          0.5343915343915344,
          0.5329815303430079,
          0.531578947368421,
          0.5301837270341208,
          0.5301837270341208,
          0.5301837270341208,
          0.5301837270341208,
          0.5301837270341208,
          0.5301837270341208,
          0.5301837270341208,
          0.5301837270341208,
          0.5301837270341208,
          0.5287958115183246,
          0.5287958115183246,
          0.5287958115183246,
          0.5287958115183246,
          0.5274151436031331,
          0.5246753246753246,
          0.5246753246753246,
          0.5246753246753246,
          0.5246753246753246,
          0.5233160621761658,
          0.5233160621761658,
          0.5233160621761658,
          0.5233160621761658,
          0.5233160621761658,
          0.5219638242894057,
          0.520618556701031,
          0.520618556701031,
          0.520618556701031,
          0.520618556701031,
          0.520618556701031,
          0.520618556701031,
          0.519280205655527,
          0.519280205655527,
          0.519280205655527,
          0.519280205655527,
          0.519280205655527,
          0.517948717948718,
          0.517948717948718,
          0.517948717948718,
          0.517948717948718,
          0.517948717948718,
          0.5166240409207161,
          0.5166240409207161,
          0.5166240409207161,
          0.5153061224489796,
          0.5153061224489796,
          0.5139949109414759,
          0.5139949109414759,
          0.5139949109414759,
          0.5139949109414759,
          0.5139949109414759,
          0.5139949109414759,
          0.5126903553299492,
          0.5126903553299492,
          0.5126903553299492,
          0.5126903553299492,
          0.5126903553299492,
          0.5126903553299492,
          0.5113924050632911,
          0.5113924050632911,
          0.5113924050632911,
          0.5088161209068011,
          0.507537688442211,
          0.506265664160401,
          0.5037406483790524,
          0.5037406483790524,
          0.5024875621890548,
          0.5024875621890548,
          0.5024875621890548,
          0.5024875621890548,
          0.5012406947890818,
          0.5012406947890818,
          0.5012406947890818,
          0.5012406947890818,
          0.5012406947890818,
          0.5012406947890818,
          0.5012406947890818,
          0.5012406947890818,
          0.5012406947890818,
          0.5,
          0.5,
          0.5,
          0.5,
          0.49876543209876545,
          0.49876543209876545,
          0.49876543209876545,
          0.49876543209876545,
          0.49876543209876545,
          0.49876543209876545,
          0.49876543209876545,
          0.49876543209876545,
          0.49876543209876545,
          0.49876543209876545,
          0.49876543209876545,
          0.49876543209876545,
          0.49876543209876545,
          0.49876543209876545,
          0.49876543209876545,
          0.49876543209876545,
          0.4975369458128079,
          0.4975369458128079,
          0.4975369458128079,
          0.4963144963144963,
          0.4963144963144963,
          0.4963144963144963,
          0.4950980392156863,
          0.4950980392156863,
          0.4950980392156863,
          0.4950980392156863,
          0.4950980392156863,
          0.4950980392156863,
          0.4950980392156863,
          0.4938875305623472,
          0.4938875305623472,
          0.4938875305623472
         ],
         "yaxis": "y"
        }
       ],
       "layout": {
        "legend": {
         "tracegroupgap": 0
        },
        "template": {
         "data": {
          "bar": [
           {
            "error_x": {
             "color": "#2a3f5f"
            },
            "error_y": {
             "color": "#2a3f5f"
            },
            "marker": {
             "line": {
              "color": "#E5ECF6",
              "width": 0.5
             },
             "pattern": {
              "fillmode": "overlay",
              "size": 10,
              "solidity": 0.2
             }
            },
            "type": "bar"
           }
          ],
          "barpolar": [
           {
            "marker": {
             "line": {
              "color": "#E5ECF6",
              "width": 0.5
             },
             "pattern": {
              "fillmode": "overlay",
              "size": 10,
              "solidity": 0.2
             }
            },
            "type": "barpolar"
           }
          ],
          "carpet": [
           {
            "aaxis": {
             "endlinecolor": "#2a3f5f",
             "gridcolor": "white",
             "linecolor": "white",
             "minorgridcolor": "white",
             "startlinecolor": "#2a3f5f"
            },
            "baxis": {
             "endlinecolor": "#2a3f5f",
             "gridcolor": "white",
             "linecolor": "white",
             "minorgridcolor": "white",
             "startlinecolor": "#2a3f5f"
            },
            "type": "carpet"
           }
          ],
          "choropleth": [
           {
            "colorbar": {
             "outlinewidth": 0,
             "ticks": ""
            },
            "type": "choropleth"
           }
          ],
          "contour": [
           {
            "colorbar": {
             "outlinewidth": 0,
             "ticks": ""
            },
            "colorscale": [
             [
              0,
              "#0d0887"
             ],
             [
              0.1111111111111111,
              "#46039f"
             ],
             [
              0.2222222222222222,
              "#7201a8"
             ],
             [
              0.3333333333333333,
              "#9c179e"
             ],
             [
              0.4444444444444444,
              "#bd3786"
             ],
             [
              0.5555555555555556,
              "#d8576b"
             ],
             [
              0.6666666666666666,
              "#ed7953"
             ],
             [
              0.7777777777777778,
              "#fb9f3a"
             ],
             [
              0.8888888888888888,
              "#fdca26"
             ],
             [
              1,
              "#f0f921"
             ]
            ],
            "type": "contour"
           }
          ],
          "contourcarpet": [
           {
            "colorbar": {
             "outlinewidth": 0,
             "ticks": ""
            },
            "type": "contourcarpet"
           }
          ],
          "heatmap": [
           {
            "colorbar": {
             "outlinewidth": 0,
             "ticks": ""
            },
            "colorscale": [
             [
              0,
              "#0d0887"
             ],
             [
              0.1111111111111111,
              "#46039f"
             ],
             [
              0.2222222222222222,
              "#7201a8"
             ],
             [
              0.3333333333333333,
              "#9c179e"
             ],
             [
              0.4444444444444444,
              "#bd3786"
             ],
             [
              0.5555555555555556,
              "#d8576b"
             ],
             [
              0.6666666666666666,
              "#ed7953"
             ],
             [
              0.7777777777777778,
              "#fb9f3a"
             ],
             [
              0.8888888888888888,
              "#fdca26"
             ],
             [
              1,
              "#f0f921"
             ]
            ],
            "type": "heatmap"
           }
          ],
          "heatmapgl": [
           {
            "colorbar": {
             "outlinewidth": 0,
             "ticks": ""
            },
            "colorscale": [
             [
              0,
              "#0d0887"
             ],
             [
              0.1111111111111111,
              "#46039f"
             ],
             [
              0.2222222222222222,
              "#7201a8"
             ],
             [
              0.3333333333333333,
              "#9c179e"
             ],
             [
              0.4444444444444444,
              "#bd3786"
             ],
             [
              0.5555555555555556,
              "#d8576b"
             ],
             [
              0.6666666666666666,
              "#ed7953"
             ],
             [
              0.7777777777777778,
              "#fb9f3a"
             ],
             [
              0.8888888888888888,
              "#fdca26"
             ],
             [
              1,
              "#f0f921"
             ]
            ],
            "type": "heatmapgl"
           }
          ],
          "histogram": [
           {
            "marker": {
             "pattern": {
              "fillmode": "overlay",
              "size": 10,
              "solidity": 0.2
             }
            },
            "type": "histogram"
           }
          ],
          "histogram2d": [
           {
            "colorbar": {
             "outlinewidth": 0,
             "ticks": ""
            },
            "colorscale": [
             [
              0,
              "#0d0887"
             ],
             [
              0.1111111111111111,
              "#46039f"
             ],
             [
              0.2222222222222222,
              "#7201a8"
             ],
             [
              0.3333333333333333,
              "#9c179e"
             ],
             [
              0.4444444444444444,
              "#bd3786"
             ],
             [
              0.5555555555555556,
              "#d8576b"
             ],
             [
              0.6666666666666666,
              "#ed7953"
             ],
             [
              0.7777777777777778,
              "#fb9f3a"
             ],
             [
              0.8888888888888888,
              "#fdca26"
             ],
             [
              1,
              "#f0f921"
             ]
            ],
            "type": "histogram2d"
           }
          ],
          "histogram2dcontour": [
           {
            "colorbar": {
             "outlinewidth": 0,
             "ticks": ""
            },
            "colorscale": [
             [
              0,
              "#0d0887"
             ],
             [
              0.1111111111111111,
              "#46039f"
             ],
             [
              0.2222222222222222,
              "#7201a8"
             ],
             [
              0.3333333333333333,
              "#9c179e"
             ],
             [
              0.4444444444444444,
              "#bd3786"
             ],
             [
              0.5555555555555556,
              "#d8576b"
             ],
             [
              0.6666666666666666,
              "#ed7953"
             ],
             [
              0.7777777777777778,
              "#fb9f3a"
             ],
             [
              0.8888888888888888,
              "#fdca26"
             ],
             [
              1,
              "#f0f921"
             ]
            ],
            "type": "histogram2dcontour"
           }
          ],
          "mesh3d": [
           {
            "colorbar": {
             "outlinewidth": 0,
             "ticks": ""
            },
            "type": "mesh3d"
           }
          ],
          "parcoords": [
           {
            "line": {
             "colorbar": {
              "outlinewidth": 0,
              "ticks": ""
             }
            },
            "type": "parcoords"
           }
          ],
          "pie": [
           {
            "automargin": true,
            "type": "pie"
           }
          ],
          "scatter": [
           {
            "fillpattern": {
             "fillmode": "overlay",
             "size": 10,
             "solidity": 0.2
            },
            "type": "scatter"
           }
          ],
          "scatter3d": [
           {
            "line": {
             "colorbar": {
              "outlinewidth": 0,
              "ticks": ""
             }
            },
            "marker": {
             "colorbar": {
              "outlinewidth": 0,
              "ticks": ""
             }
            },
            "type": "scatter3d"
           }
          ],
          "scattercarpet": [
           {
            "marker": {
             "colorbar": {
              "outlinewidth": 0,
              "ticks": ""
             }
            },
            "type": "scattercarpet"
           }
          ],
          "scattergeo": [
           {
            "marker": {
             "colorbar": {
              "outlinewidth": 0,
              "ticks": ""
             }
            },
            "type": "scattergeo"
           }
          ],
          "scattergl": [
           {
            "marker": {
             "colorbar": {
              "outlinewidth": 0,
              "ticks": ""
             }
            },
            "type": "scattergl"
           }
          ],
          "scattermapbox": [
           {
            "marker": {
             "colorbar": {
              "outlinewidth": 0,
              "ticks": ""
             }
            },
            "type": "scattermapbox"
           }
          ],
          "scatterpolar": [
           {
            "marker": {
             "colorbar": {
              "outlinewidth": 0,
              "ticks": ""
             }
            },
            "type": "scatterpolar"
           }
          ],
          "scatterpolargl": [
           {
            "marker": {
             "colorbar": {
              "outlinewidth": 0,
              "ticks": ""
             }
            },
            "type": "scatterpolargl"
           }
          ],
          "scatterternary": [
           {
            "marker": {
             "colorbar": {
              "outlinewidth": 0,
              "ticks": ""
             }
            },
            "type": "scatterternary"
           }
          ],
          "surface": [
           {
            "colorbar": {
             "outlinewidth": 0,
             "ticks": ""
            },
            "colorscale": [
             [
              0,
              "#0d0887"
             ],
             [
              0.1111111111111111,
              "#46039f"
             ],
             [
              0.2222222222222222,
              "#7201a8"
             ],
             [
              0.3333333333333333,
              "#9c179e"
             ],
             [
              0.4444444444444444,
              "#bd3786"
             ],
             [
              0.5555555555555556,
              "#d8576b"
             ],
             [
              0.6666666666666666,
              "#ed7953"
             ],
             [
              0.7777777777777778,
              "#fb9f3a"
             ],
             [
              0.8888888888888888,
              "#fdca26"
             ],
             [
              1,
              "#f0f921"
             ]
            ],
            "type": "surface"
           }
          ],
          "table": [
           {
            "cells": {
             "fill": {
              "color": "#EBF0F8"
             },
             "line": {
              "color": "white"
             }
            },
            "header": {
             "fill": {
              "color": "#C8D4E3"
             },
             "line": {
              "color": "white"
             }
            },
            "type": "table"
           }
          ]
         },
         "layout": {
          "annotationdefaults": {
           "arrowcolor": "#2a3f5f",
           "arrowhead": 0,
           "arrowwidth": 1
          },
          "autotypenumbers": "strict",
          "coloraxis": {
           "colorbar": {
            "outlinewidth": 0,
            "ticks": ""
           }
          },
          "colorscale": {
           "diverging": [
            [
             0,
             "#8e0152"
            ],
            [
             0.1,
             "#c51b7d"
            ],
            [
             0.2,
             "#de77ae"
            ],
            [
             0.3,
             "#f1b6da"
            ],
            [
             0.4,
             "#fde0ef"
            ],
            [
             0.5,
             "#f7f7f7"
            ],
            [
             0.6,
             "#e6f5d0"
            ],
            [
             0.7,
             "#b8e186"
            ],
            [
             0.8,
             "#7fbc41"
            ],
            [
             0.9,
             "#4d9221"
            ],
            [
             1,
             "#276419"
            ]
           ],
           "sequential": [
            [
             0,
             "#0d0887"
            ],
            [
             0.1111111111111111,
             "#46039f"
            ],
            [
             0.2222222222222222,
             "#7201a8"
            ],
            [
             0.3333333333333333,
             "#9c179e"
            ],
            [
             0.4444444444444444,
             "#bd3786"
            ],
            [
             0.5555555555555556,
             "#d8576b"
            ],
            [
             0.6666666666666666,
             "#ed7953"
            ],
            [
             0.7777777777777778,
             "#fb9f3a"
            ],
            [
             0.8888888888888888,
             "#fdca26"
            ],
            [
             1,
             "#f0f921"
            ]
           ],
           "sequentialminus": [
            [
             0,
             "#0d0887"
            ],
            [
             0.1111111111111111,
             "#46039f"
            ],
            [
             0.2222222222222222,
             "#7201a8"
            ],
            [
             0.3333333333333333,
             "#9c179e"
            ],
            [
             0.4444444444444444,
             "#bd3786"
            ],
            [
             0.5555555555555556,
             "#d8576b"
            ],
            [
             0.6666666666666666,
             "#ed7953"
            ],
            [
             0.7777777777777778,
             "#fb9f3a"
            ],
            [
             0.8888888888888888,
             "#fdca26"
            ],
            [
             1,
             "#f0f921"
            ]
           ]
          },
          "colorway": [
           "#636efa",
           "#EF553B",
           "#00cc96",
           "#ab63fa",
           "#FFA15A",
           "#19d3f3",
           "#FF6692",
           "#B6E880",
           "#FF97FF",
           "#FECB52"
          ],
          "font": {
           "color": "#2a3f5f"
          },
          "geo": {
           "bgcolor": "white",
           "lakecolor": "white",
           "landcolor": "#E5ECF6",
           "showlakes": true,
           "showland": true,
           "subunitcolor": "white"
          },
          "hoverlabel": {
           "align": "left"
          },
          "hovermode": "closest",
          "mapbox": {
           "style": "light"
          },
          "paper_bgcolor": "white",
          "plot_bgcolor": "#E5ECF6",
          "polar": {
           "angularaxis": {
            "gridcolor": "white",
            "linecolor": "white",
            "ticks": ""
           },
           "bgcolor": "#E5ECF6",
           "radialaxis": {
            "gridcolor": "white",
            "linecolor": "white",
            "ticks": ""
           }
          },
          "scene": {
           "xaxis": {
            "backgroundcolor": "#E5ECF6",
            "gridcolor": "white",
            "gridwidth": 2,
            "linecolor": "white",
            "showbackground": true,
            "ticks": "",
            "zerolinecolor": "white"
           },
           "yaxis": {
            "backgroundcolor": "#E5ECF6",
            "gridcolor": "white",
            "gridwidth": 2,
            "linecolor": "white",
            "showbackground": true,
            "ticks": "",
            "zerolinecolor": "white"
           },
           "zaxis": {
            "backgroundcolor": "#E5ECF6",
            "gridcolor": "white",
            "gridwidth": 2,
            "linecolor": "white",
            "showbackground": true,
            "ticks": "",
            "zerolinecolor": "white"
           }
          },
          "shapedefaults": {
           "line": {
            "color": "#2a3f5f"
           }
          },
          "ternary": {
           "aaxis": {
            "gridcolor": "white",
            "linecolor": "white",
            "ticks": ""
           },
           "baxis": {
            "gridcolor": "white",
            "linecolor": "white",
            "ticks": ""
           },
           "bgcolor": "#E5ECF6",
           "caxis": {
            "gridcolor": "white",
            "linecolor": "white",
            "ticks": ""
           }
          },
          "title": {
           "x": 0.05
          },
          "xaxis": {
           "automargin": true,
           "gridcolor": "white",
           "linecolor": "white",
           "ticks": "",
           "title": {
            "standoff": 15
           },
           "zerolinecolor": "white",
           "zerolinewidth": 2
          },
          "yaxis": {
           "automargin": true,
           "gridcolor": "white",
           "linecolor": "white",
           "ticks": "",
           "title": {
            "standoff": 15
           },
           "zerolinecolor": "white",
           "zerolinewidth": 2
          }
         }
        },
        "title": {
         "text": "F1 Score for Heuristic Rule"
        },
        "xaxis": {
         "anchor": "y",
         "domain": [
          0,
          1
         ],
         "title": {
          "text": "Number of Connections Threshold"
         }
        },
        "yaxis": {
         "anchor": "x",
         "domain": [
          0,
          1
         ],
         "title": {
          "text": "F1 Score"
         }
        }
       }
      }
     },
     "metadata": {},
     "output_type": "display_data"
    }
   ],
   "source": [
    "px.line(\n",
    "    x=possible_values, \n",
    "    y=heuristic_f1_scores, \n",
    "    labels={\n",
    "        \"x\": \"Number of Connections Threshold\",\n",
    "        \"y\": \"F1 Score\",\n",
    "    },\n",
    "    title='F1 Score for Heuristic Rule'\n",
    ")"
   ]
  },
  {
   "cell_type": "markdown",
   "metadata": {},
   "source": [
    "**Insights**\n",
    "* The optimal number of connections to set as threshold is 46\n",
    "* Heuristic rule can achive the F1 score of 0.73"
   ]
  },
  {
   "cell_type": "markdown",
   "metadata": {},
   "source": [
    "## Machine Learning"
   ]
  },
  {
   "cell_type": "markdown",
   "metadata": {},
   "source": [
    "### Base Model"
   ]
  },
  {
   "cell_type": "code",
   "execution_count": 14,
   "metadata": {},
   "outputs": [
    {
     "name": "stdout",
     "output_type": "stream",
     "text": [
      "ROC AUC (avg 5-fold): 0.9894815494223483\n"
     ]
    },
    {
     "name": "stderr",
     "output_type": "stream",
     "text": [
      "2024/11/05 10:19:41 WARNING mlflow.models.model: Model logged without a signature and input example. Please set `input_example` parameter when logging the model to auto infer the model signature.\n"
     ]
    }
   ],
   "source": [
    "with mlflow.start_run(run_name='GBT_baseline'):\n",
    "    params = {\n",
    "        \"learning_rate\": 0.1,\n",
    "        \"max_iter\": 100,\n",
    "        \"max_leaf_nodes\": 31,\n",
    "        \"max_depth\": None,\n",
    "        \"l2_regularization\": 0,\n",
    "    }\n",
    "\n",
    "    mlflow.set_tag(\"model_name\", \"HGBT\")\n",
    "    mlflow.log_params(params)\n",
    "\n",
    "    gbt = HistGradientBoostingClassifier(**params)\n",
    "    \n",
    "    roc_auc = cross_val_score(gbt, X_train, y_train, cv=5, scoring='roc_auc').mean()\n",
    "    print('ROC AUC (avg 5-fold):', roc_auc)\n",
    "    mlflow.log_metric(\"roc_auc\", roc_auc)\n",
    "    mlflow.sklearn.log_model(gbt, \"gbt_models\")"
   ]
  },
  {
   "cell_type": "markdown",
   "metadata": {},
   "source": [
    "**Observations**\n",
    "* The ROC AUC achieved by the baseline model has very high ROC AUC score of 0.99\n",
    "\n",
    "**Insights**\n",
    "* This indicates either target leakage or that the task is very simple\n",
    "* Given that we don't know how the target was created, we can assume that the data set creates have used some simple anomaly detection methods\n",
    "\n",
    "**Impact**\n",
    "* We don't need to do hyperparameter tuning because the task is too simple"
   ]
  },
  {
   "cell_type": "markdown",
   "metadata": {},
   "source": [
    "### Tuned Model"
   ]
  },
  {
   "cell_type": "code",
   "execution_count": 15,
   "metadata": {},
   "outputs": [
    {
     "name": "stderr",
     "output_type": "stream",
     "text": [
      "[I 2024-11-05 10:21:55,399] A new study created in memory with name: hgbt_tuning\n",
      "2024/11/05 10:21:55 INFO mlflow.tracking.fluent: Experiment with name 'hgbt_tuning' does not exist. Creating a new experiment.\n",
      "[I 2024-11-05 10:21:55,524] Trial 0 finished with value: 0.9348906306456544 and parameters: {'max_iter': 27, 'max_leaf_nodes': 23, 'max_depth': 2, 'l2_regularization': 5.161929335764023}. Best is trial 0 with value: 0.9348906306456544.\n",
      "[I 2024-11-05 10:21:55,685] Trial 1 finished with value: 0.9724612968676173 and parameters: {'max_iter': 14, 'max_leaf_nodes': 19, 'max_depth': 10, 'l2_regularization': 6.714193358698097}. Best is trial 1 with value: 0.9724612968676173.\n"
     ]
    },
    {
     "name": "stdout",
     "output_type": "stream",
     "text": [
      "ROC AUC (avg 5-fold): 0.9348906306456544\n",
      "ROC AUC (avg 5-fold): 0.9724612968676173\n"
     ]
    },
    {
     "name": "stderr",
     "output_type": "stream",
     "text": [
      "[I 2024-11-05 10:21:55,885] Trial 2 finished with value: 0.965857027710609 and parameters: {'max_iter': 65, 'max_leaf_nodes': 26, 'max_depth': 2, 'l2_regularization': 1.7744548625402978}. Best is trial 1 with value: 0.9724612968676173.\n"
     ]
    },
    {
     "name": "stdout",
     "output_type": "stream",
     "text": [
      "ROC AUC (avg 5-fold): 0.965857027710609\n"
     ]
    },
    {
     "name": "stderr",
     "output_type": "stream",
     "text": [
      "[I 2024-11-05 10:21:56,215] Trial 3 finished with value: 0.9876180549765141 and parameters: {'max_iter': 56, 'max_leaf_nodes': 21, 'max_depth': 5, 'l2_regularization': 2.335204744520274}. Best is trial 3 with value: 0.9876180549765141.\n"
     ]
    },
    {
     "name": "stdout",
     "output_type": "stream",
     "text": [
      "ROC AUC (avg 5-fold): 0.9876180549765141\n"
     ]
    },
    {
     "name": "stderr",
     "output_type": "stream",
     "text": [
      "[I 2024-11-05 10:21:56,634] Trial 4 finished with value: 0.9881900089867237 and parameters: {'max_iter': 62, 'max_leaf_nodes': 13, 'max_depth': 6, 'l2_regularization': 1.833462047666774}. Best is trial 4 with value: 0.9881900089867237.\n"
     ]
    },
    {
     "name": "stdout",
     "output_type": "stream",
     "text": [
      "ROC AUC (avg 5-fold): 0.9881900089867237\n"
     ]
    },
    {
     "name": "stderr",
     "output_type": "stream",
     "text": [
      "[I 2024-11-05 10:21:56,976] Trial 5 finished with value: 0.9880320927948709 and parameters: {'max_iter': 52, 'max_leaf_nodes': 25, 'max_depth': 6, 'l2_regularization': 1.645286690301797}. Best is trial 4 with value: 0.9881900089867237.\n"
     ]
    },
    {
     "name": "stdout",
     "output_type": "stream",
     "text": [
      "ROC AUC (avg 5-fold): 0.9880320927948709\n"
     ]
    },
    {
     "name": "stderr",
     "output_type": "stream",
     "text": [
      "[I 2024-11-05 10:21:57,688] Trial 6 finished with value: 0.9881584164836894 and parameters: {'max_iter': 90, 'max_leaf_nodes': 22, 'max_depth': 10, 'l2_regularization': 5.587468722255652}. Best is trial 4 with value: 0.9881900089867237.\n"
     ]
    },
    {
     "name": "stdout",
     "output_type": "stream",
     "text": [
      "ROC AUC (avg 5-fold): 0.9881584164836894\n"
     ]
    },
    {
     "name": "stderr",
     "output_type": "stream",
     "text": [
      "[I 2024-11-05 10:21:58,449] Trial 7 finished with value: 0.9890827982990078 and parameters: {'max_iter': 92, 'max_leaf_nodes': 28, 'max_depth': 10, 'l2_regularization': 2.2145420376780445}. Best is trial 7 with value: 0.9890827982990078.\n"
     ]
    },
    {
     "name": "stdout",
     "output_type": "stream",
     "text": [
      "ROC AUC (avg 5-fold): 0.9890827982990078\n"
     ]
    },
    {
     "name": "stderr",
     "output_type": "stream",
     "text": [
      "[I 2024-11-05 10:21:59,272] Trial 8 finished with value: 0.9881997832068707 and parameters: {'max_iter': 93, 'max_leaf_nodes': 17, 'max_depth': 10, 'l2_regularization': 5.879539609591289}. Best is trial 7 with value: 0.9890827982990078.\n",
      "[I 2024-11-05 10:21:59,423] Trial 9 finished with value: 0.9494387466763019 and parameters: {'max_iter': 41, 'max_leaf_nodes': 21, 'max_depth': 2, 'l2_regularization': 3.033913981377961}. Best is trial 7 with value: 0.9890827982990078.\n"
     ]
    },
    {
     "name": "stdout",
     "output_type": "stream",
     "text": [
      "ROC AUC (avg 5-fold): 0.9881997832068707\n",
      "ROC AUC (avg 5-fold): 0.9494387466763019\n"
     ]
    },
    {
     "name": "stderr",
     "output_type": "stream",
     "text": [
      "[I 2024-11-05 10:22:00,009] Trial 10 finished with value: 0.9863521313358719 and parameters: {'max_iter': 78, 'max_leaf_nodes': 31, 'max_depth': 8, 'l2_regularization': 8.9855515497306}. Best is trial 7 with value: 0.9890827982990078.\n"
     ]
    },
    {
     "name": "stdout",
     "output_type": "stream",
     "text": [
      "ROC AUC (avg 5-fold): 0.9863521313358719\n"
     ]
    },
    {
     "name": "stderr",
     "output_type": "stream",
     "text": [
      "[I 2024-11-05 10:22:00,667] Trial 11 finished with value: 0.9876326004984388 and parameters: {'max_iter': 98, 'max_leaf_nodes': 16, 'max_depth': 8, 'l2_regularization': 7.621858680272385}. Best is trial 7 with value: 0.9890827982990078.\n"
     ]
    },
    {
     "name": "stdout",
     "output_type": "stream",
     "text": [
      "ROC AUC (avg 5-fold): 0.9876326004984388\n"
     ]
    },
    {
     "name": "stderr",
     "output_type": "stream",
     "text": [
      "[I 2024-11-05 10:22:01,247] Trial 12 finished with value: 0.988675199421885 and parameters: {'max_iter': 83, 'max_leaf_nodes': 31, 'max_depth': 8, 'l2_regularization': 3.9074455533987913}. Best is trial 7 with value: 0.9890827982990078.\n"
     ]
    },
    {
     "name": "stdout",
     "output_type": "stream",
     "text": [
      "ROC AUC (avg 5-fold): 0.988675199421885\n"
     ]
    },
    {
     "name": "stderr",
     "output_type": "stream",
     "text": [
      "[I 2024-11-05 10:22:01,964] Trial 13 finished with value: 0.989241455663952 and parameters: {'max_iter': 81, 'max_leaf_nodes': 31, 'max_depth': 8, 'l2_regularization': 4.091303991123772}. Best is trial 13 with value: 0.989241455663952.\n"
     ]
    },
    {
     "name": "stdout",
     "output_type": "stream",
     "text": [
      "ROC AUC (avg 5-fold): 0.989241455663952\n"
     ]
    },
    {
     "name": "stderr",
     "output_type": "stream",
     "text": [
      "[I 2024-11-05 10:22:02,904] Trial 14 finished with value: 0.9890663998443537 and parameters: {'max_iter': 76, 'max_leaf_nodes': 28, 'max_depth': 9, 'l2_regularization': 0.3350615670409871}. Best is trial 13 with value: 0.989241455663952.\n"
     ]
    },
    {
     "name": "stdout",
     "output_type": "stream",
     "text": [
      "ROC AUC (avg 5-fold): 0.9890663998443537\n"
     ]
    },
    {
     "name": "stderr",
     "output_type": "stream",
     "text": [
      "[I 2024-11-05 10:22:03,814] Trial 15 finished with value: 0.9885668491805404 and parameters: {'max_iter': 73, 'max_leaf_nodes': 28, 'max_depth': 7, 'l2_regularization': 3.698971660564091}. Best is trial 13 with value: 0.989241455663952.\n"
     ]
    },
    {
     "name": "stdout",
     "output_type": "stream",
     "text": [
      "ROC AUC (avg 5-fold): 0.9885668491805404\n"
     ]
    },
    {
     "name": "stderr",
     "output_type": "stream",
     "text": [
      "[I 2024-11-05 10:22:04,610] Trial 16 finished with value: 0.9881176982869636 and parameters: {'max_iter': 98, 'max_leaf_nodes': 29, 'max_depth': 9, 'l2_regularization': 0.02929431035717922}. Best is trial 13 with value: 0.989241455663952.\n"
     ]
    },
    {
     "name": "stdout",
     "output_type": "stream",
     "text": [
      "ROC AUC (avg 5-fold): 0.9881176982869636\n"
     ]
    },
    {
     "name": "stderr",
     "output_type": "stream",
     "text": [
      "[I 2024-11-05 10:22:04,974] Trial 17 finished with value: 0.9861862938566015 and parameters: {'max_iter': 85, 'max_leaf_nodes': 10, 'max_depth': 4, 'l2_regularization': 3.985915786319001}. Best is trial 13 with value: 0.989241455663952.\n"
     ]
    },
    {
     "name": "stdout",
     "output_type": "stream",
     "text": [
      "ROC AUC (avg 5-fold): 0.9861862938566015\n"
     ]
    },
    {
     "name": "stderr",
     "output_type": "stream",
     "text": [
      "[I 2024-11-05 10:22:05,386] Trial 18 finished with value: 0.9866459601434169 and parameters: {'max_iter': 45, 'max_leaf_nodes': 25, 'max_depth': 9, 'l2_regularization': 4.620261003302733}. Best is trial 13 with value: 0.989241455663952.\n"
     ]
    },
    {
     "name": "stdout",
     "output_type": "stream",
     "text": [
      "ROC AUC (avg 5-fold): 0.9866459601434169\n"
     ]
    },
    {
     "name": "stderr",
     "output_type": "stream",
     "text": [
      "[I 2024-11-05 10:22:06,127] Trial 19 finished with value: 0.9887337984194484 and parameters: {'max_iter': 69, 'max_leaf_nodes': 31, 'max_depth': 7, 'l2_regularization': 0.8437367129231474}. Best is trial 13 with value: 0.989241455663952.\n"
     ]
    },
    {
     "name": "stdout",
     "output_type": "stream",
     "text": [
      "ROC AUC (avg 5-fold): 0.9887337984194484\n"
     ]
    }
   ],
   "source": [
    "mlflc = MLflowCallback(\n",
    "    tracking_uri=\"sqlite:///mlflow.db\",\n",
    "    metric_name=\"roc auc\",\n",
    ")\n",
    "\n",
    "best_trial = tune_hgbt(20, mlflc, X_train, y_train)"
   ]
  },
  {
   "cell_type": "code",
   "execution_count": 16,
   "metadata": {},
   "outputs": [
    {
     "name": "stdout",
     "output_type": "stream",
     "text": [
      "{'max_iter': 81, 'max_leaf_nodes': 31, 'max_depth': 8, 'l2_regularization': 4.091303991123772}\n"
     ]
    }
   ],
   "source": [
    "print(best_trial.params)"
   ]
  },
  {
   "cell_type": "markdown",
   "metadata": {},
   "source": [
    "### The Final Model"
   ]
  },
  {
   "cell_type": "code",
   "execution_count": 18,
   "metadata": {},
   "outputs": [
    {
     "name": "stdout",
     "output_type": "stream",
     "text": [
      "Test ROC AUC: 0.9872905559786748\n",
      "Test PR AUC: 0.9746077060256646\n"
     ]
    }
   ],
   "source": [
    "best_gbt = HistGradientBoostingClassifier(**best_trial.params)\n",
    "best_gbt.fit(X_train, y_train)\n",
    "test_preds = best_gbt.predict_proba(X_test)\n",
    "\n",
    "print('Test ROC AUC:', roc_auc_score(y_test, test_preds[:, 1]))\n",
    "print('Test PR AUC:', average_precision_score(y_test, test_preds[:, 1]))"
   ]
  },
  {
   "cell_type": "markdown",
   "metadata": {},
   "source": [
    "## Threshold Analysis & Evaluation"
   ]
  },
  {
   "cell_type": "code",
   "execution_count": 19,
   "metadata": {},
   "outputs": [
    {
     "name": "stdout",
     "output_type": "stream",
     "text": [
      "Threshold with Max F1 Score:  0.24\n",
      "F1 at threshold 0.24: 0.9230769230769231\n",
      "Recall at threshold 0.24: 0.9504950495049505\n",
      "Precision at threshold 0.24: 0.897196261682243 \n"
     ]
    },
    {
     "data": {
      "application/vnd.plotly.v1+json": {
       "config": {
        "plotlyServerURL": "https://plot.ly"
       },
       "data": [
        {
         "hovertemplate": "metric=F1<br>threshold=%{x}<br>score=%{y}<extra></extra>",
         "legendgroup": "F1",
         "line": {
          "color": "#636efa",
          "dash": "solid"
         },
         "marker": {
          "symbol": "circle"
         },
         "mode": "lines",
         "name": "F1",
         "orientation": "v",
         "showlegend": true,
         "type": "scatter",
         "x": [
          0,
          0.01,
          0.02,
          0.03,
          0.04,
          0.05,
          0.06,
          0.07,
          0.08,
          0.09,
          0.1,
          0.11,
          0.12,
          0.13,
          0.14,
          0.15,
          0.16,
          0.17,
          0.18,
          0.19,
          0.2,
          0.21,
          0.22,
          0.23,
          0.24,
          0.25,
          0.26,
          0.27,
          0.28,
          0.29,
          0.3,
          0.31,
          0.32,
          0.33,
          0.34,
          0.35000000000000003,
          0.36,
          0.37,
          0.38,
          0.39,
          0.4,
          0.41000000000000003,
          0.42,
          0.43,
          0.44,
          0.45,
          0.46,
          0.47000000000000003,
          0.48,
          0.49,
          0.5,
          0.51,
          0.52,
          0.53,
          0.54,
          0.55,
          0.56,
          0.5700000000000001,
          0.58,
          0.59,
          0.6,
          0.61,
          0.62,
          0.63,
          0.64,
          0.65,
          0.66,
          0.67,
          0.68,
          0.6900000000000001,
          0.7000000000000001,
          0.71,
          0.72,
          0.73,
          0.74,
          0.75,
          0.76,
          0.77,
          0.78,
          0.79,
          0.8,
          0.81,
          0.8200000000000001,
          0.8300000000000001,
          0.84,
          0.85,
          0.86,
          0.87,
          0.88,
          0.89,
          0.9,
          0.91,
          0.92,
          0.93,
          0.9400000000000001,
          0.9500000000000001,
          0.96,
          0.97,
          0.98,
          0.99,
          1
         ],
         "xaxis": "x",
         "y": [
          0.4926829268292683,
          0.6644736842105263,
          0.7565543071161048,
          0.7984189723320159,
          0.8112449799196787,
          0.8347107438016529,
          0.853448275862069,
          0.868421052631579,
          0.8839285714285714,
          0.8899082568807339,
          0.8899082568807339,
          0.8940092165898618,
          0.8981481481481481,
          0.9023255813953488,
          0.9023255813953488,
          0.9023255813953488,
          0.9056603773584906,
          0.9056603773584906,
          0.9056603773584906,
          0.909952606635071,
          0.9142857142857143,
          0.9142857142857143,
          0.9142857142857143,
          0.9186602870813397,
          0.9230769230769231,
          0.9230769230769231,
          0.9230769230769231,
          0.912621359223301,
          0.912621359223301,
          0.912621359223301,
          0.9073170731707317,
          0.9073170731707317,
          0.9073170731707317,
          0.9073170731707317,
          0.9073170731707317,
          0.9073170731707317,
          0.9019607843137255,
          0.9019607843137255,
          0.9019607843137255,
          0.9019607843137255,
          0.9064039408866995,
          0.9064039408866995,
          0.9108910891089109,
          0.9054726368159204,
          0.91,
          0.91,
          0.91,
          0.91,
          0.91,
          0.9090909090909091,
          0.9137055837563451,
          0.9183673469387755,
          0.9183673469387755,
          0.9230769230769231,
          0.9230769230769231,
          0.90625,
          0.9109947643979057,
          0.9109947643979057,
          0.9109947643979057,
          0.9109947643979057,
          0.9109947643979057,
          0.9109947643979057,
          0.9052631578947369,
          0.9052631578947369,
          0.9052631578947369,
          0.9052631578947369,
          0.9052631578947369,
          0.9052631578947369,
          0.8994708994708994,
          0.8994708994708994,
          0.8877005347593583,
          0.8877005347593583,
          0.8817204301075269,
          0.8817204301075269,
          0.8817204301075269,
          0.8756756756756757,
          0.8756756756756757,
          0.8756756756756757,
          0.8756756756756757,
          0.8756756756756757,
          0.8756756756756757,
          0.8756756756756757,
          0.8756756756756757,
          0.8756756756756757,
          0.8756756756756757,
          0.8571428571428571,
          0.8571428571428571,
          0.8571428571428571,
          0.8571428571428571,
          0.8571428571428571,
          0.850828729281768,
          0.8248587570621468,
          0.8181818181818182,
          0.8160919540229885,
          0.8023255813953488,
          0.8,
          0.7710843373493976,
          0.7215189873417721,
          0.6164383561643836,
          0.48120300751879697,
          0
         ],
         "yaxis": "y"
        },
        {
         "hovertemplate": "metric=Recall<br>threshold=%{x}<br>score=%{y}<extra></extra>",
         "legendgroup": "Recall",
         "line": {
          "color": "#EF553B",
          "dash": "solid"
         },
         "marker": {
          "symbol": "circle"
         },
         "mode": "lines",
         "name": "Recall",
         "orientation": "v",
         "showlegend": true,
         "type": "scatter",
         "x": [
          0,
          0.01,
          0.02,
          0.03,
          0.04,
          0.05,
          0.06,
          0.07,
          0.08,
          0.09,
          0.1,
          0.11,
          0.12,
          0.13,
          0.14,
          0.15,
          0.16,
          0.17,
          0.18,
          0.19,
          0.2,
          0.21,
          0.22,
          0.23,
          0.24,
          0.25,
          0.26,
          0.27,
          0.28,
          0.29,
          0.3,
          0.31,
          0.32,
          0.33,
          0.34,
          0.35000000000000003,
          0.36,
          0.37,
          0.38,
          0.39,
          0.4,
          0.41000000000000003,
          0.42,
          0.43,
          0.44,
          0.45,
          0.46,
          0.47000000000000003,
          0.48,
          0.49,
          0.5,
          0.51,
          0.52,
          0.53,
          0.54,
          0.55,
          0.56,
          0.5700000000000001,
          0.58,
          0.59,
          0.6,
          0.61,
          0.62,
          0.63,
          0.64,
          0.65,
          0.66,
          0.67,
          0.68,
          0.6900000000000001,
          0.7000000000000001,
          0.71,
          0.72,
          0.73,
          0.74,
          0.75,
          0.76,
          0.77,
          0.78,
          0.79,
          0.8,
          0.81,
          0.8200000000000001,
          0.8300000000000001,
          0.84,
          0.85,
          0.86,
          0.87,
          0.88,
          0.89,
          0.9,
          0.91,
          0.92,
          0.93,
          0.9400000000000001,
          0.9500000000000001,
          0.96,
          0.97,
          0.98,
          0.99,
          1
         ],
         "xaxis": "x",
         "y": [
          1,
          1,
          1,
          1,
          1,
          1,
          0.9801980198019802,
          0.9801980198019802,
          0.9801980198019802,
          0.9603960396039604,
          0.9603960396039604,
          0.9603960396039604,
          0.9603960396039604,
          0.9603960396039604,
          0.9603960396039604,
          0.9603960396039604,
          0.9504950495049505,
          0.9504950495049505,
          0.9504950495049505,
          0.9504950495049505,
          0.9504950495049505,
          0.9504950495049505,
          0.9504950495049505,
          0.9504950495049505,
          0.9504950495049505,
          0.9504950495049505,
          0.9504950495049505,
          0.9306930693069307,
          0.9306930693069307,
          0.9306930693069307,
          0.9207920792079208,
          0.9207920792079208,
          0.9207920792079208,
          0.9207920792079208,
          0.9207920792079208,
          0.9207920792079208,
          0.9108910891089109,
          0.9108910891089109,
          0.9108910891089109,
          0.9108910891089109,
          0.9108910891089109,
          0.9108910891089109,
          0.9108910891089109,
          0.900990099009901,
          0.900990099009901,
          0.900990099009901,
          0.900990099009901,
          0.900990099009901,
          0.900990099009901,
          0.8910891089108911,
          0.8910891089108911,
          0.8910891089108911,
          0.8910891089108911,
          0.8910891089108911,
          0.8910891089108911,
          0.8613861386138614,
          0.8613861386138614,
          0.8613861386138614,
          0.8613861386138614,
          0.8613861386138614,
          0.8613861386138614,
          0.8613861386138614,
          0.8514851485148515,
          0.8514851485148515,
          0.8514851485148515,
          0.8514851485148515,
          0.8514851485148515,
          0.8514851485148515,
          0.8415841584158416,
          0.8415841584158416,
          0.8217821782178217,
          0.8217821782178217,
          0.8118811881188119,
          0.8118811881188119,
          0.8118811881188119,
          0.801980198019802,
          0.801980198019802,
          0.801980198019802,
          0.801980198019802,
          0.801980198019802,
          0.801980198019802,
          0.801980198019802,
          0.801980198019802,
          0.801980198019802,
          0.801980198019802,
          0.7722772277227723,
          0.7722772277227723,
          0.7722772277227723,
          0.7722772277227723,
          0.7722772277227723,
          0.7623762376237624,
          0.7227722772277227,
          0.7128712871287128,
          0.7029702970297029,
          0.6831683168316832,
          0.6732673267326733,
          0.6336633663366337,
          0.5643564356435643,
          0.44554455445544555,
          0.31683168316831684,
          0
         ],
         "yaxis": "y"
        },
        {
         "hovertemplate": "metric=Precision<br>threshold=%{x}<br>score=%{y}<extra></extra>",
         "legendgroup": "Precision",
         "line": {
          "color": "#00cc96",
          "dash": "solid"
         },
         "marker": {
          "symbol": "circle"
         },
         "mode": "lines",
         "name": "Precision",
         "orientation": "v",
         "showlegend": true,
         "type": "scatter",
         "x": [
          0,
          0.01,
          0.02,
          0.03,
          0.04,
          0.05,
          0.06,
          0.07,
          0.08,
          0.09,
          0.1,
          0.11,
          0.12,
          0.13,
          0.14,
          0.15,
          0.16,
          0.17,
          0.18,
          0.19,
          0.2,
          0.21,
          0.22,
          0.23,
          0.24,
          0.25,
          0.26,
          0.27,
          0.28,
          0.29,
          0.3,
          0.31,
          0.32,
          0.33,
          0.34,
          0.35000000000000003,
          0.36,
          0.37,
          0.38,
          0.39,
          0.4,
          0.41000000000000003,
          0.42,
          0.43,
          0.44,
          0.45,
          0.46,
          0.47000000000000003,
          0.48,
          0.49,
          0.5,
          0.51,
          0.52,
          0.53,
          0.54,
          0.55,
          0.56,
          0.5700000000000001,
          0.58,
          0.59,
          0.6,
          0.61,
          0.62,
          0.63,
          0.64,
          0.65,
          0.66,
          0.67,
          0.68,
          0.6900000000000001,
          0.7000000000000001,
          0.71,
          0.72,
          0.73,
          0.74,
          0.75,
          0.76,
          0.77,
          0.78,
          0.79,
          0.8,
          0.81,
          0.8200000000000001,
          0.8300000000000001,
          0.84,
          0.85,
          0.86,
          0.87,
          0.88,
          0.89,
          0.9,
          0.91,
          0.92,
          0.93,
          0.9400000000000001,
          0.9500000000000001,
          0.96,
          0.97,
          0.98,
          0.99,
          1
         ],
         "xaxis": "x",
         "y": [
          0.3268608414239482,
          0.4975369458128079,
          0.608433734939759,
          0.6644736842105263,
          0.6824324324324325,
          0.7163120567375887,
          0.7557251908396947,
          0.7795275590551181,
          0.8048780487804879,
          0.8290598290598291,
          0.8290598290598291,
          0.8362068965517241,
          0.8434782608695652,
          0.8508771929824561,
          0.8508771929824561,
          0.8508771929824561,
          0.8648648648648649,
          0.8648648648648649,
          0.8648648648648649,
          0.8727272727272727,
          0.8807339449541285,
          0.8807339449541285,
          0.8807339449541285,
          0.8888888888888888,
          0.897196261682243,
          0.897196261682243,
          0.897196261682243,
          0.8952380952380953,
          0.8952380952380953,
          0.8952380952380953,
          0.8942307692307693,
          0.8942307692307693,
          0.8942307692307693,
          0.8942307692307693,
          0.8942307692307693,
          0.8942307692307693,
          0.8932038834951457,
          0.8932038834951457,
          0.8932038834951457,
          0.8932038834951457,
          0.9019607843137255,
          0.9019607843137255,
          0.9108910891089109,
          0.91,
          0.9191919191919192,
          0.9191919191919192,
          0.9191919191919192,
          0.9191919191919192,
          0.9191919191919192,
          0.9278350515463918,
          0.9375,
          0.9473684210526315,
          0.9473684210526315,
          0.9574468085106383,
          0.9574468085106383,
          0.9560439560439561,
          0.9666666666666667,
          0.9666666666666667,
          0.9666666666666667,
          0.9666666666666667,
          0.9666666666666667,
          0.9666666666666667,
          0.9662921348314607,
          0.9662921348314607,
          0.9662921348314607,
          0.9662921348314607,
          0.9662921348314607,
          0.9662921348314607,
          0.9659090909090909,
          0.9659090909090909,
          0.9651162790697675,
          0.9651162790697675,
          0.9647058823529412,
          0.9647058823529412,
          0.9647058823529412,
          0.9642857142857143,
          0.9642857142857143,
          0.9642857142857143,
          0.9642857142857143,
          0.9642857142857143,
          0.9642857142857143,
          0.9642857142857143,
          0.9642857142857143,
          0.9642857142857143,
          0.9642857142857143,
          0.9629629629629629,
          0.9629629629629629,
          0.9629629629629629,
          0.9629629629629629,
          0.9629629629629629,
          0.9625,
          0.9605263157894737,
          0.96,
          0.9726027397260274,
          0.971830985915493,
          0.9855072463768116,
          0.9846153846153847,
          1,
          1,
          1,
          0
         ],
         "yaxis": "y"
        }
       ],
       "layout": {
        "legend": {
         "title": {
          "text": "metric"
         },
         "tracegroupgap": 0
        },
        "template": {
         "data": {
          "bar": [
           {
            "error_x": {
             "color": "#2a3f5f"
            },
            "error_y": {
             "color": "#2a3f5f"
            },
            "marker": {
             "line": {
              "color": "#E5ECF6",
              "width": 0.5
             },
             "pattern": {
              "fillmode": "overlay",
              "size": 10,
              "solidity": 0.2
             }
            },
            "type": "bar"
           }
          ],
          "barpolar": [
           {
            "marker": {
             "line": {
              "color": "#E5ECF6",
              "width": 0.5
             },
             "pattern": {
              "fillmode": "overlay",
              "size": 10,
              "solidity": 0.2
             }
            },
            "type": "barpolar"
           }
          ],
          "carpet": [
           {
            "aaxis": {
             "endlinecolor": "#2a3f5f",
             "gridcolor": "white",
             "linecolor": "white",
             "minorgridcolor": "white",
             "startlinecolor": "#2a3f5f"
            },
            "baxis": {
             "endlinecolor": "#2a3f5f",
             "gridcolor": "white",
             "linecolor": "white",
             "minorgridcolor": "white",
             "startlinecolor": "#2a3f5f"
            },
            "type": "carpet"
           }
          ],
          "choropleth": [
           {
            "colorbar": {
             "outlinewidth": 0,
             "ticks": ""
            },
            "type": "choropleth"
           }
          ],
          "contour": [
           {
            "colorbar": {
             "outlinewidth": 0,
             "ticks": ""
            },
            "colorscale": [
             [
              0,
              "#0d0887"
             ],
             [
              0.1111111111111111,
              "#46039f"
             ],
             [
              0.2222222222222222,
              "#7201a8"
             ],
             [
              0.3333333333333333,
              "#9c179e"
             ],
             [
              0.4444444444444444,
              "#bd3786"
             ],
             [
              0.5555555555555556,
              "#d8576b"
             ],
             [
              0.6666666666666666,
              "#ed7953"
             ],
             [
              0.7777777777777778,
              "#fb9f3a"
             ],
             [
              0.8888888888888888,
              "#fdca26"
             ],
             [
              1,
              "#f0f921"
             ]
            ],
            "type": "contour"
           }
          ],
          "contourcarpet": [
           {
            "colorbar": {
             "outlinewidth": 0,
             "ticks": ""
            },
            "type": "contourcarpet"
           }
          ],
          "heatmap": [
           {
            "colorbar": {
             "outlinewidth": 0,
             "ticks": ""
            },
            "colorscale": [
             [
              0,
              "#0d0887"
             ],
             [
              0.1111111111111111,
              "#46039f"
             ],
             [
              0.2222222222222222,
              "#7201a8"
             ],
             [
              0.3333333333333333,
              "#9c179e"
             ],
             [
              0.4444444444444444,
              "#bd3786"
             ],
             [
              0.5555555555555556,
              "#d8576b"
             ],
             [
              0.6666666666666666,
              "#ed7953"
             ],
             [
              0.7777777777777778,
              "#fb9f3a"
             ],
             [
              0.8888888888888888,
              "#fdca26"
             ],
             [
              1,
              "#f0f921"
             ]
            ],
            "type": "heatmap"
           }
          ],
          "heatmapgl": [
           {
            "colorbar": {
             "outlinewidth": 0,
             "ticks": ""
            },
            "colorscale": [
             [
              0,
              "#0d0887"
             ],
             [
              0.1111111111111111,
              "#46039f"
             ],
             [
              0.2222222222222222,
              "#7201a8"
             ],
             [
              0.3333333333333333,
              "#9c179e"
             ],
             [
              0.4444444444444444,
              "#bd3786"
             ],
             [
              0.5555555555555556,
              "#d8576b"
             ],
             [
              0.6666666666666666,
              "#ed7953"
             ],
             [
              0.7777777777777778,
              "#fb9f3a"
             ],
             [
              0.8888888888888888,
              "#fdca26"
             ],
             [
              1,
              "#f0f921"
             ]
            ],
            "type": "heatmapgl"
           }
          ],
          "histogram": [
           {
            "marker": {
             "pattern": {
              "fillmode": "overlay",
              "size": 10,
              "solidity": 0.2
             }
            },
            "type": "histogram"
           }
          ],
          "histogram2d": [
           {
            "colorbar": {
             "outlinewidth": 0,
             "ticks": ""
            },
            "colorscale": [
             [
              0,
              "#0d0887"
             ],
             [
              0.1111111111111111,
              "#46039f"
             ],
             [
              0.2222222222222222,
              "#7201a8"
             ],
             [
              0.3333333333333333,
              "#9c179e"
             ],
             [
              0.4444444444444444,
              "#bd3786"
             ],
             [
              0.5555555555555556,
              "#d8576b"
             ],
             [
              0.6666666666666666,
              "#ed7953"
             ],
             [
              0.7777777777777778,
              "#fb9f3a"
             ],
             [
              0.8888888888888888,
              "#fdca26"
             ],
             [
              1,
              "#f0f921"
             ]
            ],
            "type": "histogram2d"
           }
          ],
          "histogram2dcontour": [
           {
            "colorbar": {
             "outlinewidth": 0,
             "ticks": ""
            },
            "colorscale": [
             [
              0,
              "#0d0887"
             ],
             [
              0.1111111111111111,
              "#46039f"
             ],
             [
              0.2222222222222222,
              "#7201a8"
             ],
             [
              0.3333333333333333,
              "#9c179e"
             ],
             [
              0.4444444444444444,
              "#bd3786"
             ],
             [
              0.5555555555555556,
              "#d8576b"
             ],
             [
              0.6666666666666666,
              "#ed7953"
             ],
             [
              0.7777777777777778,
              "#fb9f3a"
             ],
             [
              0.8888888888888888,
              "#fdca26"
             ],
             [
              1,
              "#f0f921"
             ]
            ],
            "type": "histogram2dcontour"
           }
          ],
          "mesh3d": [
           {
            "colorbar": {
             "outlinewidth": 0,
             "ticks": ""
            },
            "type": "mesh3d"
           }
          ],
          "parcoords": [
           {
            "line": {
             "colorbar": {
              "outlinewidth": 0,
              "ticks": ""
             }
            },
            "type": "parcoords"
           }
          ],
          "pie": [
           {
            "automargin": true,
            "type": "pie"
           }
          ],
          "scatter": [
           {
            "fillpattern": {
             "fillmode": "overlay",
             "size": 10,
             "solidity": 0.2
            },
            "type": "scatter"
           }
          ],
          "scatter3d": [
           {
            "line": {
             "colorbar": {
              "outlinewidth": 0,
              "ticks": ""
             }
            },
            "marker": {
             "colorbar": {
              "outlinewidth": 0,
              "ticks": ""
             }
            },
            "type": "scatter3d"
           }
          ],
          "scattercarpet": [
           {
            "marker": {
             "colorbar": {
              "outlinewidth": 0,
              "ticks": ""
             }
            },
            "type": "scattercarpet"
           }
          ],
          "scattergeo": [
           {
            "marker": {
             "colorbar": {
              "outlinewidth": 0,
              "ticks": ""
             }
            },
            "type": "scattergeo"
           }
          ],
          "scattergl": [
           {
            "marker": {
             "colorbar": {
              "outlinewidth": 0,
              "ticks": ""
             }
            },
            "type": "scattergl"
           }
          ],
          "scattermapbox": [
           {
            "marker": {
             "colorbar": {
              "outlinewidth": 0,
              "ticks": ""
             }
            },
            "type": "scattermapbox"
           }
          ],
          "scatterpolar": [
           {
            "marker": {
             "colorbar": {
              "outlinewidth": 0,
              "ticks": ""
             }
            },
            "type": "scatterpolar"
           }
          ],
          "scatterpolargl": [
           {
            "marker": {
             "colorbar": {
              "outlinewidth": 0,
              "ticks": ""
             }
            },
            "type": "scatterpolargl"
           }
          ],
          "scatterternary": [
           {
            "marker": {
             "colorbar": {
              "outlinewidth": 0,
              "ticks": ""
             }
            },
            "type": "scatterternary"
           }
          ],
          "surface": [
           {
            "colorbar": {
             "outlinewidth": 0,
             "ticks": ""
            },
            "colorscale": [
             [
              0,
              "#0d0887"
             ],
             [
              0.1111111111111111,
              "#46039f"
             ],
             [
              0.2222222222222222,
              "#7201a8"
             ],
             [
              0.3333333333333333,
              "#9c179e"
             ],
             [
              0.4444444444444444,
              "#bd3786"
             ],
             [
              0.5555555555555556,
              "#d8576b"
             ],
             [
              0.6666666666666666,
              "#ed7953"
             ],
             [
              0.7777777777777778,
              "#fb9f3a"
             ],
             [
              0.8888888888888888,
              "#fdca26"
             ],
             [
              1,
              "#f0f921"
             ]
            ],
            "type": "surface"
           }
          ],
          "table": [
           {
            "cells": {
             "fill": {
              "color": "#EBF0F8"
             },
             "line": {
              "color": "white"
             }
            },
            "header": {
             "fill": {
              "color": "#C8D4E3"
             },
             "line": {
              "color": "white"
             }
            },
            "type": "table"
           }
          ]
         },
         "layout": {
          "annotationdefaults": {
           "arrowcolor": "#2a3f5f",
           "arrowhead": 0,
           "arrowwidth": 1
          },
          "autotypenumbers": "strict",
          "coloraxis": {
           "colorbar": {
            "outlinewidth": 0,
            "ticks": ""
           }
          },
          "colorscale": {
           "diverging": [
            [
             0,
             "#8e0152"
            ],
            [
             0.1,
             "#c51b7d"
            ],
            [
             0.2,
             "#de77ae"
            ],
            [
             0.3,
             "#f1b6da"
            ],
            [
             0.4,
             "#fde0ef"
            ],
            [
             0.5,
             "#f7f7f7"
            ],
            [
             0.6,
             "#e6f5d0"
            ],
            [
             0.7,
             "#b8e186"
            ],
            [
             0.8,
             "#7fbc41"
            ],
            [
             0.9,
             "#4d9221"
            ],
            [
             1,
             "#276419"
            ]
           ],
           "sequential": [
            [
             0,
             "#0d0887"
            ],
            [
             0.1111111111111111,
             "#46039f"
            ],
            [
             0.2222222222222222,
             "#7201a8"
            ],
            [
             0.3333333333333333,
             "#9c179e"
            ],
            [
             0.4444444444444444,
             "#bd3786"
            ],
            [
             0.5555555555555556,
             "#d8576b"
            ],
            [
             0.6666666666666666,
             "#ed7953"
            ],
            [
             0.7777777777777778,
             "#fb9f3a"
            ],
            [
             0.8888888888888888,
             "#fdca26"
            ],
            [
             1,
             "#f0f921"
            ]
           ],
           "sequentialminus": [
            [
             0,
             "#0d0887"
            ],
            [
             0.1111111111111111,
             "#46039f"
            ],
            [
             0.2222222222222222,
             "#7201a8"
            ],
            [
             0.3333333333333333,
             "#9c179e"
            ],
            [
             0.4444444444444444,
             "#bd3786"
            ],
            [
             0.5555555555555556,
             "#d8576b"
            ],
            [
             0.6666666666666666,
             "#ed7953"
            ],
            [
             0.7777777777777778,
             "#fb9f3a"
            ],
            [
             0.8888888888888888,
             "#fdca26"
            ],
            [
             1,
             "#f0f921"
            ]
           ]
          },
          "colorway": [
           "#636efa",
           "#EF553B",
           "#00cc96",
           "#ab63fa",
           "#FFA15A",
           "#19d3f3",
           "#FF6692",
           "#B6E880",
           "#FF97FF",
           "#FECB52"
          ],
          "font": {
           "color": "#2a3f5f"
          },
          "geo": {
           "bgcolor": "white",
           "lakecolor": "white",
           "landcolor": "#E5ECF6",
           "showlakes": true,
           "showland": true,
           "subunitcolor": "white"
          },
          "hoverlabel": {
           "align": "left"
          },
          "hovermode": "closest",
          "mapbox": {
           "style": "light"
          },
          "paper_bgcolor": "white",
          "plot_bgcolor": "#E5ECF6",
          "polar": {
           "angularaxis": {
            "gridcolor": "white",
            "linecolor": "white",
            "ticks": ""
           },
           "bgcolor": "#E5ECF6",
           "radialaxis": {
            "gridcolor": "white",
            "linecolor": "white",
            "ticks": ""
           }
          },
          "scene": {
           "xaxis": {
            "backgroundcolor": "#E5ECF6",
            "gridcolor": "white",
            "gridwidth": 2,
            "linecolor": "white",
            "showbackground": true,
            "ticks": "",
            "zerolinecolor": "white"
           },
           "yaxis": {
            "backgroundcolor": "#E5ECF6",
            "gridcolor": "white",
            "gridwidth": 2,
            "linecolor": "white",
            "showbackground": true,
            "ticks": "",
            "zerolinecolor": "white"
           },
           "zaxis": {
            "backgroundcolor": "#E5ECF6",
            "gridcolor": "white",
            "gridwidth": 2,
            "linecolor": "white",
            "showbackground": true,
            "ticks": "",
            "zerolinecolor": "white"
           }
          },
          "shapedefaults": {
           "line": {
            "color": "#2a3f5f"
           }
          },
          "ternary": {
           "aaxis": {
            "gridcolor": "white",
            "linecolor": "white",
            "ticks": ""
           },
           "baxis": {
            "gridcolor": "white",
            "linecolor": "white",
            "ticks": ""
           },
           "bgcolor": "#E5ECF6",
           "caxis": {
            "gridcolor": "white",
            "linecolor": "white",
            "ticks": ""
           }
          },
          "title": {
           "x": 0.05
          },
          "xaxis": {
           "automargin": true,
           "gridcolor": "white",
           "linecolor": "white",
           "ticks": "",
           "title": {
            "standoff": 15
           },
           "zerolinecolor": "white",
           "zerolinewidth": 2
          },
          "yaxis": {
           "automargin": true,
           "gridcolor": "white",
           "linecolor": "white",
           "ticks": "",
           "title": {
            "standoff": 15
           },
           "zerolinecolor": "white",
           "zerolinewidth": 2
          }
         }
        },
        "title": {
         "text": "Metrics per Threshold"
        },
        "xaxis": {
         "anchor": "y",
         "domain": [
          0,
          1
         ],
         "title": {
          "text": "threshold"
         }
        },
        "yaxis": {
         "anchor": "x",
         "domain": [
          0,
          1
         ],
         "title": {
          "text": "score"
         }
        }
       }
      }
     },
     "metadata": {},
     "output_type": "display_data"
    }
   ],
   "source": [
    "thresholds = np.arange(0, 1.01, 0.01)\n",
    "\n",
    "rcs, prs, f1s = evaluate_thresholds(thresholds, y_test, test_preds, plot=True)"
   ]
  },
  {
   "cell_type": "markdown",
   "metadata": {},
   "source": [
    "## Model Diagnostics"
   ]
  },
  {
   "cell_type": "markdown",
   "metadata": {},
   "source": [
    "#### Feature Importances"
   ]
  },
  {
   "cell_type": "code",
   "execution_count": 20,
   "metadata": {},
   "outputs": [
    {
     "data": {
      "image/png": "[encoded data removed]",
      "text/plain": [
       "<Figure size 800x510 with 2 Axes>"
      ]
     },
     "metadata": {},
     "output_type": "display_data"
    }
   ],
   "source": [
    "explainer = shap.Explainer(best_gbt)\n",
    "shap_values = explainer(X_test[numerical_features].to_pandas())\n",
    "shap.plots.beeswarm(shap_values)"
   ]
  },
  {
   "cell_type": "markdown",
   "metadata": {},
   "source": [
    "#### False Positives & False Negatives"
   ]
  },
  {
   "cell_type": "code",
   "execution_count": 21,
   "metadata": {},
   "outputs": [
    {
     "name": "stdout",
     "output_type": "stream",
     "text": [
      "There are 11 false positives\n",
      "There are 5 false negatives\n"
     ]
    }
   ],
   "source": [
    "thr = 0.24\n",
    "test_binary_pred = test_preds[:, 1] >= thr\n",
    "\n",
    "fps = np.where((np.array(y_test) == False) & (test_binary_pred == True))[0]\n",
    "fns = np.where((np.array(y_test) == True) & (test_binary_pred == False))[0]\n",
    "\n",
    "print(f\"There are {len(fps)} false positives\")\n",
    "print(f\"There are {len(fns)} false negatives\")"
   ]
  },
  {
   "cell_type": "code",
   "execution_count": 22,
   "metadata": {},
   "outputs": [
    {
     "data": {
      "image/png": "[encoded data removed]",
      "text/plain": [
       "<Figure size 800x600 with 3 Axes>"
      ]
     },
     "metadata": {},
     "output_type": "display_data"
    }
   ],
   "source": [
    "shap.plots.waterfall(shap_values[fps[0]])"
   ]
  },
  {
   "cell_type": "code",
   "execution_count": 23,
   "metadata": {},
   "outputs": [
    {
     "data": {
      "image/png": "[encoded data removed]",
      "text/plain": [
       "<Figure size 800x600 with 3 Axes>"
      ]
     },
     "metadata": {},
     "output_type": "display_data"
    }
   ],
   "source": [
    "shap.plots.waterfall(shap_values[fns[0]])"
   ]
  },
  {
   "cell_type": "markdown",
   "metadata": {},
   "source": [
    "## Save Model for Deployment"
   ]
  },
  {
   "cell_type": "code",
   "execution_count": 24,
   "metadata": {},
   "outputs": [
    {
     "data": {
      "text/plain": [
       "['../models/hgbt_final.joblib']"
      ]
     },
     "execution_count": 24,
     "metadata": {},
     "output_type": "execute_result"
    }
   ],
   "source": [
    "joblib.dump(best_gbt, '../models/hgbt_final.joblib')"
   ]
  },
  {
   "cell_type": "markdown",
   "metadata": {},
   "source": [
    "## Summary\n",
    "\n",
    "* The modelling task for anomaly detection is quite easily solved by training supervised ML model\n",
    "* To make the task more challenging, only the engineered features were used to identify the anomalies\n",
    "* The optimal model that was trained is HistGBT with threshold of 0.24\n",
    "* The maximum F1 that can be achieved with the trained model is 0.92, which gives us a recall of 0.95 and precision 0.90\n",
    "* The trained model outperforms heuristic baseline by 0.20 in terms of F1 score\n",
    "* SHAP values suggest that smaller networks tend to be more anomalous"
   ]
  }
 ],
 "metadata": {
  "kernelspec": {
   "display_name": ".venv",
   "language": "python",
   "name": "python3"
  },
  "language_info": {
   "codemirror_mode": {
    "name": "ipython",
    "version": 3
   },
   "file_extension": ".py",
   "mimetype": "text/x-python",
   "name": "python",
   "nbconvert_exporter": "python",
   "pygments_lexer": "ipython3",
   "version": "3.12.5"
  }
 },
 "nbformat": 4,
 "nbformat_minor": 2
}
