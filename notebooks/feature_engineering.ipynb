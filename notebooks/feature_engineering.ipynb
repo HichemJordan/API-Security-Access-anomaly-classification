{
 "cells": [
  {
   "cell_type": "markdown",
   "metadata": {},
   "source": [
    "# Feature Engineering\n",
    "\n",
    "The main objectives for this notebook are:\n",
    "* Develop a set of features that have a potential to improve our model's performance\n",
    "* Investiage the relationships between our new features and your target\n",
    "\n",
    "\n",
    "## important steps \n",
    "1. Engineer a well argued feature (if with sources that's bonus point x2) \n",
    "2. Validate features after engineering\n",
    "3. Don't use blind (auto) feature engineering - waste of time\n",
    "    - Irrelevant Features Can Reduce Model Performance\n",
    "    - Difficulty in Model Interpretability and Explainability\n",
    "    - Lack of Alignment with Business Goals\n",
    "4. Design a feature engineering pipeline at the end of the notebook"
   ]
  },
  {
   "cell_type": "markdown",
   "metadata": {},
   "source": [
    "# Imports"
   ]
  },
  {
   "cell_type": "code",
   "execution_count": 5,
   "metadata": {},
   "outputs": [],
   "source": [
    "import os\n",
    "import sys\n",
    "\n",
    "import matplotlib.pyplot as plt\n",
    "import numpy as np\n",
    "import pandas as pd\n",
    "import plotly.io as pio\n",
    "import seaborn as sns\n",
    "from feature_engine.selection import SmartCorrelatedSelection\n",
    "\n",
    "import polars as pl\n",
    "\n",
    "# Path needs to be added manually to read from another folder\n",
    "path2add = os.path.normpath(\n",
    "    os.path.abspath(os.path.join(os.path.dirname(\"__file__\"), os.path.pardir, \"utils\"))\n",
    ")\n",
    "if not (path2add in sys.path):\n",
    "    sys.path.append(path2add)\n",
    "\n",
    "from feature_engineering import (\n",
    "    aggregate_node_features\n",
    "    # feature_predictive_power,\n",
    "    # get_graph_features,\n",
    ")\n",
    "\n",
    "pio.renderers.default = \"notebook\""
   ]
  },
  {
   "cell_type": "code",
   "execution_count": 6,
   "metadata": {},
   "outputs": [],
   "source": [
    "data = pl.read_parquet('../data/supervised_clean_data.parquet')\n",
    "calls = pl.read_json('../data/supervised_call_graphs.json')"
   ]
  },
  {
   "cell_type": "code",
   "execution_count": 8,
   "metadata": {},
   "outputs": [
    {
     "data": {
      "text/html": [
       "<div><style>\n",
       ".dataframe > thead > tr,\n",
       ".dataframe > tbody > tr {\n",
       "  text-align: right;\n",
       "  white-space: pre-wrap;\n",
       "}\n",
       "</style>\n",
       "<small>shape: (1, 13)</small><table border=\"1\" class=\"dataframe\"><thead><tr><th></th><th>_id</th><th>inter_api_access_duration(sec)</th><th>api_access_uniqueness</th><th>sequence_length(count)</th><th>vsession_duration(min)</th><th>ip_type</th><th>num_sessions</th><th>num_users</th><th>num_unique_apis</th><th>source</th><th>classification</th><th>is_anomaly</th></tr><tr><td>i64</td><td>str</td><td>f64</td><td>f64</td><td>f64</td><td>i64</td><td>str</td><td>f64</td><td>f64</td><td>f64</td><td>str</td><td>str</td><td>bool</td></tr></thead><tbody><tr><td>0</td><td>&quot;1f2c32d8-2d6e-3b68-bc46-789469…</td><td>0.000812</td><td>0.004066</td><td>85.643243</td><td>5405</td><td>&quot;default&quot;</td><td>1460.0</td><td>1295.0</td><td>451.0</td><td>&quot;E&quot;</td><td>&quot;normal&quot;</td><td>false</td></tr></tbody></table></div>"
      ],
      "text/plain": [
       "shape: (1, 13)\n",
       "┌─────┬─────────────┬─────────────┬────────────┬───┬────────────┬────────┬────────────┬────────────┐\n",
       "│     ┆ _id         ┆ inter_api_a ┆ api_access ┆ … ┆ num_unique ┆ source ┆ classifica ┆ is_anomaly │\n",
       "│ --- ┆ ---         ┆ ccess_durat ┆ _uniquenes ┆   ┆ _apis      ┆ ---    ┆ tion       ┆ ---        │\n",
       "│ i64 ┆ str         ┆ ion(sec)    ┆ s          ┆   ┆ ---        ┆ str    ┆ ---        ┆ bool       │\n",
       "│     ┆             ┆ ---         ┆ ---        ┆   ┆ f64        ┆        ┆ str        ┆            │\n",
       "│     ┆             ┆ f64         ┆ f64        ┆   ┆            ┆        ┆            ┆            │\n",
       "╞═════╪═════════════╪═════════════╪════════════╪═══╪════════════╪════════╪════════════╪════════════╡\n",
       "│ 0   ┆ 1f2c32d8-2d ┆ 0.000812    ┆ 0.004066   ┆ … ┆ 451.0      ┆ E      ┆ normal     ┆ false      │\n",
       "│     ┆ 6e-3b68-bc4 ┆             ┆            ┆   ┆            ┆        ┆            ┆            │\n",
       "│     ┆ 6-789469…   ┆             ┆            ┆   ┆            ┆        ┆            ┆            │\n",
       "└─────┴─────────────┴─────────────┴────────────┴───┴────────────┴────────┴────────────┴────────────┘"
      ]
     },
     "execution_count": 8,
     "metadata": {},
     "output_type": "execute_result"
    }
   ],
   "source": [
    "data.head(1)"
   ]
  },
  {
   "cell_type": "code",
   "execution_count": 9,
   "metadata": {},
   "outputs": [
    {
     "data": {
      "text/html": [
       "<div><style>\n",
       ".dataframe > thead > tr,\n",
       ".dataframe > tbody > tr {\n",
       "  text-align: right;\n",
       "  white-space: pre-wrap;\n",
       "}\n",
       "</style>\n",
       "<small>shape: (1, 2)</small><table border=\"1\" class=\"dataframe\"><thead><tr><th>_id</th><th>call_graph</th></tr><tr><td>str</td><td>list[struct[2]]</td></tr></thead><tbody><tr><td>&quot;1f2c32d8-2d6e-3b68-bc46-789469…</td><td>[{&quot;1f873432-6944-3df9-8300-8a3cf9f95b35&quot;,&quot;5862055b-35a6-316a-8e20-3ae20c1763c2&quot;}, {&quot;8955faa9-0e33-37ad-a1dc-f0e640a114c2&quot;,&quot;a4fd6415-1fd4-303e-aa33-bb1830b5d9d4&quot;}, … {&quot;016099ea-6f20-3fec-94cf-f7afa239f398&quot;,&quot;6fa8ad53-2f0d-3f44-8863-139092bfeda9&quot;}]</td></tr></tbody></table></div>"
      ],
      "text/plain": [
       "shape: (1, 2)\n",
       "┌─────────────────────────────────┬─────────────────────────────────┐\n",
       "│ _id                             ┆ call_graph                      │\n",
       "│ ---                             ┆ ---                             │\n",
       "│ str                             ┆ list[struct[2]]                 │\n",
       "╞═════════════════════════════════╪═════════════════════════════════╡\n",
       "│ 1f2c32d8-2d6e-3b68-bc46-789469… ┆ [{\"1f873432-6944-3df9-8300-8a3… │\n",
       "└─────────────────────────────────┴─────────────────────────────────┘"
      ]
     },
     "execution_count": 9,
     "metadata": {},
     "output_type": "execute_result"
    }
   ],
   "source": [
    "calls.head(1)"
   ]
  },
  {
   "cell_type": "markdown",
   "metadata": {},
   "source": [
    "Since the main dataset already contains engineered features, there's not much opportunity to do feature engineering there. So, additional features will be created using the graph data that comes from `supervised_call_graphs.json`"
   ]
  },
  {
   "cell_type": "markdown",
   "metadata": {},
   "source": [
    "## Process Graph Data"
   ]
  },
  {
   "cell_type": "code",
   "execution_count": 13,
   "metadata": {},
   "outputs": [
    {
     "data": {
      "text/html": [
       "<div><style>\n",
       ".dataframe > thead > tr,\n",
       ".dataframe > tbody > tr {\n",
       "  text-align: right;\n",
       "  white-space: pre-wrap;\n",
       "}\n",
       "</style>\n",
       "<small>shape: (5, 3)</small><table border=\"1\" class=\"dataframe\"><thead><tr><th>_id</th><th>from</th><th>to</th></tr><tr><td>str</td><td>str</td><td>str</td></tr></thead><tbody><tr><td>&quot;1f2c32d8-2d6e-3b68-bc46-789469…</td><td>&quot;1f873432-6944-3df9-8300-8a3cf9…</td><td>&quot;5862055b-35a6-316a-8e20-3ae20c…</td></tr><tr><td>&quot;1f2c32d8-2d6e-3b68-bc46-789469…</td><td>&quot;8955faa9-0e33-37ad-a1dc-f0e640…</td><td>&quot;a4fd6415-1fd4-303e-aa33-bb1830…</td></tr><tr><td>&quot;1f2c32d8-2d6e-3b68-bc46-789469…</td><td>&quot;85754db8-6a55-30b7-8558-dec75f…</td><td>&quot;85754db8-6a55-30b7-8558-dec75f…</td></tr><tr><td>&quot;1f2c32d8-2d6e-3b68-bc46-789469…</td><td>&quot;9f08fee1-953c-3801-b254-c0256f…</td><td>&quot;876b4958-7df1-3b2b-9def-1a22f1…</td></tr><tr><td>&quot;1f2c32d8-2d6e-3b68-bc46-789469…</td><td>&quot;857c4b20-3057-30e0-9ca3-d6f5c3…</td><td>&quot;857c4b20-3057-30e0-9ca3-d6f5c3…</td></tr></tbody></table></div>"
      ],
      "text/plain": [
       "shape: (5, 3)\n",
       "┌────────────────────────────────┬────────────────────────────────┬────────────────────────────────┐\n",
       "│ _id                            ┆ from                           ┆ to                             │\n",
       "│ ---                            ┆ ---                            ┆ ---                            │\n",
       "│ str                            ┆ str                            ┆ str                            │\n",
       "╞════════════════════════════════╪════════════════════════════════╪════════════════════════════════╡\n",
       "│ 1f2c32d8-2d6e-3b68-bc46-789469 ┆ 1f873432-6944-3df9-8300-8a3cf9 ┆ 5862055b-35a6-316a-8e20-3ae20c │\n",
       "│ …                              ┆ …                              ┆ …                              │\n",
       "│ 1f2c32d8-2d6e-3b68-bc46-789469 ┆ 8955faa9-0e33-37ad-a1dc-f0e640 ┆ a4fd6415-1fd4-303e-aa33-bb1830 │\n",
       "│ …                              ┆ …                              ┆ …                              │\n",
       "│ 1f2c32d8-2d6e-3b68-bc46-789469 ┆ 85754db8-6a55-30b7-8558-dec75f ┆ 85754db8-6a55-30b7-8558-dec75f │\n",
       "│ …                              ┆ …                              ┆ …                              │\n",
       "│ 1f2c32d8-2d6e-3b68-bc46-789469 ┆ 9f08fee1-953c-3801-b254-c0256f ┆ 876b4958-7df1-3b2b-9def-1a22f1 │\n",
       "│ …                              ┆ …                              ┆ …                              │\n",
       "│ 1f2c32d8-2d6e-3b68-bc46-789469 ┆ 857c4b20-3057-30e0-9ca3-d6f5c3 ┆ 857c4b20-3057-30e0-9ca3-d6f5c3 │\n",
       "│ …                              ┆ …                              ┆ …                              │\n",
       "└────────────────────────────────┴────────────────────────────────┴────────────────────────────────┘"
      ]
     },
     "execution_count": 13,
     "metadata": {},
     "output_type": "execute_result"
    }
   ],
   "source": [
    "calls_processed = (\n",
    "    calls.with_columns(\n",
    "        pl.col(\"call_graph\").list.eval(\n",
    "            pl.element().struct.rename_fields([\"from\", \"to\"])\n",
    "        )\n",
    "    )\n",
    "    .explode(\"call_graph\")\n",
    "    .unnest(\"call_graph\")\n",
    ")\n",
    "\n",
    "calls_processed.head()"
   ]
  },
  {
   "cell_type": "markdown",
   "metadata": {},
   "source": [
    "## Feature Engineering"
   ]
  },
  {
   "cell_type": "markdown",
   "metadata": {},
   "source": [
    "We can see that each graph has a separate `_id` that can be later used to join to the main dataset. A graph consistst out of `source` and `destination` nodes which refer to the available API calls.\n",
    "\n",
    "### Basic Graph Level Features\n",
    "\n",
    "The most basic graph-level that we can engineer are:\n",
    "* Number of edges (connections)\n",
    "* Number of nodes (APIs)\n",
    "\n",
    "These features can be useful since most behaviours are going to have a \"normal\" range of APIs that they contact. If this number is too large or too small, this might be an indication of anomalous activity."
   ]
  },
  {
   "cell_type": "code",
   "execution_count": 14,
   "metadata": {},
   "outputs": [
    {
     "data": {
      "text/html": [
       "<div><style>\n",
       ".dataframe > thead > tr,\n",
       ".dataframe > tbody > tr {\n",
       "  text-align: right;\n",
       "  white-space: pre-wrap;\n",
       "}\n",
       "</style>\n",
       "<small>shape: (3, 3)</small><table border=\"1\" class=\"dataframe\"><thead><tr><th>_id</th><th>n_connections</th><th>n_unique_nodes</th></tr><tr><td>str</td><td>u32</td><td>u32</td></tr></thead><tbody><tr><td>&quot;6f217ee9-b57b-38f0-976c-1deb9f…</td><td>97</td><td>52</td></tr><tr><td>&quot;a3e0801a-a235-35b9-9587-01bb16…</td><td>8</td><td>7</td></tr><tr><td>&quot;9d8636d5-582f-32d7-a92a-55ba8c…</td><td>17</td><td>11</td></tr></tbody></table></div>"
      ],
      "text/plain": [
       "shape: (3, 3)\n",
       "┌─────────────────────────────────┬───────────────┬────────────────┐\n",
       "│ _id                             ┆ n_connections ┆ n_unique_nodes │\n",
       "│ ---                             ┆ ---           ┆ ---            │\n",
       "│ str                             ┆ u32           ┆ u32            │\n",
       "╞═════════════════════════════════╪═══════════════╪════════════════╡\n",
       "│ 6f217ee9-b57b-38f0-976c-1deb9f… ┆ 97            ┆ 52             │\n",
       "│ a3e0801a-a235-35b9-9587-01bb16… ┆ 8             ┆ 7              │\n",
       "│ 9d8636d5-582f-32d7-a92a-55ba8c… ┆ 17            ┆ 11             │\n",
       "└─────────────────────────────────┴───────────────┴────────────────┘"
      ]
     },
     "execution_count": 14,
     "metadata": {},
     "output_type": "execute_result"
    }
   ],
   "source": [
    "graph_features = calls_processed.group_by('_id').agg(\n",
    "    pl.len().alias('n_connections'),\n",
    "    pl.col('from'),\n",
    "    pl.col('to')\n",
    ").with_columns(\n",
    "    pl.concat_list('from', 'to').list.unique().list.len().alias('n_unique_nodes')\n",
    ").select([\n",
    "    '_id',\n",
    "    'n_connections',\n",
    "    'n_unique_nodes'\n",
    "])\n",
    "\n",
    "graph_features.sample(3)"
   ]
  }
 ],
 "metadata": {
  "kernelspec": {
   "display_name": ".venv",
   "language": "python",
   "name": "python3"
  },
  "language_info": {
   "codemirror_mode": {
    "name": "ipython",
    "version": 3
   },
   "file_extension": ".py",
   "mimetype": "text/x-python",
   "name": "python",
   "nbconvert_exporter": "python",
   "pygments_lexer": "ipython3",
   "version": "3.12.5"
  }
 },
 "nbformat": 4,
 "nbformat_minor": 2
}
