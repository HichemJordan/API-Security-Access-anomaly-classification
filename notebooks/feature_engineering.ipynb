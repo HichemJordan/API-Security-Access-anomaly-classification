{
 "cells": [
  {
   "cell_type": "markdown",
   "metadata": {},
   "source": [
    "# Feature Engineering\n",
    "\n",
    "The main objectives for this notebook are:\n",
    "* Develop a set of features that have a potential to improve our model's performance\n",
    "* Investiage the relationships between our new features and your target\n",
    "\n",
    "\n",
    "## important steps \n",
    "1. Engineer a well argued feature (if with sources that's bonus point x2) \n",
    "2. Validate features after engineering\n",
    "3. Don't use blind (auto) feature engineering - waste of time\n",
    "    - Irrelevant Features Can Reduce Model Performance\n",
    "    - Difficulty in Model Interpretability and Explainability\n",
    "    - Lack of Alignment with Business Goals\n",
    "4. Design a feature engineering pipeline at the end of the notebook"
   ]
  },
  {
   "cell_type": "markdown",
   "metadata": {},
   "source": [
    "# Imports"
   ]
  },
  {
   "cell_type": "code",
   "execution_count": 2,
   "metadata": {},
   "outputs": [],
   "source": [
    "import os\n",
    "import sys\n",
    "\n",
    "import matplotlib.pyplot as plt\n",
    "import numpy as np\n",
    "import pandas as pd\n",
    "import plotly.io as pio\n",
    "import seaborn as sns\n",
    "from feature_engine.selection import SmartCorrelatedSelection\n",
    "\n",
    "import polars as pl\n",
    "\n",
    "# Path needs to be added manually to read from another folder\n",
    "path2add = os.path.normpath(\n",
    "    os.path.abspath(os.path.join(os.path.dirname(\"__file__\"), os.path.pardir, \"utils\"))\n",
    ")\n",
    "if not (path2add in sys.path):\n",
    "    sys.path.append(path2add)\n",
    "\n",
    "from feature_engineering import (\n",
    "    aggregate_node_features\n",
    "    # feature_predictive_power,\n",
    "    # get_graph_features,\n",
    ")\n",
    "\n",
    "pio.renderers.default = \"notebook\""
   ]
  },
  {
   "cell_type": "code",
   "execution_count": 3,
   "metadata": {},
   "outputs": [],
   "source": [
    "data = pl.read_parquet('../data/supervised_clean_data.parquet')\n",
    "calls = pl.read_json('../data/supervised_call_graphs.json')"
   ]
  },
  {
   "cell_type": "code",
   "execution_count": 4,
   "metadata": {},
   "outputs": [
    {
     "data": {
      "text/html": [
       "<div><style>\n",
       ".dataframe > thead > tr,\n",
       ".dataframe > tbody > tr {\n",
       "  text-align: right;\n",
       "  white-space: pre-wrap;\n",
       "}\n",
       "</style>\n",
       "<small>shape: (1, 13)</small><table border=\"1\" class=\"dataframe\"><thead><tr><th></th><th>_id</th><th>inter_api_access_duration(sec)</th><th>api_access_uniqueness</th><th>sequence_length(count)</th><th>vsession_duration(min)</th><th>ip_type</th><th>num_sessions</th><th>num_users</th><th>num_unique_apis</th><th>source</th><th>classification</th><th>is_anomaly</th></tr><tr><td>i64</td><td>str</td><td>f64</td><td>f64</td><td>f64</td><td>i64</td><td>str</td><td>f64</td><td>f64</td><td>f64</td><td>str</td><td>str</td><td>bool</td></tr></thead><tbody><tr><td>0</td><td>&quot;1f2c32d8-2d6e-3b68-bc46-789469…</td><td>0.000812</td><td>0.004066</td><td>85.643243</td><td>5405</td><td>&quot;default&quot;</td><td>1460.0</td><td>1295.0</td><td>451.0</td><td>&quot;E&quot;</td><td>&quot;normal&quot;</td><td>false</td></tr></tbody></table></div>"
      ],
      "text/plain": [
       "shape: (1, 13)\n",
       "┌─────┬─────────────┬─────────────┬────────────┬───┬────────────┬────────┬────────────┬────────────┐\n",
       "│     ┆ _id         ┆ inter_api_a ┆ api_access ┆ … ┆ num_unique ┆ source ┆ classifica ┆ is_anomaly │\n",
       "│ --- ┆ ---         ┆ ccess_durat ┆ _uniquenes ┆   ┆ _apis      ┆ ---    ┆ tion       ┆ ---        │\n",
       "│ i64 ┆ str         ┆ ion(sec)    ┆ s          ┆   ┆ ---        ┆ str    ┆ ---        ┆ bool       │\n",
       "│     ┆             ┆ ---         ┆ ---        ┆   ┆ f64        ┆        ┆ str        ┆            │\n",
       "│     ┆             ┆ f64         ┆ f64        ┆   ┆            ┆        ┆            ┆            │\n",
       "╞═════╪═════════════╪═════════════╪════════════╪═══╪════════════╪════════╪════════════╪════════════╡\n",
       "│ 0   ┆ 1f2c32d8-2d ┆ 0.000812    ┆ 0.004066   ┆ … ┆ 451.0      ┆ E      ┆ normal     ┆ false      │\n",
       "│     ┆ 6e-3b68-bc4 ┆             ┆            ┆   ┆            ┆        ┆            ┆            │\n",
       "│     ┆ 6-789469…   ┆             ┆            ┆   ┆            ┆        ┆            ┆            │\n",
       "└─────┴─────────────┴─────────────┴────────────┴───┴────────────┴────────┴────────────┴────────────┘"
      ]
     },
     "execution_count": 4,
     "metadata": {},
     "output_type": "execute_result"
    }
   ],
   "source": [
    "data.head(1)"
   ]
  },
  {
   "cell_type": "code",
   "execution_count": 5,
   "metadata": {},
   "outputs": [
    {
     "data": {
      "text/html": [
       "<div><style>\n",
       ".dataframe > thead > tr,\n",
       ".dataframe > tbody > tr {\n",
       "  text-align: right;\n",
       "  white-space: pre-wrap;\n",
       "}\n",
       "</style>\n",
       "<small>shape: (1, 2)</small><table border=\"1\" class=\"dataframe\"><thead><tr><th>_id</th><th>call_graph</th></tr><tr><td>str</td><td>list[struct[2]]</td></tr></thead><tbody><tr><td>&quot;1f2c32d8-2d6e-3b68-bc46-789469…</td><td>[{&quot;1f873432-6944-3df9-8300-8a3cf9f95b35&quot;,&quot;5862055b-35a6-316a-8e20-3ae20c1763c2&quot;}, {&quot;8955faa9-0e33-37ad-a1dc-f0e640a114c2&quot;,&quot;a4fd6415-1fd4-303e-aa33-bb1830b5d9d4&quot;}, … {&quot;016099ea-6f20-3fec-94cf-f7afa239f398&quot;,&quot;6fa8ad53-2f0d-3f44-8863-139092bfeda9&quot;}]</td></tr></tbody></table></div>"
      ],
      "text/plain": [
       "shape: (1, 2)\n",
       "┌─────────────────────────────────┬─────────────────────────────────┐\n",
       "│ _id                             ┆ call_graph                      │\n",
       "│ ---                             ┆ ---                             │\n",
       "│ str                             ┆ list[struct[2]]                 │\n",
       "╞═════════════════════════════════╪═════════════════════════════════╡\n",
       "│ 1f2c32d8-2d6e-3b68-bc46-789469… ┆ [{\"1f873432-6944-3df9-8300-8a3… │\n",
       "└─────────────────────────────────┴─────────────────────────────────┘"
      ]
     },
     "execution_count": 5,
     "metadata": {},
     "output_type": "execute_result"
    }
   ],
   "source": [
    "calls.head(1)"
   ]
  },
  {
   "cell_type": "markdown",
   "metadata": {},
   "source": [
    "Since the main dataset already contains engineered features, there's not much opportunity to do feature engineering there. So, additional features will be created using the graph data that comes from `supervised_call_graphs.json`"
   ]
  },
  {
   "cell_type": "markdown",
   "metadata": {},
   "source": [
    "## Process Graph Data"
   ]
  },
  {
   "cell_type": "code",
   "execution_count": 6,
   "metadata": {},
   "outputs": [
    {
     "data": {
      "text/html": [
       "<div><style>\n",
       ".dataframe > thead > tr,\n",
       ".dataframe > tbody > tr {\n",
       "  text-align: right;\n",
       "  white-space: pre-wrap;\n",
       "}\n",
       "</style>\n",
       "<small>shape: (5, 3)</small><table border=\"1\" class=\"dataframe\"><thead><tr><th>_id</th><th>from</th><th>to</th></tr><tr><td>str</td><td>str</td><td>str</td></tr></thead><tbody><tr><td>&quot;1f2c32d8-2d6e-3b68-bc46-789469…</td><td>&quot;1f873432-6944-3df9-8300-8a3cf9…</td><td>&quot;5862055b-35a6-316a-8e20-3ae20c…</td></tr><tr><td>&quot;1f2c32d8-2d6e-3b68-bc46-789469…</td><td>&quot;8955faa9-0e33-37ad-a1dc-f0e640…</td><td>&quot;a4fd6415-1fd4-303e-aa33-bb1830…</td></tr><tr><td>&quot;1f2c32d8-2d6e-3b68-bc46-789469…</td><td>&quot;85754db8-6a55-30b7-8558-dec75f…</td><td>&quot;85754db8-6a55-30b7-8558-dec75f…</td></tr><tr><td>&quot;1f2c32d8-2d6e-3b68-bc46-789469…</td><td>&quot;9f08fee1-953c-3801-b254-c0256f…</td><td>&quot;876b4958-7df1-3b2b-9def-1a22f1…</td></tr><tr><td>&quot;1f2c32d8-2d6e-3b68-bc46-789469…</td><td>&quot;857c4b20-3057-30e0-9ca3-d6f5c3…</td><td>&quot;857c4b20-3057-30e0-9ca3-d6f5c3…</td></tr></tbody></table></div>"
      ],
      "text/plain": [
       "shape: (5, 3)\n",
       "┌────────────────────────────────┬────────────────────────────────┬────────────────────────────────┐\n",
       "│ _id                            ┆ from                           ┆ to                             │\n",
       "│ ---                            ┆ ---                            ┆ ---                            │\n",
       "│ str                            ┆ str                            ┆ str                            │\n",
       "╞════════════════════════════════╪════════════════════════════════╪════════════════════════════════╡\n",
       "│ 1f2c32d8-2d6e-3b68-bc46-789469 ┆ 1f873432-6944-3df9-8300-8a3cf9 ┆ 5862055b-35a6-316a-8e20-3ae20c │\n",
       "│ …                              ┆ …                              ┆ …                              │\n",
       "│ 1f2c32d8-2d6e-3b68-bc46-789469 ┆ 8955faa9-0e33-37ad-a1dc-f0e640 ┆ a4fd6415-1fd4-303e-aa33-bb1830 │\n",
       "│ …                              ┆ …                              ┆ …                              │\n",
       "│ 1f2c32d8-2d6e-3b68-bc46-789469 ┆ 85754db8-6a55-30b7-8558-dec75f ┆ 85754db8-6a55-30b7-8558-dec75f │\n",
       "│ …                              ┆ …                              ┆ …                              │\n",
       "│ 1f2c32d8-2d6e-3b68-bc46-789469 ┆ 9f08fee1-953c-3801-b254-c0256f ┆ 876b4958-7df1-3b2b-9def-1a22f1 │\n",
       "│ …                              ┆ …                              ┆ …                              │\n",
       "│ 1f2c32d8-2d6e-3b68-bc46-789469 ┆ 857c4b20-3057-30e0-9ca3-d6f5c3 ┆ 857c4b20-3057-30e0-9ca3-d6f5c3 │\n",
       "│ …                              ┆ …                              ┆ …                              │\n",
       "└────────────────────────────────┴────────────────────────────────┴────────────────────────────────┘"
      ]
     },
     "execution_count": 6,
     "metadata": {},
     "output_type": "execute_result"
    }
   ],
   "source": [
    "calls_processed = (\n",
    "    calls.with_columns(\n",
    "        pl.col(\"call_graph\").list.eval(\n",
    "            pl.element().struct.rename_fields([\"from\", \"to\"])\n",
    "        )\n",
    "    )\n",
    "    .explode(\"call_graph\")\n",
    "    .unnest(\"call_graph\")\n",
    ")\n",
    "\n",
    "calls_processed.head()"
   ]
  },
  {
   "cell_type": "markdown",
   "metadata": {},
   "source": [
    "## Feature Engineering"
   ]
  },
  {
   "cell_type": "markdown",
   "metadata": {},
   "source": [
    "We can see that each graph has a separate `_id` that can be later used to join to the main dataset. A graph consistst out of `source` and `destination` nodes which refer to the available API calls.\n",
    "\n",
    "### Basic Graph Level Features\n",
    "\n",
    "The most basic graph-level that we can engineer are:\n",
    "* Number of edges (connections)\n",
    "* Number of nodes (APIs)\n",
    "\n",
    "These features can be useful since most behaviours are going to have a \"normal\" range of APIs that they contact. If this number is too large or too small, this might be an indication of anomalous activity."
   ]
  },
  {
   "cell_type": "code",
   "execution_count": 7,
   "metadata": {},
   "outputs": [
    {
     "data": {
      "text/html": [
       "<div><style>\n",
       ".dataframe > thead > tr,\n",
       ".dataframe > tbody > tr {\n",
       "  text-align: right;\n",
       "  white-space: pre-wrap;\n",
       "}\n",
       "</style>\n",
       "<small>shape: (3, 3)</small><table border=\"1\" class=\"dataframe\"><thead><tr><th>_id</th><th>n_connections</th><th>n_unique_nodes</th></tr><tr><td>str</td><td>u32</td><td>u32</td></tr></thead><tbody><tr><td>&quot;3da8d060-73e4-3e9c-82da-a6f974…</td><td>65</td><td>40</td></tr><tr><td>&quot;e549089a-5a4e-33b4-9769-4c432b…</td><td>13</td><td>8</td></tr><tr><td>&quot;17045307-0bed-326f-a6f9-2304de…</td><td>17</td><td>14</td></tr></tbody></table></div>"
      ],
      "text/plain": [
       "shape: (3, 3)\n",
       "┌─────────────────────────────────┬───────────────┬────────────────┐\n",
       "│ _id                             ┆ n_connections ┆ n_unique_nodes │\n",
       "│ ---                             ┆ ---           ┆ ---            │\n",
       "│ str                             ┆ u32           ┆ u32            │\n",
       "╞═════════════════════════════════╪═══════════════╪════════════════╡\n",
       "│ 3da8d060-73e4-3e9c-82da-a6f974… ┆ 65            ┆ 40             │\n",
       "│ e549089a-5a4e-33b4-9769-4c432b… ┆ 13            ┆ 8              │\n",
       "│ 17045307-0bed-326f-a6f9-2304de… ┆ 17            ┆ 14             │\n",
       "└─────────────────────────────────┴───────────────┴────────────────┘"
      ]
     },
     "execution_count": 7,
     "metadata": {},
     "output_type": "execute_result"
    }
   ],
   "source": [
    "graph_features = calls_processed.group_by('_id').agg(\n",
    "    pl.len().alias('n_connections'),\n",
    "    pl.col('from'),\n",
    "    pl.col('to')\n",
    ").with_columns(\n",
    "    pl.concat_list('from', 'to').list.unique().list.len().alias('n_unique_nodes')\n",
    ").select([\n",
    "    '_id',\n",
    "    'n_connections',\n",
    "    'n_unique_nodes'\n",
    "])\n",
    "\n",
    "graph_features.sample(3)"
   ]
  },
  {
   "cell_type": "markdown",
   "metadata": {},
   "source": [
    "### Node Level Features\n",
    "\n",
    "Since graphs consist out of nodes, we can engineer a set of features around specific nodes (APIs). We can calculate:\n",
    "\n",
    "* Node degrees -  the number of edges that come from/into a node. Very highly connected nodes can look anomalous.\n",
    "* Node centrality - there are various centrality measures (e.g. Page Rank) but they all try to estimate how important to the whole graph is a specific node. This feature could be useful because a behaviour pattern that doesn't touch any of the \"central\" APIs would look anomalous\n",
    "\n",
    "\n",
    "These features can be broken down into:\n",
    "* **global** features - measure node attributes across all the graphs\n",
    "* **local**  features - measure node attributes across a specific graph\n"
   ]
  },
  {
   "cell_type": "code",
   "execution_count": 8,
   "metadata": {},
   "outputs": [
    {
     "data": {
      "text/html": [
       "<div><style>\n",
       ".dataframe > thead > tr,\n",
       ".dataframe > tbody > tr {\n",
       "  text-align: right;\n",
       "  white-space: pre-wrap;\n",
       "}\n",
       "</style>\n",
       "<small>shape: (3, 7)</small><table border=\"1\" class=\"dataframe\"><thead><tr><th>_id</th><th>from</th><th>to</th><th>global_source_degrees</th><th>global_dest_degrees</th><th>local_source_degrees</th><th>local_dest_degrees</th></tr><tr><td>str</td><td>str</td><td>str</td><td>u32</td><td>u32</td><td>u32</td><td>u32</td></tr></thead><tbody><tr><td>&quot;1b26b358-f7e4-3cf0-b1aa-b9c1a1…</td><td>&quot;5cd474e2-1b47-3155-aac9-fdf91e…</td><td>&quot;756ab2fe-a386-32dd-9a4e-18785c…</td><td>6983</td><td>22416</td><td>10</td><td>11</td></tr><tr><td>&quot;ac6e2c42-460a-30c1-ba92-a5fd21…</td><td>&quot;16ada448-65e7-3cc9-b6ed-b30199…</td><td>&quot;07d688eb-153b-3aa7-9151-f72f66…</td><td>3247</td><td>1395</td><td>19</td><td>5</td></tr><tr><td>&quot;cb8e40ee-a935-30ba-8071-9ced09…</td><td>&quot;f854a0b4-c9c5-3b0f-b122-66bc71…</td><td>&quot;756ab2fe-a386-32dd-9a4e-18785c…</td><td>4772</td><td>22416</td><td>2</td><td>25</td></tr></tbody></table></div>"
      ],
      "text/plain": [
       "shape: (3, 7)\n",
       "┌──────────────┬─────────────┬─────────────┬─────────────┬─────────────┬─────────────┬─────────────┐\n",
       "│ _id          ┆ from        ┆ to          ┆ global_sour ┆ global_dest ┆ local_sourc ┆ local_dest_ │\n",
       "│ ---          ┆ ---         ┆ ---         ┆ ce_degrees  ┆ _degrees    ┆ e_degrees   ┆ degrees     │\n",
       "│ str          ┆ str         ┆ str         ┆ ---         ┆ ---         ┆ ---         ┆ ---         │\n",
       "│              ┆             ┆             ┆ u32         ┆ u32         ┆ u32         ┆ u32         │\n",
       "╞══════════════╪═════════════╪═════════════╪═════════════╪═════════════╪═════════════╪═════════════╡\n",
       "│ 1b26b358-f7e ┆ 5cd474e2-1b ┆ 756ab2fe-a3 ┆ 6983        ┆ 22416       ┆ 10          ┆ 11          │\n",
       "│ 4-3cf0-b1aa- ┆ 47-3155-aac ┆ 86-32dd-9a4 ┆             ┆             ┆             ┆             │\n",
       "│ b9c1a1…      ┆ 9-fdf91e…   ┆ e-18785c…   ┆             ┆             ┆             ┆             │\n",
       "│ ac6e2c42-460 ┆ 16ada448-65 ┆ 07d688eb-15 ┆ 3247        ┆ 1395        ┆ 19          ┆ 5           │\n",
       "│ a-30c1-ba92- ┆ e7-3cc9-b6e ┆ 3b-3aa7-915 ┆             ┆             ┆             ┆             │\n",
       "│ a5fd21…      ┆ d-b30199…   ┆ 1-f72f66…   ┆             ┆             ┆             ┆             │\n",
       "│ cb8e40ee-a93 ┆ f854a0b4-c9 ┆ 756ab2fe-a3 ┆ 4772        ┆ 22416       ┆ 2           ┆ 25          │\n",
       "│ 5-30ba-8071- ┆ c5-3b0f-b12 ┆ 86-32dd-9a4 ┆             ┆             ┆             ┆             │\n",
       "│ 9ced09…      ┆ 2-66bc71…   ┆ e-18785c…   ┆             ┆             ┆             ┆             │\n",
       "└──────────────┴─────────────┴─────────────┴─────────────┴─────────────┴─────────────┴─────────────┘"
      ]
     },
     "execution_count": 8,
     "metadata": {},
     "output_type": "execute_result"
    }
   ],
   "source": [
    "calls_processed = calls_processed.with_columns(\n",
    "    global_source_degrees = pl.len().over(pl.col('from')),\n",
    "    global_dest_degrees = pl.len().over(pl.col('to')),\n",
    "    local_source_degrees = pl.len().over(pl.col('from'), pl.col('_id')),\n",
    "    local_dest_degrees = pl.len().over(pl.col('to'), pl.col('_id'))\n",
    ")\n",
    "\n",
    "calls_processed.sample(3)"
   ]
  },
  {
   "cell_type": "markdown",
   "metadata": {},
   "source": [
    "Now that the node-level features are calculated, we need to aggregate them for a specific graph (`_id`). When aggregating, we can calcualte average, std, min, and max statistics for every feature to capture the distribution well."
   ]
  },
  {
   "cell_type": "code",
   "execution_count": 9,
   "metadata": {},
   "outputs": [
    {
     "data": {
      "text/html": [
       "<div><style>\n",
       ".dataframe > thead > tr,\n",
       ".dataframe > tbody > tr {\n",
       "  text-align: right;\n",
       "  white-space: pre-wrap;\n",
       "}\n",
       "</style>\n",
       "<small>shape: (5, 19)</small><table border=\"1\" class=\"dataframe\"><thead><tr><th>_id</th><th>n_connections</th><th>n_unique_nodes</th><th>avg_global_source_degrees</th><th>min_global_source_degrees</th><th>max_global_source_degrees</th><th>std_global_source_degrees</th><th>avg_global_dest_degrees</th><th>min_global_dest_degrees</th><th>max_global_dest_degrees</th><th>std_global_dest_degrees</th><th>avg_local_source_degrees</th><th>min_local_source_degrees</th><th>max_local_source_degrees</th><th>std_local_source_degrees</th><th>avg_local_dest_degrees</th><th>min_local_dest_degrees</th><th>max_local_dest_degrees</th><th>std_local_dest_degrees</th></tr><tr><td>str</td><td>u32</td><td>u32</td><td>f64</td><td>u32</td><td>u32</td><td>f64</td><td>f64</td><td>u32</td><td>u32</td><td>f64</td><td>f64</td><td>u32</td><td>u32</td><td>f64</td><td>f64</td><td>u32</td><td>u32</td><td>f64</td></tr></thead><tbody><tr><td>&quot;bf723452-e3e5-364d-8c55-1a3382…</td><td>58</td><td>21</td><td>9424.603448</td><td>626</td><td>32071</td><td>10773.873149</td><td>9273.551724</td><td>474</td><td>22416</td><td>8702.489041</td><td>4.37931</td><td>1</td><td>10</td><td>2.870464</td><td>4.448276</td><td>1</td><td>10</td><td>2.890835</td></tr><tr><td>&quot;f2413b79-b532-3263-9275-e2dec9…</td><td>380</td><td>106</td><td>6691.034211</td><td>33</td><td>32071</td><td>9113.158074</td><td>7615.252632</td><td>2</td><td>22416</td><td>8308.400452</td><td>9.531579</td><td>1</td><td>39</td><td>10.788763</td><td>12.015789</td><td>1</td><td>44</td><td>13.487794</td></tr><tr><td>&quot;cadba9de-1519-3988-bb26-96e72b…</td><td>261</td><td>73</td><td>7229.781609</td><td>165</td><td>32071</td><td>8261.57181</td><td>7790.45977</td><td>252</td><td>22416</td><td>7593.418844</td><td>8.210728</td><td>1</td><td>23</td><td>6.310982</td><td>8.448276</td><td>1</td><td>22</td><td>6.462481</td></tr><tr><td>&quot;e6853c15-cd13-3415-a971-eaafa9…</td><td>64</td><td>31</td><td>8439.03125</td><td>390</td><td>32071</td><td>9526.112115</td><td>8278.171875</td><td>544</td><td>22416</td><td>7609.341551</td><td>3.0625</td><td>1</td><td>8</td><td>2.107244</td><td>3.25</td><td>1</td><td>7</td><td>1.927248</td></tr><tr><td>&quot;79f6ac06-681f-342b-89e7-b5e795…</td><td>34</td><td>21</td><td>9643.558824</td><td>281</td><td>32071</td><td>10878.3489</td><td>8391.382353</td><td>295</td><td>22013</td><td>7225.648764</td><td>2.411765</td><td>1</td><td>6</td><td>1.794227</td><td>2.058824</td><td>1</td><td>4</td><td>1.013281</td></tr></tbody></table></div>"
      ],
      "text/plain": [
       "shape: (5, 19)\n",
       "┌───────────┬───────────┬───────────┬───────────┬───┬───────────┬───────────┬───────────┬──────────┐\n",
       "│ _id       ┆ n_connect ┆ n_unique_ ┆ avg_globa ┆ … ┆ avg_local ┆ min_local ┆ max_local ┆ std_loca │\n",
       "│ ---       ┆ ions      ┆ nodes     ┆ l_source_ ┆   ┆ _dest_deg ┆ _dest_deg ┆ _dest_deg ┆ l_dest_d │\n",
       "│ str       ┆ ---       ┆ ---       ┆ degrees   ┆   ┆ rees      ┆ rees      ┆ rees      ┆ egrees   │\n",
       "│           ┆ u32       ┆ u32       ┆ ---       ┆   ┆ ---       ┆ ---       ┆ ---       ┆ ---      │\n",
       "│           ┆           ┆           ┆ f64       ┆   ┆ f64       ┆ u32       ┆ u32       ┆ f64      │\n",
       "╞═══════════╪═══════════╪═══════════╪═══════════╪═══╪═══════════╪═══════════╪═══════════╪══════════╡\n",
       "│ bf723452- ┆ 58        ┆ 21        ┆ 9424.6034 ┆ … ┆ 4.448276  ┆ 1         ┆ 10        ┆ 2.890835 │\n",
       "│ e3e5-364d ┆           ┆           ┆ 48        ┆   ┆           ┆           ┆           ┆          │\n",
       "│ -8c55-1a3 ┆           ┆           ┆           ┆   ┆           ┆           ┆           ┆          │\n",
       "│ 382…      ┆           ┆           ┆           ┆   ┆           ┆           ┆           ┆          │\n",
       "│ f2413b79- ┆ 380       ┆ 106       ┆ 6691.0342 ┆ … ┆ 12.015789 ┆ 1         ┆ 44        ┆ 13.48779 │\n",
       "│ b532-3263 ┆           ┆           ┆ 11        ┆   ┆           ┆           ┆           ┆ 4        │\n",
       "│ -9275-e2d ┆           ┆           ┆           ┆   ┆           ┆           ┆           ┆          │\n",
       "│ ec9…      ┆           ┆           ┆           ┆   ┆           ┆           ┆           ┆          │\n",
       "│ cadba9de- ┆ 261       ┆ 73        ┆ 7229.7816 ┆ … ┆ 8.448276  ┆ 1         ┆ 22        ┆ 6.462481 │\n",
       "│ 1519-3988 ┆           ┆           ┆ 09        ┆   ┆           ┆           ┆           ┆          │\n",
       "│ -bb26-96e ┆           ┆           ┆           ┆   ┆           ┆           ┆           ┆          │\n",
       "│ 72b…      ┆           ┆           ┆           ┆   ┆           ┆           ┆           ┆          │\n",
       "│ e6853c15- ┆ 64        ┆ 31        ┆ 8439.0312 ┆ … ┆ 3.25      ┆ 1         ┆ 7         ┆ 1.927248 │\n",
       "│ cd13-3415 ┆           ┆           ┆ 5         ┆   ┆           ┆           ┆           ┆          │\n",
       "│ -a971-eaa ┆           ┆           ┆           ┆   ┆           ┆           ┆           ┆          │\n",
       "│ fa9…      ┆           ┆           ┆           ┆   ┆           ┆           ┆           ┆          │\n",
       "│ 79f6ac06- ┆ 34        ┆ 21        ┆ 9643.5588 ┆ … ┆ 2.058824  ┆ 1         ┆ 4         ┆ 1.013281 │\n",
       "│ 681f-342b ┆           ┆           ┆ 24        ┆   ┆           ┆           ┆           ┆          │\n",
       "│ -89e7-b5e ┆           ┆           ┆           ┆   ┆           ┆           ┆           ┆          │\n",
       "│ 795…      ┆           ┆           ┆           ┆   ┆           ┆           ┆           ┆          │\n",
       "└───────────┴───────────┴───────────┴───────────┴───┴───────────┴───────────┴───────────┴──────────┘"
      ]
     },
     "execution_count": 9,
     "metadata": {},
     "output_type": "execute_result"
    }
   ],
   "source": [
    "node_features_agg = aggregate_node_features(\n",
    "    calls_processed,\n",
    "    node_features=[\n",
    "        \"global_source_degrees\",\n",
    "        \"global_dest_degrees\",\n",
    "        \"local_source_degrees\",\n",
    "        \"local_dest_degrees\",\n",
    "    ],\n",
    "    by=\"_id\",\n",
    ")\n",
    "\n",
    "graph_features = graph_features.join(node_features_agg, on=\"_id\")\n",
    "graph_features.head()\n"
   ]
  },
  {
   "cell_type": "markdown",
   "metadata": {},
   "source": [
    "## Feature Selection\n",
    "Feature selection will be done using 2 steps:\n",
    "1. Quality checks - if the feature is constant or has too many missing values (>= 95%) it will be dropped\n",
    "2. Correlation analysis - if features have very high correlation (>= 95%) with each other, they can be dropped as well"
   ]
  },
  {
   "cell_type": "code",
   "execution_count": 10,
   "metadata": {},
   "outputs": [
    {
     "data": {
      "text/plain": [
       "['n_connections',\n",
       " 'n_unique_nodes',\n",
       " 'avg_global_source_degrees',\n",
       " 'min_global_source_degrees',\n",
       " 'max_global_source_degrees',\n",
       " 'std_global_source_degrees',\n",
       " 'avg_global_dest_degrees',\n",
       " 'min_global_dest_degrees',\n",
       " 'max_global_dest_degrees',\n",
       " 'std_global_dest_degrees',\n",
       " 'avg_local_source_degrees',\n",
       " 'min_local_source_degrees',\n",
       " 'max_local_source_degrees',\n",
       " 'std_local_source_degrees',\n",
       " 'avg_local_dest_degrees',\n",
       " 'min_local_dest_degrees',\n",
       " 'max_local_dest_degrees',\n",
       " 'std_local_dest_degrees']"
      ]
     },
     "execution_count": 10,
     "metadata": {},
     "output_type": "execute_result"
    }
   ],
   "source": [
    "engineered_features = graph_features.columns[1:]\n",
    "engineered_features"
   ]
  },
  {
   "cell_type": "markdown",
   "metadata": {},
   "source": [
    "### Quality Checks"
   ]
  },
  {
   "cell_type": "code",
   "execution_count": 11,
   "metadata": {},
   "outputs": [
    {
     "data": {
      "text/html": [
       "<div><style>\n",
       ".dataframe > thead > tr,\n",
       ".dataframe > tbody > tr {\n",
       "  text-align: right;\n",
       "  white-space: pre-wrap;\n",
       "}\n",
       "</style>\n",
       "<small>shape: (4, 2)</small><table border=\"1\" class=\"dataframe\"><thead><tr><th>col</th><th>null_count</th></tr><tr><td>str</td><td>u32</td></tr></thead><tbody><tr><td>&quot;std_global_source_degrees&quot;</td><td>42</td></tr><tr><td>&quot;std_global_dest_degrees&quot;</td><td>42</td></tr><tr><td>&quot;std_local_source_degrees&quot;</td><td>42</td></tr><tr><td>&quot;std_local_dest_degrees&quot;</td><td>42</td></tr></tbody></table></div>"
      ],
      "text/plain": [
       "shape: (4, 2)\n",
       "┌───────────────────────────┬────────────┐\n",
       "│ col                       ┆ null_count │\n",
       "│ ---                       ┆ ---        │\n",
       "│ str                       ┆ u32        │\n",
       "╞═══════════════════════════╪════════════╡\n",
       "│ std_global_source_degrees ┆ 42         │\n",
       "│ std_global_dest_degrees   ┆ 42         │\n",
       "│ std_local_source_degrees  ┆ 42         │\n",
       "│ std_local_dest_degrees    ┆ 42         │\n",
       "└───────────────────────────┴────────────┘"
      ]
     },
     "execution_count": 11,
     "metadata": {},
     "output_type": "execute_result"
    }
   ],
   "source": [
    "null_counts = graph_features.null_count().transpose(include_header=True, header_name='col', column_names=['null_count'])\n",
    "null_counts.filter(pl.col('null_count') > 0)"
   ]
  },
  {
   "cell_type": "code",
   "execution_count": 12,
   "metadata": {},
   "outputs": [
    {
     "data": {
      "text/html": [
       "<div><style>\n",
       ".dataframe > thead > tr,\n",
       ".dataframe > tbody > tr {\n",
       "  text-align: right;\n",
       "  white-space: pre-wrap;\n",
       "}\n",
       "</style>\n",
       "<small>shape: (0, 2)</small><table border=\"1\" class=\"dataframe\"><thead><tr><th>col</th><th>std</th></tr><tr><td>str</td><td>f64</td></tr></thead><tbody></tbody></table></div>"
      ],
      "text/plain": [
       "shape: (0, 2)\n",
       "┌─────┬─────┐\n",
       "│ col ┆ std │\n",
       "│ --- ┆ --- │\n",
       "│ str ┆ f64 │\n",
       "╞═════╪═════╡\n",
       "└─────┴─────┘"
      ]
     },
     "execution_count": 12,
     "metadata": {},
     "output_type": "execute_result"
    }
   ],
   "source": [
    "static_features = graph_features.select(engineered_features).std().transpose(include_header=True, header_name='col', column_names=['std'])\n",
    "static_features.filter(pl.col('std') == 0)"
   ]
  },
  {
   "cell_type": "markdown",
   "metadata": {},
   "source": [
    "**Observations:**\n",
    "* 4 columns have missing values. All of them calculate standard deviation\n",
    "\n",
    "**Impact**\n",
    "* No features will be dropped for quality reasons"
   ]
  },
  {
   "cell_type": "markdown",
   "metadata": {},
   "source": []
  }
 ],
 "metadata": {
  "kernelspec": {
   "display_name": ".venv",
   "language": "python",
   "name": "python3"
  },
  "language_info": {
   "codemirror_mode": {
    "name": "ipython",
    "version": 3
   },
   "file_extension": ".py",
   "mimetype": "text/x-python",
   "name": "python",
   "nbconvert_exporter": "python",
   "pygments_lexer": "ipython3",
   "version": "3.12.5"
  }
 },
 "nbformat": 4,
 "nbformat_minor": 2
}
