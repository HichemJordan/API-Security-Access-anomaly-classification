{
 "cells": [
  {
   "cell_type": "markdown",
   "metadata": {},
   "source": [
    "# Feature Engineering\n",
    "\n",
    "The main objectives for this notebook are:\n",
    "* Develop a set of features that have a potential to improve our model's performance\n",
    "* Investiage the relationships between our new features and your target\n",
    "\n",
    "\n",
    "## important steps \n",
    "1. Engineer a well argued feature (if with sources that's bonus point x2) \n",
    "2. Validate features after engineering\n",
    "3. Don't use blind (auto) feature engineering - waste of time\n",
    "    - Irrelevant Features Can Reduce Model Performance\n",
    "    - Difficulty in Model Interpretability and Explainability\n",
    "    - Lack of Alignment with Business Goals\n",
    "4. Design a feature engineering pipeline at the end of the notebook"
   ]
  }
 ],
 "metadata": {
  "language_info": {
   "name": "python"
  }
 },
 "nbformat": 4,
 "nbformat_minor": 2
}
