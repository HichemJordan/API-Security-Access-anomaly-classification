{
 "cells": [
  {
   "cell_type": "markdown",
   "metadata": {},
   "source": [
    "# Feature Engineering\n",
    "\n",
    "The main objectives for this notebook are:\n",
    "* Develop a set of features that have a potential to improve our model's performance\n",
    "* Investiage the relationships between our new features and your target\n",
    "\n",
    "\n",
    "## important steps \n",
    "1. Engineer a well argued feature (if with sources that's bonus point x2) \n",
    "2. Validate features after engineering\n",
    "3. Don't use blind (auto) feature engineering - waste of time\n",
    "    - Irrelevant Features Can Reduce Model Performance\n",
    "    - Difficulty in Model Interpretability and Explainability\n",
    "    - Lack of Alignment with Business Goals\n",
    "4. Design a feature engineering pipeline at the end of the notebook"
   ]
  },
  {
   "cell_type": "markdown",
   "metadata": {},
   "source": [
    "# Imports"
   ]
  },
  {
   "cell_type": "code",
   "execution_count": 3,
   "metadata": {},
   "outputs": [],
   "source": [
    "import os\n",
    "import sys\n",
    "\n",
    "import matplotlib.pyplot as plt\n",
    "import numpy as np\n",
    "import pandas as pd\n",
    "import plotly.io as pio\n",
    "import seaborn as sns\n",
    "from feature_engine.selection import SmartCorrelatedSelection\n",
    "\n",
    "import polars as pl\n",
    "\n",
    "# Path needs to be added manually to read from another folder\n",
    "path2add = os.path.normpath(\n",
    "    os.path.abspath(os.path.join(os.path.dirname(\"__file__\"), os.path.pardir, \"utils\"))\n",
    ")\n",
    "if not (path2add in sys.path):\n",
    "    sys.path.append(path2add)\n",
    "\n",
    "from feature_engineering import (\n",
    "    aggregate_node_features\n",
    "    # feature_predictive_power,\n",
    "    # get_graph_features,\n",
    ")\n",
    "\n",
    "pio.renderers.default = \"notebook\""
   ]
  }
 ],
 "metadata": {
  "kernelspec": {
   "display_name": ".venv",
   "language": "python",
   "name": "python3"
  },
  "language_info": {
   "codemirror_mode": {
    "name": "ipython",
    "version": 3
   },
   "file_extension": ".py",
   "mimetype": "text/x-python",
   "name": "python",
   "nbconvert_exporter": "python",
   "pygments_lexer": "ipython3",
   "version": "3.12.5"
  }
 },
 "nbformat": 4,
 "nbformat_minor": 2
}
