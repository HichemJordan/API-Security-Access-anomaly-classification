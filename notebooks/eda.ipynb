{
 "cells": [
  {
   "cell_type": "markdown",
   "metadata": {},
   "source": [
    "# Exploratory Data Analysis\n",
    "\n",
    "The main objectives for this notebook are:\n",
    "* Explore the clean dataset by performing univariate analysis\n",
    "* Investiage the relationships between the features and the target by perofrming bivariate and multivariate analyses\n",
    "* Extract relevant insights to share with business stakeholders\n",
    "* Understand steps that will be required for ML pre-processing\n",
    "\n",
    "\n",
    "## Notes\n",
    "1. Using Polars framwork instead of pandas\n",
    "2. Using interactive plots (e.g. Plotly) for visualisations\n",
    "3. Write clear insights after every section of the analysis\n",
    "4. Using well-written and documented utility functions"
   ]
  },
  {
   "cell_type": "markdown",
   "metadata": {},
   "source": [
    "# Imports"
   ]
  },
  {
   "cell_type": "code",
   "execution_count": 1,
   "metadata": {},
   "outputs": [],
   "source": [
    "%load_ext autoreload\n",
    "%autoreload 2"
   ]
  },
  {
   "cell_type": "code",
   "execution_count": 3,
   "metadata": {},
   "outputs": [],
   "source": [
    "import sys, os\n",
    "import plotly.io as pio\n",
    "\n",
    "# Path needs to be added manually to read from another folder\n",
    "path2add = os.path.normpath(os.path.abspath(os.path.join(os.path.dirname('__file__'), os.path.pardir, 'utils')))\n",
    "if (not (path2add in sys.path)) :\n",
    "    sys.path.append(path2add)\n",
    "    \n",
    "import polars as pl\n",
    "import plotly.express as px\n",
    "from visualisations import bar_plot, proportion_plot, boxplot_by_bin_with_target\n",
    "# etc\n",
    "\n",
    "pio.renderers.default='notebook'"
   ]
  },
  {
   "cell_type": "code",
   "execution_count": 4,
   "metadata": {},
   "outputs": [],
   "source": [
    "import pandas as pd\n",
    "data = pd.read_parquet(\"../data/supervised_clean_data.parquet\")"
   ]
  },
  {
   "cell_type": "code",
   "execution_count": 5,
   "metadata": {},
   "outputs": [
    {
     "data": {
      "text/html": [
       "<div>\n",
       "<style scoped>\n",
       "    .dataframe tbody tr th:only-of-type {\n",
       "        vertical-align: middle;\n",
       "    }\n",
       "\n",
       "    .dataframe tbody tr th {\n",
       "        vertical-align: top;\n",
       "    }\n",
       "\n",
       "    .dataframe thead th {\n",
       "        text-align: right;\n",
       "    }\n",
       "</style>\n",
       "<table border=\"1\" class=\"dataframe\">\n",
       "  <thead>\n",
       "    <tr style=\"text-align: right;\">\n",
       "      <th></th>\n",
       "      <th></th>\n",
       "      <th>_id</th>\n",
       "      <th>inter_api_access_duration(sec)</th>\n",
       "      <th>api_access_uniqueness</th>\n",
       "      <th>sequence_length(count)</th>\n",
       "      <th>vsession_duration(min)</th>\n",
       "      <th>ip_type</th>\n",
       "      <th>num_sessions</th>\n",
       "      <th>num_users</th>\n",
       "      <th>num_unique_apis</th>\n",
       "      <th>source</th>\n",
       "      <th>classification</th>\n",
       "      <th>is_anomaly</th>\n",
       "    </tr>\n",
       "  </thead>\n",
       "  <tbody>\n",
       "    <tr>\n",
       "      <th>0</th>\n",
       "      <td>0</td>\n",
       "      <td>1f2c32d8-2d6e-3b68-bc46-789469f2b71e</td>\n",
       "      <td>0.000812</td>\n",
       "      <td>0.004066</td>\n",
       "      <td>85.643243</td>\n",
       "      <td>5405</td>\n",
       "      <td>default</td>\n",
       "      <td>1460.0</td>\n",
       "      <td>1295.0</td>\n",
       "      <td>451.0</td>\n",
       "      <td>E</td>\n",
       "      <td>normal</td>\n",
       "      <td>False</td>\n",
       "    </tr>\n",
       "    <tr>\n",
       "      <th>1</th>\n",
       "      <td>1</td>\n",
       "      <td>4c486414-d4f5-33f6-b485-24a8ed2925e8</td>\n",
       "      <td>0.000063</td>\n",
       "      <td>0.002211</td>\n",
       "      <td>16.166805</td>\n",
       "      <td>519</td>\n",
       "      <td>default</td>\n",
       "      <td>9299.0</td>\n",
       "      <td>8447.0</td>\n",
       "      <td>302.0</td>\n",
       "      <td>E</td>\n",
       "      <td>normal</td>\n",
       "      <td>False</td>\n",
       "    </tr>\n",
       "    <tr>\n",
       "      <th>2</th>\n",
       "      <td>2</td>\n",
       "      <td>7e5838fc-bce1-371f-a3ac-d8a0b2a05d9a</td>\n",
       "      <td>0.004481</td>\n",
       "      <td>0.015324</td>\n",
       "      <td>99.573276</td>\n",
       "      <td>6211</td>\n",
       "      <td>default</td>\n",
       "      <td>255.0</td>\n",
       "      <td>232.0</td>\n",
       "      <td>354.0</td>\n",
       "      <td>E</td>\n",
       "      <td>normal</td>\n",
       "      <td>False</td>\n",
       "    </tr>\n",
       "    <tr>\n",
       "      <th>3</th>\n",
       "      <td>3</td>\n",
       "      <td>82661ecd-d87f-3dff-855e-378f7cb6d912</td>\n",
       "      <td>0.017837</td>\n",
       "      <td>0.014974</td>\n",
       "      <td>69.792793</td>\n",
       "      <td>8292</td>\n",
       "      <td>default</td>\n",
       "      <td>195.0</td>\n",
       "      <td>111.0</td>\n",
       "      <td>116.0</td>\n",
       "      <td>E</td>\n",
       "      <td>normal</td>\n",
       "      <td>False</td>\n",
       "    </tr>\n",
       "    <tr>\n",
       "      <th>4</th>\n",
       "      <td>4</td>\n",
       "      <td>d62d56ea-775e-328c-8b08-db7ad7f834e5</td>\n",
       "      <td>0.000797</td>\n",
       "      <td>0.006056</td>\n",
       "      <td>14.952756</td>\n",
       "      <td>182</td>\n",
       "      <td>default</td>\n",
       "      <td>272.0</td>\n",
       "      <td>254.0</td>\n",
       "      <td>23.0</td>\n",
       "      <td>E</td>\n",
       "      <td>normal</td>\n",
       "      <td>False</td>\n",
       "    </tr>\n",
       "  </tbody>\n",
       "</table>\n",
       "</div>"
      ],
      "text/plain": [
       "                                       _id  inter_api_access_duration(sec)  \\\n",
       "0  0  1f2c32d8-2d6e-3b68-bc46-789469f2b71e                        0.000812   \n",
       "1  1  4c486414-d4f5-33f6-b485-24a8ed2925e8                        0.000063   \n",
       "2  2  7e5838fc-bce1-371f-a3ac-d8a0b2a05d9a                        0.004481   \n",
       "3  3  82661ecd-d87f-3dff-855e-378f7cb6d912                        0.017837   \n",
       "4  4  d62d56ea-775e-328c-8b08-db7ad7f834e5                        0.000797   \n",
       "\n",
       "   api_access_uniqueness  sequence_length(count)  vsession_duration(min)  \\\n",
       "0               0.004066               85.643243                    5405   \n",
       "1               0.002211               16.166805                     519   \n",
       "2               0.015324               99.573276                    6211   \n",
       "3               0.014974               69.792793                    8292   \n",
       "4               0.006056               14.952756                     182   \n",
       "\n",
       "   ip_type  num_sessions  num_users  num_unique_apis source classification  \\\n",
       "0  default        1460.0     1295.0            451.0      E         normal   \n",
       "1  default        9299.0     8447.0            302.0      E         normal   \n",
       "2  default         255.0      232.0            354.0      E         normal   \n",
       "3  default         195.0      111.0            116.0      E         normal   \n",
       "4  default         272.0      254.0             23.0      E         normal   \n",
       "\n",
       "   is_anomaly  \n",
       "0       False  \n",
       "1       False  \n",
       "2       False  \n",
       "3       False  \n",
       "4       False  "
      ]
     },
     "execution_count": 5,
     "metadata": {},
     "output_type": "execute_result"
    }
   ],
   "source": [
    "data.head()"
   ]
  },
  {
   "cell_type": "code",
   "execution_count": 6,
   "metadata": {},
   "outputs": [
    {
     "data": {
      "text/plain": [
       "(1695, 13)"
      ]
     },
     "execution_count": 6,
     "metadata": {},
     "output_type": "execute_result"
    }
   ],
   "source": [
    "data.shape"
   ]
  },
  {
   "cell_type": "code",
   "execution_count": 7,
   "metadata": {},
   "outputs": [
    {
     "data": {
      "text/plain": [
       "<bound method DataFrame.info of                                              _id  \\\n",
       "0        0  1f2c32d8-2d6e-3b68-bc46-789469f2b71e   \n",
       "1        1  4c486414-d4f5-33f6-b485-24a8ed2925e8   \n",
       "2        2  7e5838fc-bce1-371f-a3ac-d8a0b2a05d9a   \n",
       "3        3  82661ecd-d87f-3dff-855e-378f7cb6d912   \n",
       "4        4  d62d56ea-775e-328c-8b08-db7ad7f834e5   \n",
       "...    ...                                   ...   \n",
       "1690  1694  3653d165-4b93-346b-9543-f1d4f5bf4831   \n",
       "1691  1695  44356d09-52e9-321e-9ec1-630e582bfe53   \n",
       "1692  1696  0ecdc692-df55-3990-815e-a30f1ee63f5f   \n",
       "1693  1697  468a84b3-2885-30d6-b1a8-6cf2e44577cd   \n",
       "1694  1698  2854b436-7d8b-3f2c-8139-3340ad2cd45a   \n",
       "\n",
       "      inter_api_access_duration(sec)  api_access_uniqueness  \\\n",
       "0                           0.000812               0.004066   \n",
       "1                           0.000063               0.002211   \n",
       "2                           0.004481               0.015324   \n",
       "3                           0.017837               0.014974   \n",
       "4                           0.000797               0.006056   \n",
       "...                              ...                    ...   \n",
       "1690                       45.603433               0.800000   \n",
       "1691                      852.929250               0.500000   \n",
       "1692                       59.243000               0.800000   \n",
       "1693                        0.754000               0.666667   \n",
       "1694                       66.934857               0.428571   \n",
       "\n",
       "      sequence_length(count)  vsession_duration(min)     ip_type  \\\n",
       "0                  85.643243                    5405     default   \n",
       "1                  16.166805                     519     default   \n",
       "2                  99.573276                    6211     default   \n",
       "3                  69.792793                    8292     default   \n",
       "4                  14.952756                     182     default   \n",
       "...                      ...                     ...         ...   \n",
       "1690               15.000000                   41044  datacenter   \n",
       "1691                2.000000                  102352  datacenter   \n",
       "1692                5.000000                   17773  datacenter   \n",
       "1693                3.000000                     136  datacenter   \n",
       "1694                7.000000                   28113  datacenter   \n",
       "\n",
       "      num_sessions  num_users  num_unique_apis source classification  \\\n",
       "0           1460.0     1295.0            451.0      E         normal   \n",
       "1           9299.0     8447.0            302.0      E         normal   \n",
       "2            255.0      232.0            354.0      E         normal   \n",
       "3            195.0      111.0            116.0      E         normal   \n",
       "4            272.0      254.0             23.0      E         normal   \n",
       "...            ...        ...              ...    ...            ...   \n",
       "1690           2.0        1.0             12.0      F        outlier   \n",
       "1691           2.0        1.0              1.0      F        outlier   \n",
       "1692           3.0        1.0              4.0      F        outlier   \n",
       "1693           2.0        1.0              2.0      F        outlier   \n",
       "1694           3.0        1.0              3.0      F        outlier   \n",
       "\n",
       "      is_anomaly  \n",
       "0          False  \n",
       "1          False  \n",
       "2          False  \n",
       "3          False  \n",
       "4          False  \n",
       "...          ...  \n",
       "1690        True  \n",
       "1691        True  \n",
       "1692        True  \n",
       "1693        True  \n",
       "1694        True  \n",
       "\n",
       "[1695 rows x 13 columns]>"
      ]
     },
     "execution_count": 7,
     "metadata": {},
     "output_type": "execute_result"
    }
   ],
   "source": [
    "data.info"
   ]
  },
  {
   "cell_type": "code",
   "execution_count": 8,
   "metadata": {},
   "outputs": [
    {
     "data": {
      "text/plain": [
       "                                  0\n",
       "_id                               0\n",
       "inter_api_access_duration(sec)    0\n",
       "api_access_uniqueness             0\n",
       "sequence_length(count)            0\n",
       "vsession_duration(min)            0\n",
       "ip_type                           0\n",
       "num_sessions                      0\n",
       "num_users                         0\n",
       "num_unique_apis                   0\n",
       "source                            0\n",
       "classification                    0\n",
       "is_anomaly                        0\n",
       "dtype: int64"
      ]
     },
     "execution_count": 8,
     "metadata": {},
     "output_type": "execute_result"
    }
   ],
   "source": [
    "data.isna().sum()"
   ]
  },
  {
   "cell_type": "code",
   "execution_count": 9,
   "metadata": {},
   "outputs": [
    {
     "name": "stdout",
     "output_type": "stream",
     "text": [
      "(1695, 13)\n"
     ]
    },
    {
     "data": {
      "text/html": [
       "<div><style>\n",
       ".dataframe > thead > tr,\n",
       ".dataframe > tbody > tr {\n",
       "  text-align: right;\n",
       "  white-space: pre-wrap;\n",
       "}\n",
       "</style>\n",
       "<small>shape: (5, 13)</small><table border=\"1\" class=\"dataframe\"><thead><tr><th></th><th>_id</th><th>inter_api_access_duration(sec)</th><th>api_access_uniqueness</th><th>sequence_length(count)</th><th>vsession_duration(min)</th><th>ip_type</th><th>num_sessions</th><th>num_users</th><th>num_unique_apis</th><th>source</th><th>classification</th><th>is_anomaly</th></tr><tr><td>i64</td><td>str</td><td>f64</td><td>f64</td><td>f64</td><td>i64</td><td>str</td><td>f64</td><td>f64</td><td>f64</td><td>str</td><td>str</td><td>bool</td></tr></thead><tbody><tr><td>0</td><td>&quot;1f2c32d8-2d6e-3b68-bc46-789469…</td><td>0.000812</td><td>0.004066</td><td>85.643243</td><td>5405</td><td>&quot;default&quot;</td><td>1460.0</td><td>1295.0</td><td>451.0</td><td>&quot;E&quot;</td><td>&quot;normal&quot;</td><td>false</td></tr><tr><td>1</td><td>&quot;4c486414-d4f5-33f6-b485-24a8ed…</td><td>0.000063</td><td>0.002211</td><td>16.166805</td><td>519</td><td>&quot;default&quot;</td><td>9299.0</td><td>8447.0</td><td>302.0</td><td>&quot;E&quot;</td><td>&quot;normal&quot;</td><td>false</td></tr><tr><td>2</td><td>&quot;7e5838fc-bce1-371f-a3ac-d8a0b2…</td><td>0.004481</td><td>0.015324</td><td>99.573276</td><td>6211</td><td>&quot;default&quot;</td><td>255.0</td><td>232.0</td><td>354.0</td><td>&quot;E&quot;</td><td>&quot;normal&quot;</td><td>false</td></tr><tr><td>3</td><td>&quot;82661ecd-d87f-3dff-855e-378f7c…</td><td>0.017837</td><td>0.014974</td><td>69.792793</td><td>8292</td><td>&quot;default&quot;</td><td>195.0</td><td>111.0</td><td>116.0</td><td>&quot;E&quot;</td><td>&quot;normal&quot;</td><td>false</td></tr><tr><td>4</td><td>&quot;d62d56ea-775e-328c-8b08-db7ad7…</td><td>0.000797</td><td>0.006056</td><td>14.952756</td><td>182</td><td>&quot;default&quot;</td><td>272.0</td><td>254.0</td><td>23.0</td><td>&quot;E&quot;</td><td>&quot;normal&quot;</td><td>false</td></tr></tbody></table></div>"
      ],
      "text/plain": [
       "shape: (5, 13)\n",
       "┌─────┬─────────────┬─────────────┬────────────┬───┬────────────┬────────┬────────────┬────────────┐\n",
       "│     ┆ _id         ┆ inter_api_a ┆ api_access ┆ … ┆ num_unique ┆ source ┆ classifica ┆ is_anomaly │\n",
       "│ --- ┆ ---         ┆ ccess_durat ┆ _uniquenes ┆   ┆ _apis      ┆ ---    ┆ tion       ┆ ---        │\n",
       "│ i64 ┆ str         ┆ ion(sec)    ┆ s          ┆   ┆ ---        ┆ str    ┆ ---        ┆ bool       │\n",
       "│     ┆             ┆ ---         ┆ ---        ┆   ┆ f64        ┆        ┆ str        ┆            │\n",
       "│     ┆             ┆ f64         ┆ f64        ┆   ┆            ┆        ┆            ┆            │\n",
       "╞═════╪═════════════╪═════════════╪════════════╪═══╪════════════╪════════╪════════════╪════════════╡\n",
       "│ 0   ┆ 1f2c32d8-2d ┆ 0.000812    ┆ 0.004066   ┆ … ┆ 451.0      ┆ E      ┆ normal     ┆ false      │\n",
       "│     ┆ 6e-3b68-bc4 ┆             ┆            ┆   ┆            ┆        ┆            ┆            │\n",
       "│     ┆ 6-789469…   ┆             ┆            ┆   ┆            ┆        ┆            ┆            │\n",
       "│ 1   ┆ 4c486414-d4 ┆ 0.000063    ┆ 0.002211   ┆ … ┆ 302.0      ┆ E      ┆ normal     ┆ false      │\n",
       "│     ┆ f5-33f6-b48 ┆             ┆            ┆   ┆            ┆        ┆            ┆            │\n",
       "│     ┆ 5-24a8ed…   ┆             ┆            ┆   ┆            ┆        ┆            ┆            │\n",
       "│ 2   ┆ 7e5838fc-bc ┆ 0.004481    ┆ 0.015324   ┆ … ┆ 354.0      ┆ E      ┆ normal     ┆ false      │\n",
       "│     ┆ e1-371f-a3a ┆             ┆            ┆   ┆            ┆        ┆            ┆            │\n",
       "│     ┆ c-d8a0b2…   ┆             ┆            ┆   ┆            ┆        ┆            ┆            │\n",
       "│ 3   ┆ 82661ecd-d8 ┆ 0.017837    ┆ 0.014974   ┆ … ┆ 116.0      ┆ E      ┆ normal     ┆ false      │\n",
       "│     ┆ 7f-3dff-855 ┆             ┆            ┆   ┆            ┆        ┆            ┆            │\n",
       "│     ┆ e-378f7c…   ┆             ┆            ┆   ┆            ┆        ┆            ┆            │\n",
       "│ 4   ┆ d62d56ea-77 ┆ 0.000797    ┆ 0.006056   ┆ … ┆ 23.0       ┆ E      ┆ normal     ┆ false      │\n",
       "│     ┆ 5e-328c-8b0 ┆             ┆            ┆   ┆            ┆        ┆            ┆            │\n",
       "│     ┆ 8-db7ad7…   ┆             ┆            ┆   ┆            ┆        ┆            ┆            │\n",
       "└─────┴─────────────┴─────────────┴────────────┴───┴────────────┴────────┴────────────┴────────────┘"
      ]
     },
     "execution_count": 9,
     "metadata": {},
     "output_type": "execute_result"
    }
   ],
   "source": [
    "data = pl.read_parquet(\"../data/supervised_clean_data.parquet\")\n",
    "print(data.shape)\n",
    "data.head()"
   ]
  },
  {
   "cell_type": "code",
   "execution_count": 10,
   "metadata": {},
   "outputs": [
    {
     "data": {
      "text/html": [
       "<div><style>\n",
       ".dataframe > thead > tr,\n",
       ".dataframe > tbody > tr {\n",
       "  text-align: right;\n",
       "  white-space: pre-wrap;\n",
       "}\n",
       "</style>\n",
       "<small>shape: (2,)</small><table border=\"1\" class=\"dataframe\"><thead><tr><th>ip_type</th></tr><tr><td>str</td></tr></thead><tbody><tr><td>&quot;default&quot;</td></tr><tr><td>&quot;datacenter&quot;</td></tr></tbody></table></div>"
      ],
      "text/plain": [
       "shape: (2,)\n",
       "Series: 'ip_type' [str]\n",
       "[\n",
       "\t\"default\"\n",
       "\t\"datacenter\"\n",
       "]"
      ]
     },
     "execution_count": 10,
     "metadata": {},
     "output_type": "execute_result"
    }
   ],
   "source": [
    "data['ip_type'].unique()"
   ]
  },
  {
   "cell_type": "code",
   "execution_count": null,
   "metadata": {},
   "outputs": [],
   "source": []
  }
 ],
 "metadata": {
  "kernelspec": {
   "display_name": ".venv",
   "language": "python",
   "name": "python3"
  },
  "language_info": {
   "codemirror_mode": {
    "name": "ipython",
    "version": 3
   },
   "file_extension": ".py",
   "mimetype": "text/x-python",
   "name": "python",
   "nbconvert_exporter": "python",
   "pygments_lexer": "ipython3",
   "version": "3.12.5"
  }
 },
 "nbformat": 4,
 "nbformat_minor": 2
}
